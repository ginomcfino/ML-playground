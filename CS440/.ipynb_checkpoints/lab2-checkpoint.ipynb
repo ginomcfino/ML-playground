{
 "cells": [
  {
   "cell_type": "markdown",
   "metadata": {},
   "source": [
    "<font size=\"5\"> Import Numpy </font>\n",
    "<br>\n",
    "<br>\n",
    "To load the Numpy module, we need to at first import numpy and as a convention, we may give it a short name, np."
   ]
  },
  {
   "cell_type": "code",
   "execution_count": 1,
   "metadata": {},
   "outputs": [],
   "source": [
    "import numpy as np"
   ]
  },
  {
   "cell_type": "markdown",
   "metadata": {},
   "source": [
    "<br>\n",
    "<br>\n",
    "<br>\n",
    "<font size=\"5\"> Declaration of a Numpy array </font>"
   ]
  },
  {
   "cell_type": "code",
   "execution_count": 2,
   "metadata": {},
   "outputs": [],
   "source": [
    "a = [[1,2,3],[4,5,6]]\n",
    "np_a = np.array(a)"
   ]
  },
  {
   "cell_type": "code",
   "execution_count": 3,
   "metadata": {},
   "outputs": [
    {
     "name": "stdout",
     "output_type": "stream",
     "text": [
      "======================\n",
      "original array:\n",
      "[[1, 2, 3], [4, 5, 6]]\n",
      "======================\n",
      "numpy array:\n",
      "[[1 2 3]\n",
      " [4 5 6]]\n",
      "======================\n",
      "shape of the array:\n",
      "(2, 3)\n",
      "======================\n",
      "datatype of the array:\n",
      "int64\n",
      "======================\n",
      "size of the array:\n",
      "6\n",
      "======================\n",
      "number of dimensions of the array:\n",
      "2\n",
      "======================\n",
      "transposed array:\n",
      "[[1 4]\n",
      " [2 5]\n",
      " [3 6]]\n"
     ]
    }
   ],
   "source": [
    "print(\"======================\")\n",
    "print(\"original array:\")\n",
    "print(a)\n",
    "print(\"======================\")\n",
    "print(\"numpy array:\")\n",
    "print(np_a)\n",
    "print(\"======================\")\n",
    "print(\"shape of the array:\")\n",
    "print(np_a.shape)\n",
    "print(\"======================\")\n",
    "print(\"datatype of the array:\")\n",
    "print(np_a.dtype)\n",
    "print(\"======================\")\n",
    "print(\"size of the array:\")\n",
    "print(np_a.size)\n",
    "print(\"======================\")\n",
    "print(\"number of dimensions of the array:\")\n",
    "print(np_a.ndim)\n",
    "print(\"======================\")\n",
    "print(\"transposed array:\")\n",
    "print(np_a.T)\n"
   ]
  },
  {
   "cell_type": "markdown",
   "metadata": {},
   "source": [
    "<br>\n",
    "<br>\n",
    "<br>\n",
    "<font size=\"5\"> Operation on Numpy array </font>"
   ]
  },
  {
   "cell_type": "code",
   "execution_count": 4,
   "metadata": {},
   "outputs": [
    {
     "name": "stdout",
     "output_type": "stream",
     "text": [
      "======================\n",
      "np_a:\n",
      "[[1 2 3]\n",
      " [4 5 6]]\n",
      "======================\n",
      "np_b:\n",
      "[[2 1 6]\n",
      " [2 2 9]]\n",
      "======================\n",
      "np_c:\n",
      "[3 2 1]\n"
     ]
    }
   ],
   "source": [
    "a = [[1,2,3],[4,5,6]]\n",
    "np_a = np.array(a)\n",
    "b = [[2,1,6],[2,2,9]]\n",
    "np_b = np.array(b)\n",
    "c = [3,2,1]\n",
    "np_c = np.array(c)\n",
    "print(\"======================\")\n",
    "print(\"np_a:\")\n",
    "print(np_a)\n",
    "print(\"======================\")\n",
    "print(\"np_b:\")\n",
    "print(np_b)\n",
    "print(\"======================\")\n",
    "print(\"np_c:\")\n",
    "print(np_c)\n"
   ]
  },
  {
   "cell_type": "code",
   "execution_count": 5,
   "metadata": {},
   "outputs": [
    {
     "name": "stdout",
     "output_type": "stream",
     "text": [
      "======================\n",
      "np_a + np_b:\n",
      "[[ 3  3  9]\n",
      " [ 6  7 15]]\n",
      "======================\n",
      "np_a + np_c (broadcasting):\n",
      "[[4 4 4]\n",
      " [7 7 7]]\n",
      "======================\n",
      "sum up np_a array:\n",
      "21\n",
      "======================\n",
      "sum up np_a array along the dimension 0:\n",
      "[5 7 9]\n",
      "======================\n",
      "sum up np_a array along the dimension 1:\n",
      "[ 6 15]\n"
     ]
    }
   ],
   "source": [
    "print(\"======================\")\n",
    "print(\"np_a + np_b:\")\n",
    "print(np_a + np_b)\n",
    "print(\"======================\")\n",
    "print(\"np_a + np_c (broadcasting):\")\n",
    "print(np_a + np_c)\n",
    "print(\"======================\")\n",
    "print(\"sum up np_a array:\")\n",
    "print(np.sum(np_a))\n",
    "print(\"======================\")\n",
    "print(\"sum up np_a array along the dimension 0:\")\n",
    "print(np.sum(np_a, axis=0))\n",
    "print(\"======================\")\n",
    "print(\"sum up np_a array along the dimension 1:\")\n",
    "print(np.sum(np_a, axis=1))\n"
   ]
  },
  {
   "cell_type": "code",
   "execution_count": 6,
   "metadata": {},
   "outputs": [
    {
     "name": "stdout",
     "output_type": "stream",
     "text": [
      "======================\n",
      "multiply np_a with np_c:\n",
      "[10 28]\n",
      "======================\n",
      "multiply np_a with a scalar 4:\n",
      "[[ 4  8 12]\n",
      " [16 20 24]]\n",
      "======================\n",
      "element-wise multiplication between np_a and np_b:\n",
      "[[ 2  2 18]\n",
      " [ 8 10 54]]\n",
      "======================\n",
      "take the exponential of each element in np_a:\n",
      "[[  2.71828183   7.3890561   20.08553692]\n",
      " [ 54.59815003 148.4131591  403.42879349]]\n",
      "equivalent to np.power(np.e, np_a):\n",
      "[[  2.71828183   7.3890561   20.08553692]\n",
      " [ 54.59815003 148.4131591  403.42879349]]\n"
     ]
    }
   ],
   "source": [
    "print(\"======================\")\n",
    "print(\"multiply np_a with np_c:\")\n",
    "print(np.matmul(np_a, np_c))\n",
    "print(\"======================\")\n",
    "print(\"multiply np_a with a scalar 4:\")\n",
    "print(np_a * 4)\n",
    "print(\"======================\")\n",
    "print(\"element-wise multiplication between np_a and np_b:\")\n",
    "print(np.multiply(np_a, np_b))\n",
    "print(\"======================\")\n",
    "print(\"take the exponential of each element in np_a:\")\n",
    "print(np.exp(np_a))\n",
    "print(\"equivalent to np.power(np.e, np_a):\")\n",
    "print(np.power(np.e, np_a))"
   ]
  },
  {
   "cell_type": "code",
   "execution_count": 7,
   "metadata": {},
   "outputs": [
    {
     "name": "stdout",
     "output_type": "stream",
     "text": [
      "======================\n",
      "minimun number of np_a:\n",
      "1\n",
      "======================\n",
      "minimun number of np_a along the dimension 0:\n",
      "[1 2 3]\n",
      "======================\n",
      "minimun number of np_a along the dimension 1:\n",
      "[1 4]\n"
     ]
    }
   ],
   "source": [
    "print(\"======================\")\n",
    "print(\"minimun number of np_a:\")\n",
    "print(np.min(np_a))\n",
    "print(\"======================\")\n",
    "print(\"minimun number of np_a along the dimension 0:\")\n",
    "print(np.min(np_a, axis=0))\n",
    "print(\"======================\")\n",
    "print(\"minimun number of np_a along the dimension 1:\")\n",
    "print(np.min(np_a, axis=1))\n"
   ]
  },
  {
   "cell_type": "code",
   "execution_count": 8,
   "metadata": {},
   "outputs": [
    {
     "name": "stdout",
     "output_type": "stream",
     "text": [
      "======================\n",
      "np_a:\n",
      "[[1 2 3]\n",
      " [4 5 6]]\n",
      "======================\n",
      "select few elements from np_a:\n",
      "[[5 6]]\n",
      "======================\n",
      "select a row from np_a:\n",
      "[4 5 6]\n",
      "======================\n",
      "select a column from np_a:\n",
      "[3 6]\n"
     ]
    }
   ],
   "source": [
    "print(\"======================\")\n",
    "print(\"np_a:\")\n",
    "print(np_a)\n",
    "print(\"======================\")\n",
    "print(\"select few elements from np_a:\")\n",
    "print(np_a[1:2,1:3])\n",
    "print(\"======================\")\n",
    "print(\"select a row from np_a:\")\n",
    "print(np_a[1,:])\n",
    "print(\"======================\")\n",
    "print(\"select a column from np_a:\")\n",
    "print(np_a[:,2])\n"
   ]
  },
  {
   "cell_type": "code",
   "execution_count": 9,
   "metadata": {},
   "outputs": [
    {
     "name": "stdout",
     "output_type": "stream",
     "text": [
      "======================\n",
      "multiply np_a with np_b transposed:\n",
      "[[22 33]\n",
      " [49 72]]\n",
      "======================\n",
      "multiply np_b with np_a transposed:\n",
      "[[22 49]\n",
      " [33 72]]\n",
      "======================\n",
      "multiply np_a transposed with np_b:\n",
      "[[10  9 42]\n",
      " [14 12 57]\n",
      " [18 15 72]]\n"
     ]
    }
   ],
   "source": [
    "print(\"======================\")\n",
    "print(\"multiply np_a with np_b transposed:\")\n",
    "print(np.matmul(np_a,np_b.T))\n",
    "print(\"======================\")\n",
    "print(\"multiply np_b with np_a transposed:\")\n",
    "print(np.matmul(np_b,np_a.T))\n",
    "print(\"======================\")\n",
    "print(\"multiply np_a transposed with np_b:\")\n",
    "print(np.matmul(np_a.T,np_b))\n"
   ]
  },
  {
   "cell_type": "code",
   "execution_count": 10,
   "metadata": {},
   "outputs": [
    {
     "name": "stdout",
     "output_type": "stream",
     "text": [
      "======================\n",
      "a:\n",
      "[[1 2 3]\n",
      " [3 2 1]]\n",
      "b:\n",
      "[[1 2 3]]\n",
      "a+b:\n",
      "[[2 4 6]\n",
      " [4 4 4]]\n",
      "======================\n",
      "a:\n",
      "[[1 2 3]\n",
      " [3 2 1]]\n",
      "b:\n",
      "[[1]\n",
      " [2]]\n",
      "a+b:\n",
      "[[2 3 4]\n",
      " [5 4 3]]\n",
      "======================\n",
      "a:\n",
      "[[1 2 3]]\n",
      "b:\n",
      "[[1]\n",
      " [2]]\n",
      "a+b:\n",
      "[[2 3 4]\n",
      " [3 4 5]]\n"
     ]
    }
   ],
   "source": [
    "print(\"======================\")\n",
    "a = np.array([[1,2,3],[3,2,1]])\n",
    "b = np.array([[1,2,3]])\n",
    "print(\"a:\")\n",
    "print(a)\n",
    "print(\"b:\")\n",
    "print(b)\n",
    "print(\"a+b:\")\n",
    "print(a+b)\n",
    "\n",
    "print(\"======================\")\n",
    "a = np.array([[1,2,3],[3,2,1]])\n",
    "b = np.array([[1],[2]])\n",
    "print(\"a:\")\n",
    "print(a)\n",
    "print(\"b:\")\n",
    "print(b)\n",
    "print(\"a+b:\")\n",
    "print(a+b)\n",
    "\n",
    "print(\"======================\")\n",
    "a = np.array([[1,2,3]])\n",
    "b = np.array([[1],[2]])\n",
    "print(\"a:\")\n",
    "print(a)\n",
    "print(\"b:\")\n",
    "print(b)\n",
    "print(\"a+b:\")\n",
    "print(a+b)\n"
   ]
  },
  {
   "cell_type": "markdown",
   "metadata": {},
   "source": [
    "<br>\n",
    "<br>\n",
    "<br>\n",
    "<font size=\"5\"> Iterating over an array </font>"
   ]
  },
  {
   "cell_type": "code",
   "execution_count": 11,
   "metadata": {},
   "outputs": [
    {
     "name": "stdout",
     "output_type": "stream",
     "text": [
      "a:\n",
      "[[1 2 3]\n",
      " [4 5 6]]\n"
     ]
    }
   ],
   "source": [
    "a = np.array([[1,2,3],[4,5,6]])\n",
    "print(\"a:\")\n",
    "print(a)"
   ]
  },
  {
   "cell_type": "code",
   "execution_count": 12,
   "metadata": {},
   "outputs": [
    {
     "name": "stdout",
     "output_type": "stream",
     "text": [
      "<numpy.flatiter object at 0x7fae621bbc00>\n",
      "[1, 2, 3, 4, 5, 6]\n",
      "1\n",
      "2\n",
      "3\n",
      "4\n",
      "5\n",
      "6\n"
     ]
    }
   ],
   "source": [
    "print(a.flat)\n",
    "print(list(a.flat))\n",
    "for e in a.flat:\n",
    "    print(e)"
   ]
  },
  {
   "cell_type": "code",
   "execution_count": 13,
   "metadata": {},
   "outputs": [
    {
     "name": "stdout",
     "output_type": "stream",
     "text": [
      "[1 2 3]\n",
      "[4 5 6]\n"
     ]
    }
   ],
   "source": [
    "for row in a:\n",
    "    print(row)\n",
    "    "
   ]
  },
  {
   "cell_type": "code",
   "execution_count": 14,
   "metadata": {},
   "outputs": [
    {
     "name": "stdout",
     "output_type": "stream",
     "text": [
      "1\n",
      "2\n",
      "3\n",
      "4\n",
      "5\n",
      "6\n"
     ]
    }
   ],
   "source": [
    "for row in a:\n",
    "    for column in row:\n",
    "        print(column)"
   ]
  },
  {
   "cell_type": "code",
   "execution_count": 17,
   "metadata": {},
   "outputs": [
    {
     "name": "stdout",
     "output_type": "stream",
     "text": [
      "2\n",
      "3\n"
     ]
    }
   ],
   "source": [
    "print(a.shape[0])\n",
    "print(a.shape[1])"
   ]
  },
  {
   "cell_type": "code",
   "execution_count": 18,
   "metadata": {},
   "outputs": [
    {
     "name": "stdout",
     "output_type": "stream",
     "text": [
      "1\n",
      "2\n",
      "3\n",
      "4\n",
      "5\n",
      "6\n"
     ]
    }
   ],
   "source": [
    "for i in range(a.shape[0]):\n",
    "    for j in range(a.shape[1]):\n",
    "        print(a[i,j])"
   ]
  },
  {
   "cell_type": "markdown",
   "metadata": {},
   "source": [
    "<br>\n",
    "<br>\n",
    "<br>\n",
    "<font size=\"5\"> Reshaping an array </font>"
   ]
  },
  {
   "cell_type": "code",
   "execution_count": 21,
   "metadata": {
    "scrolled": true
   },
   "outputs": [
    {
     "name": "stdout",
     "output_type": "stream",
     "text": [
      "======================\n",
      "matrix np_a:\n",
      "[[1 2 3 4]\n",
      " [3 4 5 6]\n",
      " [5 6 7 8]]\n",
      "======================\n",
      "np_a reshaped to (2,6):\n",
      "[[1 2 3 4 3 4]\n",
      " [5 6 5 6 7 8]]\n",
      "======================\n",
      "np_a resized to (5,5):\n",
      "[[1 2 3 4 3]\n",
      " [4 5 6 5 6]\n",
      " [7 8 0 0 0]\n",
      " [0 0 0 0 0]\n",
      " [0 0 0 0 0]]\n"
     ]
    }
   ],
   "source": [
    "np_a = np.array([[1,2,3,4],[3,4,5,6],[5,6,7,8]])\n",
    "print(\"======================\")\n",
    "print(\"matrix np_a:\")\n",
    "print(np_a)\n",
    "print(\"======================\")\n",
    "print(\"np_a reshaped to (2,6):\")\n",
    "print(np_a.reshape(2,6))\n",
    "# print(\"======================\")\n",
    "# print(\"np_a resized to (2,3):\")\n",
    "# np_a.resize(2,3)\n",
    "# print(np_a)\n",
    "print(\"======================\")\n",
    "print(\"np_a resized to (5,5):\")\n",
    "np_a.resize(5,5)\n",
    "print(np_a)\n"
   ]
  },
  {
   "cell_type": "markdown",
   "metadata": {},
   "source": [
    "<br>\n",
    "<br>\n",
    "<br>\n",
    "<font size=\"5\"> Linear Algebra </font>"
   ]
  },
  {
   "cell_type": "code",
   "execution_count": 25,
   "metadata": {},
   "outputs": [
    {
     "name": "stdout",
     "output_type": "stream",
     "text": [
      "======================\n",
      "np_a:\n",
      "[[1 2 3]\n",
      " [4 5 6]]\n",
      "======================\n",
      "np_b:\n",
      "[[2 1 6]\n",
      " [2 2 9]]\n",
      "======================\n",
      "np_a dot np_b:\n",
      "[[22 33]\n",
      " [49 72]]\n",
      "======================\n",
      "np_a matmul np_b:\n",
      "[[22 33]\n",
      " [49 72]]\n",
      "======================\n",
      "norm of np_a:\n",
      "9.539392014169456\n",
      "====================== \n",
      "Given A:\n",
      "[[2 6]\n",
      " [3 3]]\n",
      "and b:\n",
      "[[1]\n",
      " [2]]\n",
      "the solver for Ax=b:\n",
      "[[ 0.75      ]\n",
      " [-0.08333333]]\n",
      "======================\n",
      "Inverse of a matrix A:\n",
      "[[-0.25        0.5       ]\n",
      " [ 0.25       -0.16666667]]\n",
      "======================\n",
      "SVD of A:\n",
      "U:\n",
      "[[-0.84162186 -0.54006726]\n",
      " [-0.54006726  0.84162186]]\n",
      "Sigma:\n",
      "[7.44316852 1.61221662]\n",
      "V:\n",
      "[[-0.44382248 -0.89611473]\n",
      " [ 0.89611473 -0.44382248]]\n"
     ]
    }
   ],
   "source": [
    "a = [[1,2,3],[4,5,6]]\n",
    "np_a = np.array(a)\n",
    "b = [[2,1,6],[2,2,9]]\n",
    "np_b = np.array(b)\n",
    "print(\"======================\")\n",
    "print(\"np_a:\")\n",
    "print(np_a)\n",
    "print(\"======================\")\n",
    "print(\"np_b:\")\n",
    "print(np_b)\n",
    "print(\"======================\")\n",
    "print(\"np_a dot np_b:\")\n",
    "print(np.dot(np_a,np_b.T))\n",
    "print(\"======================\")\n",
    "print(\"np_a matmul np_b:\")\n",
    "print(np.matmul(np_a,np_b.T))\n",
    "print(\"======================\")\n",
    "print(\"norm of np_a:\")\n",
    "print(np.linalg.norm(np_a))\n",
    "print(\"====================== \")\n",
    "print(\"Given A:\")\n",
    "A = np.array([[2,6],[3,3]])\n",
    "print(A)\n",
    "b = np.array([[1],[2]])\n",
    "print(\"and b:\")\n",
    "print(b)\n",
    "print(\"the solver for Ax=b:\")\n",
    "print(np.linalg.solve(A,b))\n",
    "print(\"======================\")\n",
    "print(\"Inverse of a matrix A:\")\n",
    "print(np.linalg.inv(A))\n",
    "print(\"======================\")\n",
    "print(\"SVD of A:\")\n",
    "results = np.linalg.svd(A)\n",
    "print(\"U:\")\n",
    "print(results[0])\n",
    "print(\"Sigma:\")\n",
    "print(results[1])\n",
    "print(\"V:\")\n",
    "print(results[2])\n",
    "\n"
   ]
  },
  {
   "cell_type": "markdown",
   "metadata": {},
   "source": [
    "<br>\n",
    "<br>\n",
    "<br>\n",
    "<font size=\"5\"> Random </font>"
   ]
  },
  {
   "cell_type": "code",
   "execution_count": 26,
   "metadata": {},
   "outputs": [
    {
     "name": "stdout",
     "output_type": "stream",
     "text": [
      "[[4.17022005e-01 7.20324493e-01 1.14374817e-04 3.02332573e-01]\n",
      " [1.46755891e-01 9.23385948e-02 1.86260211e-01 3.45560727e-01]\n",
      " [3.96767474e-01 5.38816734e-01 4.19194514e-01 6.85219500e-01]]\n"
     ]
    }
   ],
   "source": [
    "np.random.seed(1)\n",
    "\n",
    "r1 = np.random.rand(3,4)\n",
    "print(r1)"
   ]
  },
  {
   "cell_type": "code",
   "execution_count": 28,
   "metadata": {},
   "outputs": [
    {
     "name": "stdout",
     "output_type": "stream",
     "text": [
      "[[-1.10061918  1.14472371  0.90159072  0.50249434]\n",
      " [ 0.90085595 -0.68372786 -0.12289023 -0.93576943]\n",
      " [-0.26788808  0.53035547 -0.69166075 -0.39675353]]\n"
     ]
    }
   ],
   "source": [
    "r2 = np.random.randn(3,4)\n",
    "print(r2)"
   ]
  },
  {
   "cell_type": "code",
   "execution_count": 29,
   "metadata": {},
   "outputs": [
    {
     "name": "stdout",
     "output_type": "stream",
     "text": [
      "[[6 4 7]\n",
      " [9 1 3]]\n"
     ]
    }
   ],
   "source": [
    "r3 = np.random.randint(1,10,(2,3))\n",
    "print(r3)"
   ]
  },
  {
   "cell_type": "code",
   "execution_count": 30,
   "metadata": {},
   "outputs": [
    {
     "name": "stdout",
     "output_type": "stream",
     "text": [
      "[ 9  1  7  6  3  5  4  2 10  8]\n"
     ]
    }
   ],
   "source": [
    "a = np.array([1,2,3,4,5,6,7,8,9,10])\n",
    "np.random.shuffle(a)\n",
    "print(a)"
   ]
  },
  {
   "cell_type": "markdown",
   "metadata": {},
   "source": [
    "<br>\n",
    "<br>\n",
    "<br>\n",
    "<font size=\"5\"> Matplotlib: 2D plots </font>"
   ]
  },
  {
   "cell_type": "code",
   "execution_count": 33,
   "metadata": {},
   "outputs": [
    {
     "data": {
      "image/png": "[encoded data removed]",
      "text/plain": [
       "<Figure size 432x288 with 1 Axes>"
      ]
     },
     "metadata": {
      "needs_background": "light"
     },
     "output_type": "display_data"
    }
   ],
   "source": [
    "import numpy as np\n",
    "import matplotlib.pyplot as plt\n",
    "\n",
    "x = np.linspace(0,np.pi,100)\n",
    "y = np.sin(x)\n",
    "plt.plot(x,y)\n",
    "plt.show();\n"
   ]
  },
  {
   "cell_type": "code",
   "execution_count": 38,
   "metadata": {},
   "outputs": [
    {
     "name": "stdout",
     "output_type": "stream",
     "text": [
      "[ 1.62434536 -0.61175641 -0.52817175 -1.07296862  0.86540763 -2.3015387\n",
      "  1.74481176 -0.7612069   0.3190391  -0.24937038  1.46210794 -2.06014071\n",
      " -0.3224172  -0.38405435  1.13376944 -1.09989127 -0.17242821 -0.87785842\n",
      "  0.04221375  0.58281521 -1.10061918  1.14472371  0.90159072  0.50249434\n",
      "  0.90085595 -0.68372786 -0.12289023 -0.93576943 -0.26788808  0.53035547\n",
      " -0.69166075 -0.39675353 -0.6871727  -0.84520564 -0.67124613 -0.0126646\n",
      " -1.11731035  0.2344157   1.65980218  0.74204416 -0.19183555 -0.88762896\n",
      " -0.74715829  1.6924546   0.05080775 -0.63699565  0.19091548  2.10025514\n",
      "  0.12015895  0.61720311  0.30017032 -0.35224985 -1.1425182  -0.34934272\n",
      " -0.20889423  0.58662319  0.83898341  0.93110208  0.28558733  0.88514116\n",
      " -0.75439794  1.25286816  0.51292982 -0.29809284  0.48851815 -0.07557171\n",
      "  1.13162939  1.51981682  2.18557541 -1.39649634 -1.44411381 -0.50446586\n",
      "  0.16003707  0.87616892  0.31563495 -2.02220122 -0.30620401  0.82797464\n",
      "  0.23009474  0.76201118 -0.22232814 -0.20075807  0.18656139  0.41005165\n",
      "  0.19829972  0.11900865 -0.67066229  0.37756379  0.12182127  1.12948391\n",
      "  1.19891788  0.18515642 -0.37528495 -0.63873041  0.42349435  0.07734007\n",
      " -0.34385368  0.04359686 -0.62000084  0.69803203]\n",
      "[-0.44712856  1.2245077   0.40349164  0.59357852 -1.09491185  0.16938243\n",
      "  0.74055645 -0.9537006  -0.26621851  0.03261455 -1.37311732  0.31515939\n",
      "  0.84616065 -0.85951594  0.35054598 -1.31228341 -0.03869551 -1.61577235\n",
      "  1.12141771  0.40890054 -0.02461696 -0.77516162  1.27375593  1.96710175\n",
      " -1.85798186  1.23616403  1.62765075  0.3380117  -1.19926803  0.86334532\n",
      " -0.1809203  -0.60392063 -1.23005814  0.5505375   0.79280687 -0.62353073\n",
      "  0.52057634 -1.14434139  0.80186103  0.0465673  -0.18656977 -0.10174587\n",
      "  0.86888616  0.75041164  0.52946532  0.13770121  0.07782113  0.61838026\n",
      "  0.23249456  0.68255141 -0.31011677 -2.43483776  1.0388246   2.18697965\n",
      "  0.44136444 -0.10015523 -0.13644474 -0.11905419  0.01740941 -1.12201873\n",
      " -0.51709446 -0.99702683  0.24879916 -0.29664115  0.49521132 -0.17470316\n",
      "  0.98633519  0.2135339   2.19069973 -1.89636092 -0.64691669  0.90148689\n",
      "  2.52832571 -0.24863478  0.04366899 -0.22631424  1.33145711 -0.28730786\n",
      "  0.68006984 -0.3198016  -1.27255876  0.31354772  0.50318481  1.29322588\n",
      " -0.11044703 -0.61736206  0.5627611   0.24073709  0.28066508 -0.0731127\n",
      "  1.16033857  0.36949272  1.90465871  1.1110567   0.6590498  -1.62743834\n",
      "  0.60231928  0.4202822   0.81095167  1.04444209]\n"
     ]
    },
    {
     "data": {
      "image/png": "[encoded data removed]",
      "text/plain": [
       "<Figure size 720x720 with 4 Axes>"
      ]
     },
     "metadata": {
      "needs_background": "light"
     },
     "output_type": "display_data"
    }
   ],
   "source": [
    "np.random.seed(1)\n",
    "data = np.random.randn(2, 100)\n",
    "\n",
    "print(data[0])\n",
    "print(data[1])\n",
    "fig, axs = plt.subplots(2, 2, figsize=(10, 10))\n",
    "axs[0, 0].hist(data[0])\n",
    "axs[1, 0].scatter(data[0], data[1])\n",
    "axs[0, 1].plot(data[0], data[1])\n",
    "axs[1, 1].hist2d(data[0], data[1])\n",
    "\n",
    "plt.show()\n"
   ]
  },
  {
   "cell_type": "code",
   "execution_count": null,
   "metadata": {},
   "outputs": [],
   "source": []
  },
  {
   "cell_type": "code",
   "execution_count": null,
   "metadata": {},
   "outputs": [],
   "source": []
  },
  {
   "cell_type": "code",
   "execution_count": null,
   "metadata": {},
   "outputs": [],
   "source": []
  },
  {
   "cell_type": "code",
   "execution_count": null,
   "metadata": {},
   "outputs": [],
   "source": []
  }
 ],
 "metadata": {
  "kernelspec": {
   "display_name": "Python 3",
   "language": "python",
   "name": "python3"
  },
  "language_info": {
   "codemirror_mode": {
    "name": "ipython",
    "version": 3
   },
   "file_extension": ".py",
   "mimetype": "text/x-python",
   "name": "python",
   "nbconvert_exporter": "python",
   "pygments_lexer": "ipython3",
   "version": "3.7.2"
  }
 },
 "nbformat": 4,
 "nbformat_minor": 1
}
