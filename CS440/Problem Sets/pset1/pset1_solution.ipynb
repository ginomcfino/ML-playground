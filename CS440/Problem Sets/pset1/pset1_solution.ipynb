{
 "cells": [
  {
   "cell_type": "markdown",
   "metadata": {
    "nbpresent": {
     "id": "1d234e3f-af8b-4757-83f3-241b04b7a511"
    }
   },
   "source": [
    "# CNN on MNIST using TensorFlow&trade; [50 pts]\n",
    "#### _Due date for self grade submission: Oct 22, 11:59pm_\n",
    "_**Click [here](https://docs.google.com/forms/d/e/1FAIpQLSeKsBgsw6xsIHNwUERHVjr2N0ofmmhWKokWGco6S6OddDIXhA/viewform?usp=sf_link) to submit a self grade**_"
   ]
  },
  {
   "cell_type": "markdown",
   "metadata": {
    "nbpresent": {
     "id": "b07b9992-b592-4871-9f9a-3b0ae5fa8b5f"
    }
   },
   "source": [
    "**Note**: The following has been verified to work with TensorFlow 2.0\n",
    "\n",
    "\\* Adapted from official TensorFlow&trade; tour guide.\n",
    "\n",
    "TensorFlow is a powerful library for doing large-scale numerical computation. One of the tasks at which it excels is implementing and training deep neural networks. In this assignment you will learn the basic building blocks of a TensorFlow model while constructing a deep convolutional MNIST classifier.\n",
    "\n",
    "What you are expected to implement in this tutorial:\n",
    "\n",
    "* Create a softmax regression function that is a model for recognizing MNIST digits, based on looking at every pixel in the image\n",
    "\n",
    "* Use Tensorflow to train the model to recognize digits by having it \"look\" at thousands of examples\n",
    "\n",
    "* Check the model's accuracy with MNIST test data\n",
    "\n",
    "* Build, train, and test a multilayer convolutional neural network to improve the results\n"
   ]
  },
  {
   "cell_type": "markdown",
   "metadata": {
    "nbpresent": {
     "id": "5516f610-f00c-43c3-bf19-4cf7ab9c089f"
    }
   },
   "source": [
    "## Data\n",
    "\n",
    "After importing tensorflow, we can download the MNIST dataset with the built-in TensorFlow/Keras method."
   ]
  },
  {
   "cell_type": "code",
   "execution_count": 1,
   "metadata": {
    "nbpresent": {
     "id": "5e05f980-3d14-4367-b3d1-664249145b13"
    }
   },
   "outputs": [
    {
     "data": {
      "text/plain": [
       "'2.3.1'"
      ]
     },
     "execution_count": 1,
     "metadata": {},
     "output_type": "execute_result"
    }
   ],
   "source": [
    "import os\n",
    "\n",
    "import tensorflow as tf\n",
    "import matplotlib.pyplot as plt\n",
    "\n",
    "os.environ['OMP_NUM_THREADS'] = '1'\n",
    "tf.__version__"
   ]
  },
  {
   "cell_type": "code",
   "execution_count": 10,
   "metadata": {
    "nbpresent": {
     "id": "58317664-8da3-4283-b3e5-35721687e7ab"
    }
   },
   "outputs": [
    {
     "data": {
      "image/png": "[encoded data removed]",
      "text/plain": [
       "<Figure size 720x720 with 25 Axes>"
      ]
     },
     "metadata": {},
     "output_type": "display_data"
    },
    {
     "name": "stdout",
     "output_type": "stream",
     "text": [
      "60000\n",
      "60000\n"
     ]
    }
   ],
   "source": [
    "(train_images, train_labels), (test_images, test_labels) = tf.keras.datasets.mnist.load_data()\n",
    "class_names = ['0', '1', '2', '3', '4',\n",
    "               '5', '6', '7', '8', '9']\n",
    "\n",
    "plt.figure(figsize=(10,10))\n",
    "for i in range(25):\n",
    "    plt.subplot(5,5,i+1)\n",
    "    plt.xticks([])\n",
    "    plt.yticks([])\n",
    "    plt.grid(False)\n",
    "    plt.imshow(train_images[i], cmap=plt.cm.binary)\n",
    "    plt.xlabel(class_names[train_labels[i]])\n",
    "plt.show()\n",
    "\n",
    "print(str(len(train_images)))\n",
    "print(str(len(train_labels)))"
   ]
  },
  {
   "cell_type": "markdown",
   "metadata": {
    "nbpresent": {
     "id": "66140980-2aa4-457f-b1df-74c10c234cc2"
    }
   },
   "source": [
    "## Build the CNN\n",
    "\n",
    "In this part we will build a customized TF2 Keras model. As input, a CNN takes tensors of shape (image_height, image_width, color_channels), ignoring the batch size. For MNIST, you will configure our CNN to process inputs of shape (28, 28, 1), which is the format of MNIST images. You can do this by passing the argument input_shape to our first layer.\n",
    "\n",
    "The overall architecture should be:\n",
    "\n",
    "```\n",
    "Model: \"customized_cnn\"\n",
    "_________________________________________________________________\n",
    "Layer (type)                 Output Shape              Param #   \n",
    "=================================================================\n",
    "conv2d_2 (Conv2D)            multiple                  320       \n",
    "_________________________________________________________________\n",
    "max_pooling2d_1 (MaxPooling2 multiple                  0         \n",
    "_________________________________________________________________\n",
    "conv2d_3 (Conv2D)            multiple                  18496     \n",
    "_________________________________________________________________\n",
    "flatten_1 (Flatten)          multiple                  0         \n",
    "_________________________________________________________________\n",
    "dense_2 (Dense)              multiple                  7930880   \n",
    "_________________________________________________________________\n",
    "dense_3 (Dense)              multiple                  10250     \n",
    "=================================================================\n",
    "Total params: 7,959,946\n",
    "Trainable params: 7,959,946\n",
    "Non-trainable params: 0\n",
    "_________________________________________________________________\n",
    "```\n",
    "### First Convolutional Layer [5 pts]\n",
    "\n",
    "We can now implement our first layer. The convolution will compute 32 features for each 3x3 patch. The first two dimensions are the patch size, the next is the number of input channels, and the last is the number of output channels.\n",
    "\n",
    "### Max Pooling Layer [5 pts]\n",
    "\n",
    "We stack max pooling layer after the first convolutional layer. These pooling layers will perform max pooling for each 2x2 patch.\n",
    "\n",
    "### Second Convolutional Layer [5 pts]\n",
    "\n",
    "In order to build a deep network, we stack several layers of this type. The second layer will have 64 features for each 3x3 patch.\n",
    "\n",
    "\n",
    "### Fully Connected Layers [10 pts]\n",
    "\n",
    "Now that the image size has been reduced to 11x11, we add a fully-connected layer with 128 neurons to allow processing on the entire image. We reshape the tensor from the second convolutional layer into a batch of vectors before the fully connected layer.\n",
    "\n",
    "The output layer should also be implemented via a fully connect layer.\n",
    "\n",
    "\n",
    "### Complete the Computation Graph [15 pts]\n",
    "\n",
    "Please complete the following function:\n",
    "\n",
    "```def call(self, inputs, training=None, mask=None):```\n",
    "\n",
    "To apply the layer, we first reshape the input to a 4d tensor, with the second and third dimensions corresponding to image width and height, and the final dimension corresponding to the number of color channels (which is 1).\n",
    "\n",
    "We then convolve the reshaped input with the first convolutional layer and then the max pooling followed by the second convolutional layer. These convolutional layers and the pooling layer will reduce the image size to 11x11.\n",
    "\n",
    "### Dropout Layer [5 pts]\n",
    "\n",
    "Please add dropouts during training before each fully connected layers, as this helps avoid overfitting during training.\n",
    "https://www.cs.toronto.edu/~hinton/absps/JMLRdropout.pdf"
   ]
  },
  {
   "cell_type": "code",
   "execution_count": 3,
   "metadata": {
    "nbpresent": {
     "id": "71760e29-2b08-4259-93f1-ebe68cd74a6d"
    }
   },
   "outputs": [],
   "source": [
    "class CustomizedCNN(tf.keras.models.Model):\n",
    "\n",
    "    def __init__(self, *args, **kwargs):\n",
    "        super().__init__(*args, **kwargs)\n",
    "        self.conv_1 = tf.keras.layers.Conv2D(32, (3, 3), activation='relu', input_shape=(28, 28, 1))\n",
    "        self.pool_1 = tf.keras.layers.MaxPooling2D((2, 2))\n",
    "        self.conv_2 = tf.keras.layers.Conv2D(64, (3, 3), activation='relu')\n",
    "        self.flatten = tf.keras.layers.Flatten()\n",
    "        self.fc_1 = tf.keras.layers.Dense(128, activation='relu')\n",
    "        self.fc_2 = tf.keras.layers.Dense(10)\n",
    "\n",
    "    def call(self, inputs, training=None, mask=None):\n",
    "        inputs = tf.cast(tf.expand_dims(inputs, axis=-1), tf.float32)\n",
    "        conv_1 = self.conv_1(inputs)\n",
    "        pool_1 = self.pool_1(conv_1)\n",
    "        conv_2 = self.conv_2(pool_1)\n",
    "        flatten = self.flatten(conv_2)\n",
    "        if training:\n",
    "            flatten = tf.nn.dropout(flatten, 0.25)\n",
    "        fc_1 = self.fc_1(flatten)\n",
    "        if training:\n",
    "            fc_1 = tf.nn.dropout(fc_1, 0.25)\n",
    "        logits = self.fc_2(fc_1)\n",
    "        return logits"
   ]
  },
  {
   "cell_type": "markdown",
   "metadata": {
    "nbpresent": {
     "id": "5d0bae73-5677-437f-af00-0a880b753345"
    }
   },
   "source": [
    "## Build the Model"
   ]
  },
  {
   "cell_type": "code",
   "execution_count": 4,
   "metadata": {
    "nbpresent": {
     "id": "5c52eeb2-1092-4d45-9e16-02219c82cb5e"
    }
   },
   "outputs": [
    {
     "name": "stdout",
     "output_type": "stream",
     "text": [
      "Model: \"customized_cnn\"\n",
      "_________________________________________________________________\n",
      "Layer (type)                 Output Shape              Param #   \n",
      "=================================================================\n",
      "conv2d (Conv2D)              multiple                  320       \n",
      "_________________________________________________________________\n",
      "max_pooling2d (MaxPooling2D) multiple                  0         \n",
      "_________________________________________________________________\n",
      "conv2d_1 (Conv2D)            multiple                  18496     \n",
      "_________________________________________________________________\n",
      "flatten (Flatten)            multiple                  0         \n",
      "_________________________________________________________________\n",
      "dense (Dense)                multiple                  991360    \n",
      "_________________________________________________________________\n",
      "dense_1 (Dense)              multiple                  1290      \n",
      "=================================================================\n",
      "Total params: 1,011,466\n",
      "Trainable params: 1,011,466\n",
      "Non-trainable params: 0\n",
      "_________________________________________________________________\n"
     ]
    }
   ],
   "source": [
    "model = CustomizedCNN()\n",
    "model.build(input_shape=(None, 28, 28))\n",
    "model.summary()"
   ]
  },
  {
   "cell_type": "markdown",
   "metadata": {
    "nbpresent": {
     "id": "f407d2b5-3b1b-4a88-881f-2d15b7a5c682"
    }
   },
   "source": [
    "We can specify a loss function just as easily. Loss indicates how bad the model's prediction was on a single example; we try to minimize that while training across all the examples. Here, our loss function is the cross-entropy between the target and the softmax activation function applied to the model's prediction. As in the beginners tutorial, we use the stable formulation:"
   ]
  },
  {
   "cell_type": "code",
   "execution_count": 5,
   "metadata": {
    "nbpresent": {
     "id": "cdb90d24-6a23-4969-8138-f37e7050062d"
    }
   },
   "outputs": [],
   "source": [
    "model.compile(optimizer='adam',\n",
    "                loss=tf.keras.losses.SparseCategoricalCrossentropy(from_logits=True),\n",
    "                metrics=['accuracy'])"
   ]
  },
  {
   "cell_type": "markdown",
   "metadata": {
    "nbpresent": {
     "id": "1a6f61e8-2ae0-4730-ad8c-35c683033b04"
    }
   },
   "source": [
    "## Train and Evaluate the Model [5 pts]\n",
    "\n",
    "We will use a more sophisticated ADAM optimizer instead of a Gradient Descent Optimizer.\n",
    "\n",
    "Feel free to run this code. Be aware that it does 10 training epochs and may take a while (possibly up to half an hour), depending on your processor.\n",
    "\n",
    "The final test set accuracy after running this code should be approximately 98.7%  -- not state of the art, but respectable.\n",
    "\n",
    "We have learned how to quickly and easily build, train, and evaluate a fairly sophisticated deep learning model using TensorFlow."
   ]
  },
  {
   "cell_type": "code",
   "execution_count": 6,
   "metadata": {
    "nbpresent": {
     "id": "6b64378c-07fa-4f71-ad27-85e1fcd95310"
    },
    "scrolled": false
   },
   "outputs": [
    {
     "name": "stdout",
     "output_type": "stream",
     "text": [
      "Epoch 1/10\n",
      "469/469 [==============================] - 24s 50ms/step - loss: 0.5878 - accuracy: 0.9156 - val_loss: 0.0687 - val_accuracy: 0.9798\n",
      "Epoch 2/10\n",
      "469/469 [==============================] - 22s 46ms/step - loss: 0.0913 - accuracy: 0.9732 - val_loss: 0.0578 - val_accuracy: 0.9826\n",
      "Epoch 3/10\n",
      "469/469 [==============================] - 23s 49ms/step - loss: 0.0654 - accuracy: 0.9801 - val_loss: 0.0467 - val_accuracy: 0.9862\n",
      "Epoch 4/10\n",
      "469/469 [==============================] - 22s 48ms/step - loss: 0.0517 - accuracy: 0.9837 - val_loss: 0.0412 - val_accuracy: 0.9866\n",
      "Epoch 5/10\n",
      "469/469 [==============================] - 23s 49ms/step - loss: 0.0468 - accuracy: 0.9855 - val_loss: 0.0443 - val_accuracy: 0.9869\n",
      "Epoch 6/10\n",
      "469/469 [==============================] - 24s 52ms/step - loss: 0.0409 - accuracy: 0.9869 - val_loss: 0.0452 - val_accuracy: 0.9877\n",
      "Epoch 7/10\n",
      "469/469 [==============================] - 29s 62ms/step - loss: 0.0417 - accuracy: 0.9868 - val_loss: 0.0427 - val_accuracy: 0.9873\n",
      "Epoch 8/10\n",
      "469/469 [==============================] - 33s 71ms/step - loss: 0.0354 - accuracy: 0.9894 - val_loss: 0.0448 - val_accuracy: 0.9881\n",
      "Epoch 9/10\n",
      "469/469 [==============================] - 25s 54ms/step - loss: 0.0309 - accuracy: 0.9903 - val_loss: 0.0376 - val_accuracy: 0.9889\n",
      "Epoch 10/10\n",
      "469/469 [==============================] - 21s 45ms/step - loss: 0.0283 - accuracy: 0.9907 - val_loss: 0.0561 - val_accuracy: 0.9867\n"
     ]
    }
   ],
   "source": [
    "history = model.fit(train_images, train_labels, epochs=10, validation_data=(test_images, test_labels), batch_size=128)"
   ]
  },
  {
   "cell_type": "code",
   "execution_count": 7,
   "metadata": {
    "nbpresent": {
     "id": "ff342098-784a-4e20-ac34-b74ca8ebe839"
    }
   },
   "outputs": [
    {
     "data": {
      "text/plain": [
       "<matplotlib.legend.Legend at 0x7fe4c370ae10>"
      ]
     },
     "execution_count": 7,
     "metadata": {},
     "output_type": "execute_result"
    },
    {
     "data": {
      "image/png": "[encoded data removed]",
      "text/plain": [
       "<Figure size 432x288 with 1 Axes>"
      ]
     },
     "metadata": {
      "needs_background": "light"
     },
     "output_type": "display_data"
    }
   ],
   "source": [
    "plt.plot(history.history['accuracy'], label='accuracy')\n",
    "plt.plot(history.history['val_accuracy'], label = 'validation accuracy')\n",
    "plt.xlabel('Epoch')\n",
    "plt.ylabel('Accuracy')\n",
    "plt.ylim([0.9, 1])\n",
    "plt.legend(loc='lower right')"
   ]
  },
  {
   "cell_type": "code",
   "execution_count": 8,
   "metadata": {
    "nbpresent": {
     "id": "d830cf58-fade-43e0-81c5-52632245d5d4"
    }
   },
   "outputs": [
    {
     "name": "stdout",
     "output_type": "stream",
     "text": [
      "313/313 [==============================] - 1s 3ms/step - loss: 0.0561 - accuracy: 0.9867\n",
      "0.9866999983787537\n"
     ]
    }
   ],
   "source": [
    "test_loss, test_acc = model.evaluate(test_images,  test_labels)\n",
    "print(test_acc)"
   ]
  },
  {
   "cell_type": "code",
   "execution_count": null,
   "metadata": {},
   "outputs": [],
   "source": []
  }
 ],
 "metadata": {
  "kernelspec": {
   "display_name": "Python 3",
   "language": "python",
   "name": "python3"
  },
  "language_info": {
   "codemirror_mode": {
    "name": "ipython",
    "version": 3
   },
   "file_extension": ".py",
   "mimetype": "text/x-python",
   "name": "python",
   "nbconvert_exporter": "python",
   "pygments_lexer": "ipython3",
   "version": "3.7.0"
  },
  "latex_envs": {
   "LaTeX_envs_menu_present": true,
   "autoclose": false,
   "autocomplete": true,
   "bibliofile": "biblio.bib",
   "cite_by": "apalike",
   "current_citInitial": 1,
   "eqLabelWithNumbers": true,
   "eqNumInitial": 1,
   "hotkeys": {
    "equation": "Ctrl-E",
    "itemize": "Ctrl-I"
   },
   "labels_anchors": false,
   "latex_user_defs": false,
   "report_style_numbering": false,
   "user_envs_cfg": false
  },
  "toc": {
   "base_numbering": 1,
   "nav_menu": {},
   "number_sections": true,
   "sideBar": true,
   "skip_h1_title": false,
   "title_cell": "Table of Contents",
   "title_sidebar": "Contents",
   "toc_cell": false,
   "toc_position": {},
   "toc_section_display": true,
   "toc_window_display": false
  },
  "varInspector": {
   "cols": {
    "lenName": 16,
    "lenType": 16,
    "lenVar": 40
   },
   "kernels_config": {
    "python": {
     "delete_cmd_postfix": "",
     "delete_cmd_prefix": "del ",
     "library": "var_list.py",
     "varRefreshCmd": "print(var_dic_list())"
    },
    "r": {
     "delete_cmd_postfix": ") ",
     "delete_cmd_prefix": "rm(",
     "library": "var_list.r",
     "varRefreshCmd": "cat(var_dic_list()) "
    }
   },
   "types_to_exclude": [
    "module",
    "function",
    "builtin_function_or_method",
    "instance",
    "_Feature"
   ],
   "window_display": false
  }
 },
 "nbformat": 4,
 "nbformat_minor": 4
}
