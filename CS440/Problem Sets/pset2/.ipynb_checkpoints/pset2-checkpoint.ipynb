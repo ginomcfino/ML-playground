{
 "cells": [
  {
   "cell_type": "markdown",
   "metadata": {},
   "source": [
    "## Problem Set 2: Linear Regression\n",
    "\n",
    "#### _Due date: Oct 30, 11:59pm_\n",
    "\n",
    "To run and solve this assignment, one must have a working IPython Notebook installation. The easiest way to set it up for both Windows and Linux is to install [Anaconda](https://www.continuum.io/downloads). Then save this file to your computer (use \"Raw\" link on gist\\github), run Anaconda and choose this file in Anaconda's file explorer. Use the `Python 3` version. Everything that follows assumes that you have already followed these instructions. If you are new to Python or its scientific library, Numpy, there are some nice tutorials [here](https://www.learnpython.org/) and [here](http://www.scipy-lectures.org/).\n",
    "\n",
    "To run code in a cell or to render [Markdown](https://en.wikipedia.org/wiki/Markdown)+[LaTeX](https://en.wikipedia.org/wiki/LaTeX) press `Ctr+Enter` or `[>|]`(like \"play\") button above. To edit any code or text cell [double]click on its content. To change cell type, choose \"Markdown\" or \"Code\" in the drop-down menu above.\n",
    "\n",
    "If certain output is given for some cells, that means that you are expected to get similar results.\n",
    "\n",
    "Total: 70 points."
   ]
  },
  {
   "cell_type": "markdown",
   "metadata": {},
   "source": [
    "### 1. Numpy Tutorial\n",
    "**1\\.1 [5pt]**\n",
    "Modify the cell below to return a 5x5 matrix of ones. Put some code there and press `Ctrl+Enter` to execute contents of the cell. You should see something like the output below. [[1]](https://docs.scipy.org/doc/numpy-1.13.0/user/basics.creation.html#arrays-creation) [[2]](https://docs.scipy.org/doc/numpy-1.13.0/reference/routines.array-creation.html#routines-array-creation)"
   ]
  },
  {
   "cell_type": "code",
   "execution_count": 2,
   "metadata": {
    "jupyter": {
     "outputs_hidden": false
    }
   },
   "outputs": [
    {
     "name": "stdout",
     "output_type": "stream",
     "text": [
      "[[1. 1. 1. 1. 1.]\n",
      " [1. 1. 1. 1. 1.]\n",
      " [1. 1. 1. 1. 1.]\n",
      " [1. 1. 1. 1. 1.]\n",
      " [1. 1. 1. 1. 1.]]\n"
     ]
    }
   ],
   "source": [
    "import numpy as np\n",
    "import matplotlib.pyplot as plt\n",
    "\n",
    "# raise NotImplementedError(\"Replace this raise statement with the code \"\n",
    "#                           \"that prints 5x5 matrix of ones\")\n",
    "\n",
    "ones = np.zeros((5,5))\n",
    "for i in range(5):\n",
    "    for j in range(5):\n",
    "        ones[i][j] = 1\n",
    "print(ones)"
   ]
  },
  {
   "cell_type": "markdown",
   "metadata": {},
   "source": [
    "**1.2 [5pt]** \n",
    "Vectorizing your code is very important to get results in a reasonable time. Let A be a 10x10 matrix and x be a 10-element column vector. Your friend writes the following code. How would you vectorize this code to run without any for loops? Compare execution speed for different values of `n` with [`%timeit`](http://ipython.readthedocs.io/en/stable/interactive/magics.html#magic-timeit)."
   ]
  },
  {
   "cell_type": "code",
   "execution_count": 3,
   "metadata": {
    "jupyter": {
     "outputs_hidden": false
    }
   },
   "outputs": [
    {
     "name": "stdout",
     "output_type": "stream",
     "text": [
      "[[2.99025758]\n",
      " [2.35095735]\n",
      " [3.1840175 ]\n",
      " [2.17618719]\n",
      " [2.47530952]\n",
      " [1.67783054]\n",
      " [2.5763425 ]\n",
      " [1.61820327]\n",
      " [2.94012917]\n",
      " [2.81956145]]\n",
      "\n",
      "Running time:\n",
      "319 µs ± 6.76 µs per loop (mean ± std. dev. of 7 runs, 1000 loops each)\n"
     ]
    }
   ],
   "source": [
    "n = 10\n",
    "def compute_something(A, x):\n",
    "    v = np.zeros((n, 1))\n",
    "    for i in range(n):\n",
    "        for j in range(n):\n",
    "            v[i] += A[i, j] * x[j]\n",
    "    return v\n",
    "            \n",
    "A = np.random.rand(n, n)\n",
    "x = np.random.rand(n, 1)\n",
    "print(compute_something(A, x))\n",
    "\n",
    "\n",
    "print(\"\\nRunning time:\")\n",
    "%timeit compute_something(A,x)"
   ]
  },
  {
   "cell_type": "code",
   "execution_count": 4,
   "metadata": {
    "jupyter": {
     "outputs_hidden": false
    }
   },
   "outputs": [
    {
     "name": "stdout",
     "output_type": "stream",
     "text": [
      "[[2.99025758]\n",
      " [2.35095735]\n",
      " [3.1840175 ]\n",
      " [2.17618719]\n",
      " [2.47530952]\n",
      " [1.67783054]\n",
      " [2.5763425 ]\n",
      " [1.61820327]\n",
      " [2.94012917]\n",
      " [2.81956145]]\n",
      "\n",
      "Running time:\n",
      "1.2 µs ± 3.59 ns per loop (mean ± std. dev. of 7 runs, 1000000 loops each)\n"
     ]
    }
   ],
   "source": [
    "def vectorized(A, x):\n",
    "    return np.matmul(A,x)\n",
    "\n",
    "print(vectorized(A, x))\n",
    "assert np.max(abs(vectorized(A, x) - compute_something(A, x))) < 1e-3\n",
    "\n",
    "print(\"\\nRunning time:\")\n",
    "%timeit vectorized(A, x)"
   ]
  },
  {
   "cell_type": "code",
   "execution_count": 5,
   "metadata": {
    "jupyter": {
     "outputs_hidden": false
    }
   },
   "outputs": [
    {
     "name": "stdout",
     "output_type": "stream",
     "text": [
      "106 µs ± 13.5 µs per loop (mean ± std. dev. of 7 runs, 5 loops each)\n",
      "1.93 µs ± 1.35 µs per loop (mean ± std. dev. of 7 runs, 5 loops each)\n",
      "---\n",
      "550 µs ± 311 µs per loop (mean ± std. dev. of 7 runs, 5 loops each)\n",
      "The slowest run took 5.70 times longer than the fastest. This could mean that an intermediate result is being cached.\n",
      "2.07 µs ± 2.01 µs per loop (mean ± std. dev. of 7 runs, 5 loops each)\n",
      "---\n",
      "32.4 ms ± 719 µs per loop (mean ± std. dev. of 7 runs, 5 loops each)\n",
      "The slowest run took 6.65 times longer than the fastest. This could mean that an intermediate result is being cached.\n",
      "5.01 µs ± 5.33 µs per loop (mean ± std. dev. of 7 runs, 5 loops each)\n",
      "---\n",
      "798 ms ± 6.89 ms per loop (mean ± std. dev. of 7 runs, 5 loops each)\n",
      "42 µs ± 14.6 µs per loop (mean ± std. dev. of 7 runs, 5 loops each)\n",
      "---\n"
     ]
    }
   ],
   "source": [
    "for n in [5, 10, 100, 500]:\n",
    "    A = np.random.rand(n, n)\n",
    "    x = np.random.rand(n, 1)\n",
    "    %timeit -n 5 compute_something(A, x)\n",
    "    %timeit -n 5 vectorized(A, x)\n",
    "    print('---')"
   ]
  },
  {
   "cell_type": "markdown",
   "metadata": {},
   "source": [
    "### 2. Linear regression with one variable\n",
    "\n",
    "In this part of the exercise, you will implement linear regression with one variable to predict profits for a food truck. Suppose you are the CEO of a restaurant franchise and are considering different cities for opening a new outlet. The chain already has trucks in various cities and you have data for profits and populations from the cities. You would like to use this data to help you select which city to expand to next. The file ex1data.txt contains the dataset for our linear regression problem. The first column is the population of a city and the second column is the profit of a food truck in that city. A negative value for profit indicates a loss.\n",
    "\n",
    "**2.1 [10pt]** Generate a plot similar to the one below\n",
    ": [[1]](https://matplotlib.org/devdocs/api/_as_gen/matplotlib.pyplot.scatter.html) [[2]](https://matplotlib.org/api/pyplot_api.html?highlight=xlim#matplotlib.pyplot.xlim) [[3]](https://matplotlib.org/api/pyplot_api.html?highlight=matplotlib%20pyplot%20xlabel#matplotlib.pyplot.xlabel)\n",
    "\n",
    "Before starting on any task, it is often useful to understand the data by visualizing it. For this dataset, you can use a scatter plot to visualize the data, since it has only two properties to plot (profit and population). Many other problems that you will encounter in real life are multi-dimensional and can’t be plotted on a 2-d plot."
   ]
  },
  {
   "cell_type": "code",
   "execution_count": 6,
   "metadata": {
    "jupyter": {
     "outputs_hidden": false
    }
   },
   "outputs": [
    {
     "name": "stdout",
     "output_type": "stream",
     "text": [
      "(97, 1) (97, 1) 97\n",
      "[[6.1101]\n",
      " [5.5277]\n",
      " [8.5186]\n",
      " [7.0032]\n",
      " [5.8598]\n",
      " [8.3829]\n",
      " [7.4764]\n",
      " [8.5781]\n",
      " [6.4862]\n",
      " [5.0546]] \n",
      " [[17.592 ]\n",
      " [ 9.1302]\n",
      " [13.662 ]\n",
      " [11.854 ]\n",
      " [ 6.8233]\n",
      " [11.886 ]\n",
      " [ 4.3483]\n",
      " [12.    ]\n",
      " [ 6.5987]\n",
      " [ 3.8166]]\n"
     ]
    },
    {
     "data": {
      "image/png": "[encoded data removed]",
      "text/plain": [
       "<Figure size 432x288 with 1 Axes>"
      ]
     },
     "metadata": {
      "needs_background": "light"
     },
     "output_type": "display_data"
    }
   ],
   "source": [
    "data = np.loadtxt('ex1data1.txt', delimiter=',')\n",
    "X, y = data[:, 0, np.newaxis], data[:, 1, np.newaxis]\n",
    "n = data.shape[0]\n",
    "print(X.shape, y.shape, n)\n",
    "print(X[:10], '\\n', y[:10])\n",
    "\n",
    "plt.scatter(X, y, marker='x', color='red')\n",
    "plt.xlabel(\"population in 10,000's\")\n",
    "plt.ylabel(\"profit in 10,000's\")\n",
    "plt.axis('auto')\n",
    "plt.show()"
   ]
  },
  {
   "cell_type": "markdown",
   "metadata": {},
   "source": [
    "**2.2** Gradient Descent\n",
    "\n",
    "In this part, you will fit the linear regression parameter $\\theta$ to our dataset using gradient descent.\n",
    "\n",
    "The objective of linear regression is to minimize the cost function\n",
    "$$ J(\\theta) = \\frac{1}{2m} \\sum_{i = 1}^{m} \\big(h(x^{(i)}; \\theta) - y^{(i)}\\big)^2$$\n",
    "where the hypothesis $h(x;\\theta)$ is given by the linear model ($x'$ has an additional fake feature always equal to '`1`')\n",
    "$$ h(x;\\theta) = \\theta^T x' = \\theta_0 + \\theta_1 x$$\n",
    "\n",
    "Recall that the parameters of your model are the $\\theta_j$ values. These are the values you will adjust to minimize the cost J(θ). One way to do this is to use the gradient descent. In batch gradient descent algorithm,  value of θ is updated iteratively using the gradient of J(θ).\n",
    "\n",
    "$$ \\theta_j^{(k+1)} = \\theta_j^{(k)} - \\eta \\frac{\\partial J(\\theta)}{\\partial \\theta_j} $$\n",
    "With each step of gradient descent, your parameter $\\theta_j$ comes closer to the optimal values\n",
    "that will achieve the lowest cost J(θ).\n",
    "\n",
    "**2.2.1** **[5pt]** What is $\\eta$? How do we set $\\eta$?\n",
    "\n",
    "$\\eta$ is the step size of this gradient descent algorithm, it is used to determine how many units of data each iteration skips between. There are a few ways that a programmer can set $\\eta$. For example, we can set $\\eta$ as a fixed value, or we can vary it in each iteration using the $\\eta$ that minimizes the cost function such as the Cauchy method.\n",
    "\n",
    "**2.2.2** **[25pt]** Cost Implementation\n",
    "\n",
    "As you perform gradient descent to learn to minimize the cost function, it is helpful to monitor the convergence by computing the cost. In this section, you will implement a function to calculate $J(\\theta)$ so you can check the convergence of your gradient descent implementation.\n",
    "\n",
    "In the following lines, we add another dimension to our data to accommodate the intercept term and compute the prediction and the loss. As you are doing this, remember that the variables X and y are not scalar values, but matrices whose rows represent the examples from the training set. In order to get $x'$ [add a column](https://docs.scipy.org/doc/numpy/reference/generated/numpy.insert.html) of ones to the data matrix `X`.\n",
    "\n",
    "You should expect to see a cost of approximately 32."
   ]
  },
  {
   "cell_type": "code",
   "execution_count": 8,
   "metadata": {
    "jupyter": {
     "outputs_hidden": false
    }
   },
   "outputs": [
    {
     "data": {
      "text/plain": [
       "array([[ 1.    ,  6.1101],\n",
       "       [ 1.    ,  5.5277],\n",
       "       [ 1.    ,  8.5186],\n",
       "       [ 1.    ,  7.0032],\n",
       "       [ 1.    ,  5.8598],\n",
       "       [ 1.    ,  8.3829],\n",
       "       [ 1.    ,  7.4764],\n",
       "       [ 1.    ,  8.5781],\n",
       "       [ 1.    ,  6.4862],\n",
       "       [ 1.    ,  5.0546],\n",
       "       [ 1.    ,  5.7107],\n",
       "       [ 1.    , 14.164 ],\n",
       "       [ 1.    ,  5.734 ],\n",
       "       [ 1.    ,  8.4084],\n",
       "       [ 1.    ,  5.6407],\n",
       "       [ 1.    ,  5.3794],\n",
       "       [ 1.    ,  6.3654],\n",
       "       [ 1.    ,  5.1301],\n",
       "       [ 1.    ,  6.4296],\n",
       "       [ 1.    ,  7.0708],\n",
       "       [ 1.    ,  6.1891],\n",
       "       [ 1.    , 20.27  ],\n",
       "       [ 1.    ,  5.4901],\n",
       "       [ 1.    ,  6.3261],\n",
       "       [ 1.    ,  5.5649],\n",
       "       [ 1.    , 18.945 ],\n",
       "       [ 1.    , 12.828 ],\n",
       "       [ 1.    , 10.957 ],\n",
       "       [ 1.    , 13.176 ],\n",
       "       [ 1.    , 22.203 ],\n",
       "       [ 1.    ,  5.2524],\n",
       "       [ 1.    ,  6.5894],\n",
       "       [ 1.    ,  9.2482],\n",
       "       [ 1.    ,  5.8918],\n",
       "       [ 1.    ,  8.2111],\n",
       "       [ 1.    ,  7.9334],\n",
       "       [ 1.    ,  8.0959],\n",
       "       [ 1.    ,  5.6063],\n",
       "       [ 1.    , 12.836 ],\n",
       "       [ 1.    ,  6.3534],\n",
       "       [ 1.    ,  5.4069],\n",
       "       [ 1.    ,  6.8825],\n",
       "       [ 1.    , 11.708 ],\n",
       "       [ 1.    ,  5.7737],\n",
       "       [ 1.    ,  7.8247],\n",
       "       [ 1.    ,  7.0931],\n",
       "       [ 1.    ,  5.0702],\n",
       "       [ 1.    ,  5.8014],\n",
       "       [ 1.    , 11.7   ],\n",
       "       [ 1.    ,  5.5416],\n",
       "       [ 1.    ,  7.5402],\n",
       "       [ 1.    ,  5.3077],\n",
       "       [ 1.    ,  7.4239],\n",
       "       [ 1.    ,  7.6031],\n",
       "       [ 1.    ,  6.3328],\n",
       "       [ 1.    ,  6.3589],\n",
       "       [ 1.    ,  6.2742],\n",
       "       [ 1.    ,  5.6397],\n",
       "       [ 1.    ,  9.3102],\n",
       "       [ 1.    ,  9.4536],\n",
       "       [ 1.    ,  8.8254],\n",
       "       [ 1.    ,  5.1793],\n",
       "       [ 1.    , 21.279 ],\n",
       "       [ 1.    , 14.908 ],\n",
       "       [ 1.    , 18.959 ],\n",
       "       [ 1.    ,  7.2182],\n",
       "       [ 1.    ,  8.2951],\n",
       "       [ 1.    , 10.236 ],\n",
       "       [ 1.    ,  5.4994],\n",
       "       [ 1.    , 20.341 ],\n",
       "       [ 1.    , 10.136 ],\n",
       "       [ 1.    ,  7.3345],\n",
       "       [ 1.    ,  6.0062],\n",
       "       [ 1.    ,  7.2259],\n",
       "       [ 1.    ,  5.0269],\n",
       "       [ 1.    ,  6.5479],\n",
       "       [ 1.    ,  7.5386],\n",
       "       [ 1.    ,  5.0365],\n",
       "       [ 1.    , 10.274 ],\n",
       "       [ 1.    ,  5.1077],\n",
       "       [ 1.    ,  5.7292],\n",
       "       [ 1.    ,  5.1884],\n",
       "       [ 1.    ,  6.3557],\n",
       "       [ 1.    ,  9.7687],\n",
       "       [ 1.    ,  6.5159],\n",
       "       [ 1.    ,  8.5172],\n",
       "       [ 1.    ,  9.1802],\n",
       "       [ 1.    ,  6.002 ],\n",
       "       [ 1.    ,  5.5204],\n",
       "       [ 1.    ,  5.0594],\n",
       "       [ 1.    ,  5.7077],\n",
       "       [ 1.    ,  7.6366],\n",
       "       [ 1.    ,  5.8707],\n",
       "       [ 1.    ,  5.3054],\n",
       "       [ 1.    ,  8.2934],\n",
       "       [ 1.    , 13.394 ],\n",
       "       [ 1.    ,  5.4369]])"
      ]
     },
     "execution_count": 8,
     "metadata": {},
     "output_type": "execute_result"
    }
   ],
   "source": [
    "# assertions below are true only for this \n",
    "# specific case and are given to ease debugging!\n",
    "\n",
    "def add_column(X):\n",
    "    assert len(X.shape) == 2 and X.shape[1] == 1\n",
    "    size = len(X)\n",
    "    ones = np.zeros((size, 1))\n",
    "    for i in range(size):\n",
    "        ones[i] = 1\n",
    "    return np.insert(X, [0], ones, axis=1)\n",
    "\n",
    "def predict(X, theta):\n",
    "    \"\"\" Computes h(x; theta) \"\"\"\n",
    "    assert len(X.shape) == 2 and X.shape[1] == 1\n",
    "    assert theta.shape == (2, 1)\n",
    "    \n",
    "    X_prime = add_column(X)\n",
    "    pred = np.matmul(X_prime, theta)\n",
    "    \n",
    "    return pred\n",
    "\n",
    "def loss(X, y, theta):\n",
    "    assert X.shape == (n, 1)\n",
    "    assert y.shape == (n, 1)\n",
    "    assert theta.shape == (2, 1)\n",
    "    \n",
    "    X_prime = add_column(X)\n",
    "    assert X_prime.shape == (n, 2)\n",
    "    \n",
    "    m = len(X)\n",
    "    loss = 0\n",
    "    pred = predict(X,theta)\n",
    "    for i in range(m):\n",
    "        loss +=(pred[i] - y[i]) ** 2\n",
    "    \n",
    "    return float(loss / (2 * m))\n",
    "\n",
    "theta_init = np.zeros((2, 1))\n",
    "print(loss(X, y, theta_init))"
   ]
  },
  {
   "cell_type": "markdown",
   "metadata": {},
   "source": [
    "**2.2.3** **[10pt]** GD Implementation\n",
    "\n",
    "Next, you will implement gradient descent. The loop structure has been written for you, and you only need to supply the updates to $\\theta$ within each iteration. \n",
    "\n",
    "As you write your code, make sure you understand what you are trying to optimize and what is being updated. Keep in mind that the cost is parameterized by the vector $\\theta$ not X and y. That is, we minimize the value of $J(\\theta)$ by changing the values of the vector $\\theta$, not by changing X or y.\n",
    "\n",
    "A good way to verify that gradient descent is working correctly is to look at the value of $J(\\theta)$ and check that it is decreasing with each step. Your value of $J(\\theta)$ should never increase, and should converge to a steady value by the end of the algorithm.  Another way of making sure your gradient estimate is correct is to check it againts a [finite difference](https://en.wikipedia.org/wiki/Finite_difference) approximation.\n",
    "\n",
    "We also initialize the parameters to 0. "
   ]
  },
  {
   "cell_type": "code",
   "execution_count": 172,
   "metadata": {
    "jupyter": {
     "outputs_hidden": false
    }
   },
   "outputs": [
    {
     "name": "stdout",
     "output_type": "stream",
     "text": [
      "max grad comp error 9.815741749008566e-05\n",
      "estimated theta value [ 1.16636235 -3.63029144]\n",
      "resulting loss 4.483388256587726\n"
     ]
    },
    {
     "data": {
      "image/png": "[encoded data removed]",
      "text/plain": [
       "<Figure size 432x288 with 1 Axes>"
      ]
     },
     "metadata": {
      "needs_background": "light"
     },
     "output_type": "display_data"
    },
    {
     "data": {
      "image/png": "[encoded data removed]",
      "text/plain": [
       "<Figure size 432x288 with 1 Axes>"
      ]
     },
     "metadata": {
      "needs_background": "light"
     },
     "output_type": "display_data"
    }
   ],
   "source": [
    "import scipy.optimize\n",
    "from functools import partial\n",
    "\n",
    "def loss_gradient(X, y, theta):\n",
    "    X_prime = add_column(X)\n",
    "    loss_grad = ((predict(X, theta) - y)*X_prime).mean(axis=0)[:, np.newaxis]\n",
    "    return loss_grad\n",
    "    \n",
    "assert loss_gradient(X, y, theta_init).shape == (2, 1)\n",
    "\n",
    "def finite_diff_grad_check(f, grad, points, eps=1e-10):\n",
    "    errs = []\n",
    "    for point in points:\n",
    "        point_errs = []\n",
    "        grad_func_val = grad(point)\n",
    "        for dim_i in range(point.shape[0]):\n",
    "            diff_v = np.zeros_like(point)\n",
    "            diff_v[dim_i] = eps\n",
    "            dim_grad = (f(point+diff_v) - f(point-diff_v))/(2*eps)\n",
    "            point_errs.append(abs(dim_grad - grad_func_val[dim_i]))\n",
    "        errs.append(point_errs)\n",
    "    return errs\n",
    "\n",
    "test_points = [np.random.rand(2, 1) for _ in range(10)]\n",
    "finite_diff_errs = finite_diff_grad_check(\n",
    "    partial(loss, X, y), partial(loss_gradient, X, y), test_points\n",
    ")\n",
    "\n",
    "print('max grad comp error', np.max(finite_diff_errs))\n",
    "assert np.max(finite_diff_errs) < 1e-3, \"grad computation error is too large\"\n",
    "\n",
    "def gradient_descent(X, y, theta, lr = 0.01):\n",
    "    t0_deriv = 0\n",
    "    t1_deriv = 0\n",
    "    m = len(X)\n",
    "    \n",
    "    for i in range (m):\n",
    "        t0_deriv += (theta[0] * X[i] + theta[1]) - y[i]\n",
    "        t1_deriv += ((theta[0] * X[i] + theta[1]) - y[i])* X[i]\n",
    "        \n",
    "    theta_new = theta\n",
    "    theta_new[0] -= (1/m) * lr * t1_deriv\n",
    "    theta_new[1] -= (1/m) * lr * t0_deriv\n",
    "    \n",
    "#     print(theta_new[0,:])\n",
    "#     print(theta_new[1,:])\n",
    "#     print(theta_new)\n",
    "#     print(str(np.array([theta_new[1,:], theta_new[0,:]])) + \"\\n\")\n",
    "    \n",
    "#     theta_new = np.array([theta_new[1,:], theta_new[0,:]])\n",
    "    \n",
    "    \n",
    "    return theta_new\n",
    "\n",
    "\n",
    "def run_gd(loss, loss_gradient, X, y, theta_init, lr=0.01, n_iter=1500):\n",
    "    theta_current = theta_init.copy()\n",
    "    loss_values = []\n",
    "    theta_values = []\n",
    "    \n",
    "    for i in range(n_iter):\n",
    "        loss_value = loss(X, y, theta_current)\n",
    "        theta_current = gradient_descent(X, y, theta_current, lr)\n",
    "        loss_values.append(loss_value)\n",
    "        theta_values.append(theta_current)\n",
    "        \n",
    "    return theta_current, loss_values, theta_values\n",
    "\n",
    "result = run_gd(loss, loss_gradient, X, y, theta_init)\n",
    "theta_est, loss_values, theta_values = result\n",
    "\n",
    "print('estimated theta value', theta_est.ravel())\n",
    "print('resulting loss', loss(X, y, theta_est))\n",
    "plt.ylabel('loss')\n",
    "plt.xlabel('iter_i')\n",
    "plt.plot(loss_values)\n",
    "plt.show()\n",
    "\n",
    "plt.ylabel('log(loss)')\n",
    "plt.xlabel('iter_i')\n",
    "plt.semilogy(loss_values)\n",
    "plt.show()"
   ]
  },
  {
   "cell_type": "markdown",
   "metadata": {},
   "source": [
    "**2.2.4** **[5pt]** After you are finished, use your final parameters to plot the linear fit. The result should look something like on the figure below. Use the `predict()` function."
   ]
  },
  {
   "cell_type": "code",
   "execution_count": 130,
   "metadata": {
    "jupyter": {
     "outputs_hidden": false
    }
   },
   "outputs": [
    {
     "data": {
      "image/png": "[encoded data removed]",
      "text/plain": [
       "<Figure size 432x288 with 1 Axes>"
      ]
     },
     "metadata": {
      "needs_background": "light"
     },
     "output_type": "display_data"
    }
   ],
   "source": [
    "plt.scatter(X, y, marker='x', color='r', alpha=0.5)\n",
    "x_start, x_end = 5, 25\n",
    "\n",
    "\n",
    "plt.scatter(X, y, marker='x', color='red')\n",
    "pred = predict(X, np.array([[ 1.16636235], [-3.63029144]]))\n",
    "plt.plot(X, pred)\n",
    "plt.xlabel('Population in 10\\'000 s')\n",
    "plt.ylabel('Profit in 10\\'000$ s')\n",
    "plt.axis('auto')\n",
    "plt.show()"
   ]
  },
  {
   "cell_type": "markdown",
   "metadata": {},
   "source": [
    "**2.2.5** **[5pt]** Now use your final values for $\\theta$ and the `predict()` function to make predictions on profits in areas of 35,000 and 70,000 people."
   ]
  },
  {
   "cell_type": "code",
   "execution_count": 131,
   "metadata": {
    "jupyter": {
     "outputs_hidden": false
    }
   },
   "outputs": [
    {
     "name": "stdout",
     "output_type": "stream",
     "text": [
      "Prediction for area of 35,000 people: \n",
      "40819.05195856\n",
      "\n",
      "Prediction for area of 50,000 people: \n",
      "58314.48720856\n",
      "\n"
     ]
    }
   ],
   "source": [
    "#raise NotImplementedError(\"Predict values given inputs\")\n",
    "\n",
    "def extrapolate(x, t0, t1):\n",
    "    return t0 + t1*x \n",
    "\n",
    "print(\"Prediction for area of 35,000 people: \")\n",
    "ans1 = extrapolate(35000, -3.63029144, 1.16636235)\n",
    "print(str(ans1) + \"\\n\")\n",
    "\n",
    "print(\"Prediction for area of 50,000 people: \")\n",
    "ans2 = extrapolate(50000, -3.63029144, 1.16636235)\n",
    "print(str(ans2) + \"\\n\")"
   ]
  },
  {
   "cell_type": "markdown",
   "metadata": {},
   "source": [
    "To understand the cost function better, you will now plot the cost over a 2-dimensional grid of values. You will not need to code anything new for this part, but you should understand how the code you have written already is creating these images."
   ]
  },
  {
   "cell_type": "code",
   "execution_count": 132,
   "metadata": {
    "jupyter": {
     "outputs_hidden": false
    }
   },
   "outputs": [
    {
     "name": "stdout",
     "output_type": "stream",
     "text": [
      "(100, 100) (100, 100) (100, 100)\n"
     ]
    },
    {
     "data": {
      "image/png": "[encoded data removed]",
      "text/plain": [
       "<Figure size 432x288 with 1 Axes>"
      ]
     },
     "metadata": {
      "needs_background": "light"
     },
     "output_type": "display_data"
    },
    {
     "data": {
      "image/png": "[encoded data removed]",
      "text/plain": [
       "<Figure size 432x288 with 1 Axes>"
      ]
     },
     "metadata": {
      "needs_background": "light"
     },
     "output_type": "display_data"
    }
   ],
   "source": [
    "from mpl_toolkits.mplot3d import Axes3D\n",
    "import matplotlib.cm as cm\n",
    "limits = [(-10, 10), (-1, 4)]\n",
    "space = [np.linspace(*limit, 100) for limit in limits]\n",
    "theta_1_grid, theta_2_grid = np.meshgrid(*space)\n",
    "theta_meshgrid = np.vstack([theta_1_grid.ravel(), theta_2_grid.ravel()])\n",
    "loss_test_vals_flat = (((add_column(X) @ theta_meshgrid - y)**2).mean(axis=0)/2)\n",
    "loss_test_vals_grid = loss_test_vals_flat.reshape(theta_1_grid.shape)\n",
    "print(theta_1_grid.shape, theta_2_grid.shape, loss_test_vals_grid.shape)\n",
    "\n",
    "plt.gca(projection='3d').plot_surface(theta_1_grid, theta_2_grid, \n",
    "                                      loss_test_vals_grid, cmap=cm.viridis,\n",
    "                                      linewidth=0, antialiased=False)\n",
    "xs, ys = np.hstack(theta_values).tolist()\n",
    "zs = np.array(loss_values)\n",
    "plt.gca(projection='3d').plot(xs, ys, zs, c='r')\n",
    "plt.xlim(*limits[0])\n",
    "plt.ylim(*limits[1])\n",
    "plt.show()\n",
    "\n",
    "plt.contour(theta_1_grid, theta_2_grid, loss_test_vals_grid, levels=np.logspace(-2, 3, 20))\n",
    "plt.plot(xs, ys)\n",
    "plt.scatter(xs, ys, alpha=0.005)\n",
    "plt.xlim(*limits[0])\n",
    "plt.ylim(*limits[1])\n",
    "plt.show()"
   ]
  },
  {
   "cell_type": "code",
   "execution_count": null,
   "metadata": {},
   "outputs": [],
   "source": []
  }
 ],
 "metadata": {
  "anaconda-cloud": {},
  "kernelspec": {
   "display_name": "Python 3",
   "language": "python",
   "name": "python3"
  },
  "language_info": {
   "codemirror_mode": {
    "name": "ipython",
    "version": 3
   },
   "file_extension": ".py",
   "mimetype": "text/x-python",
   "name": "python",
   "nbconvert_exporter": "python",
   "pygments_lexer": "ipython3",
   "version": "3.7.0"
  }
 },
 "nbformat": 4,
 "nbformat_minor": 4
}
