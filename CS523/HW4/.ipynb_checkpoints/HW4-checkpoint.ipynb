{
 "cells": [
  {
   "cell_type": "markdown",
   "metadata": {
    "id": "gMV1ThXoLxBD"
   },
   "source": [
    "# HW4: Bias and GANs\n",
    "\n",
    "\n",
    "Designed by Maan Qraitem drawing from prior work by Anil Kag, Samarth Mishra, Kun He, Xide Xia, Kubra Cilingir, Vijay Thakkar, Ali Siahkamari, and Brian Kulis.\n",
    "\n",
    "\n",
    "This assignment will introduce you to \n",
    "\n",
    "1. Understanding Spurious Bias and its impact on Model Performance [40 points]\n",
    "\n",
    "2. Implementing Domain-Independance: A method to mitigate Spurious Bias [40 Points]\n",
    "\n",
    "3. Introduce Generative Adversarial Learning building blocks. [40 points]\n",
    "\n",
    "4. Use above blocks to change hairstyles of popular celebrities available in the CelebA dataset. [60 points]\n",
    "\n",
    "**NOTE** : Problem 3 and 4 are time consuming, not just from code perspective but it takes some effort in training to get reasonable GAN performance (you should expect the training to take roughly 10 hours or more depending on the complexity you choose), so **PLEASE START EARLY.**\n",
    "\n",
    "## Preamble\n",
    "\n",
    "We recommend using GPU as the primary compute for these problems. For the first two tasks, we do not expect you to require too much GPU compute time (efficient code should finish within 20mins on a GPU like K80). For the GAN problems, we expect longer run time (specially the problem 4 should take more than 6 hours to get a reasonable generator).\n",
    "\n",
    "## Environment setup\n",
    "\n",
    "We provide you the datasets required for this assignment as shared folders in both SCC (`'/projectnb/dl523/materials/datasets/'`) and [Google Drive](https://drive.google.com/drive/folders/1EFJKm8mZk6GPrN2BRuadL_HRg0STb7V0?usp=sharing).\n",
    "\n",
    "\n",
    "Below we describe the environment setup steps depending on your preferrence. Through [(SCC)](https://www.bu.edu/tech/support/research/computing-resources/scc/) you can get access to GPU compute, below we describe the steps for setting up a tunnel so that you can open a Jupyter notebook on your end.\n",
    "\n",
    "If you intend to use Google colab, feel free to skip the below steps. Remember, Google colab only provides you a preemptive access to a GPU, so technically you could loose access to a GPU in the middle of your experiments. Ideally, it will allow you access to a GPU for 12 hours (free quota). Also, since its a shared resource, be respectful of the Google colab usage policy. \n",
    "\n",
    "## SCC Configuration\n",
    "\n",
    "For this assignment, we recommend that you use the shared computing cluster [(SCC)](https://www.bu.edu/tech/support/research/computing-resources/scc/). Each of you has an account on the SCC and can login using (more info on the [quick start guide](https://www.bu.edu/tech/support/research/system-usage/scc-quickstart/)):\n",
    "```\n",
    "ssh <bu_loginname>@scc1.bu.edu\n",
    "```\n",
    "\n",
    "[comment]: #   ( Copy `HW4_datasets.zip` to the SCC, extract and change working directory to the extracted folder. )\n",
    "\n",
    "Here, we provide some instructions to start a jupyter notebook or jupyter lab server on the SCC. More detailed instructions can be found on the SCC's info website (linked above). These instructions are also fairly easy to find with a google search.\n",
    "You can then request an interactive session on a compute node using:\n",
    "```\n",
    "qrsh -pe omp <num_cpu_cores> -l gpus=<num_gpus_per_cpu_core> -l gpu_c=<gpu_compute_capacity>\n",
    "```\n",
    "Recommended values for the parameters in <> above are 2, 1 and 3.5 repectively, which will assign you 2 cpu cores, 1 gpu of compute capacity at least 3.5 for an interactive session of 12 hours. We also have access to some GPUs with compute capacity 6.0 (but they may be somewhat limited in numbers), if you want to explore these GPUs, feel free to request with gpu_c=6.0. \n",
    "\n",
    "Now that you are on a compute node, you can load modules you need as:\n",
    "```\n",
    "module load cuda/10.1\n",
    "module load python3/3.6.9\n",
    "module load pytorch/1.3\n",
    "```\n",
    "Running a jupyter server (you can replace the following with `jupyter notebook` for the old interface):\n",
    "```\n",
    "jupyter lab --no-browser --ip=0.0.0.0 --port=8888\n",
    "```\n",
    "To access the jupyter interface on a browser on your personal machine, use ssh port forwarding as,\n",
    "```\n",
    "ssh -N -f -L 8889:<scc-compute-node>:8888 <bu_loginname>@scc1.bu.edu\n",
    "```\n",
    "where `<scc_compute_node>` is the compute node on the scc that you have access to through your interactive session (e.g. `scc-k02`). Open a browser and the interface should be accessible at `localhost:8889`. The ports `8888` and `8889` can be changed for something else. If these ports are already in use, feel free to use unused port numbers in the above command.\n",
    "\n",
    "### Assignment Shared Data path\n",
    "\n",
    "If you are using your local machine or SSC, please update the python variable `EXPERIMENTS_DIRECTORY` and `DATA_DIR`, prepopulated below to the correct folder where you have stored the files provided for this assignment.\n",
    "\n",
    "Note that \n",
    "1. `EXPERIMENTS_DIRECTORY` : refers to the folder where your experiment results, models, logs and the sample generated will be stored. Please update the path to a folder you have write access. For SCC, it is recommended that you create a folder, ` '/projectnb/dl523/students/<USER-NAME>/experiments'`, change `<USER-NAME>` to your scc username. For Google colab, use any folder you have write access.\n",
    "\n",
    "2. `DATA_DIR` : refers to the folder where the datasets required for this assignment are stored (For scc, I've already copied the datasets to a folder ( `'/projectnb/dl523/materials/datasets/'` ) where everyone has read accesss. For Google colab, I've shared the dataset at the following directory, `https://drive.google.com/drive/folders/1EFJKm8mZk6GPrN2BRuadL_HRg0STb7V0?usp=sharing`, please update this variable according the path that your BU Google drive account shows. )\n",
    "\n",
    "## Google Colab Configuration\n",
    "\n",
    "No special setup is required (just ensure that the runtime is setup to utilize a GPU).\n",
    "\n",
    "### Assignment Shared Data path\n",
    "\n",
    "If you are using Google Colab for the experiments, it is easy to link your BU google drive account for storage purposes.\n",
    "\n",
    "1. First step is to give access permissions to the google colab. Following commands perform the authentication (run these two lines of code, it'll provide you the link for authentication, copy & paste the authorization code in the fill in box provided by the script.)\n",
    "```\n",
    "from google.colab import drive\n",
    "drive.mount('/content/gdrive')\n",
    "```\n",
    "\n",
    "2. Finding the right folder path for experiments. Similar to the ```ls``` command in linux, the following command lists the content of the drive (use this to choose your base experiment directory)\n",
    "```\n",
    "ls \"/content/gdrive/My Drive\"\n",
    "```\n",
    "\n",
    "3. Please copy all the data provided for this assignment  to the experiment directory, say in the location ```\"/content/gdrive/My Drive/Experiments-Deep-Learning-HW4\"``` (If you change the path, please update the same in the script below.)\n",
    "```\n",
    "ls \"/content/gdrive/My Drive/Experiments-Deep-Learning-HW4\"\n",
    "```\n"
   ]
  },
  {
   "cell_type": "code",
   "execution_count": null,
   "metadata": {
    "id": "eNq-hdDoOrNE"
   },
   "outputs": [],
   "source": [
    "# Change this part to locate the correct directory where dataset resides\n",
    "use_colab = True\n",
    "\n",
    "if use_colab:\n",
    "    from google.colab import drive\n",
    "    drive.mount('/content/gdrive')\n",
    "    #!ls \"/content/gdrive/My Drive/Datasets/shared/HW4_shared_files\"\n",
    "\n",
    "    ## Update the experiments directory\n",
    "    EXPERIMENTS_DIRECTORY = '/content/gdrive/My Drive/Datasets/shared/experiments/'\n",
    "    DATA_DIRECTORY = '/content/gdrive/My Drive/Datasets/shared/HW4_shared_files/'\n",
    "    CELEBA_GOOGLE_DRIVE_PATH = DATA_DIRECTORY + 'celeba_attributes_images.hdf5'\n",
    "    IMDB_REVIEWS_FILE_PATH = DATA_DIRECTORY + 'data/'\n",
    "else:\n",
    "    ## Update the experiments directory\n",
    "    EXPERIMENTS_DIRECTORY = '/projectnb/dl523/students/mqraitem/experiments'\n",
    "    DATA_DIRECTORY = '/projectnb/dl523/materials/datasets/'\n",
    "    CELEBA_GOOGLE_DRIVE_PATH = DATA_DIRECTORY + 'celeba_attributes_images.hdf5'\n",
    "    IMDB_REVIEWS_FILE_PATH = DATA_DIRECTORY + 'data/'\n"
   ]
  },
  {
   "cell_type": "markdown",
   "metadata": {
    "id": "UTdfYxkGOtzW"
   },
   "source": [
    "### Modules needed"
   ]
  },
  {
   "cell_type": "markdown",
   "metadata": {
    "id": "0wZsjLpN3m4X"
   },
   "source": [
    "### Modules needed"
   ]
  },
  {
   "cell_type": "code",
   "execution_count": null,
   "metadata": {
    "id": "O8sqPyyXOtKC"
   },
   "outputs": [],
   "source": [
    "import os\n",
    "import random\n",
    "import math\n",
    "import datetime\n",
    "import time\n",
    "import numpy as np\n",
    "import h5py\n",
    "import matplotlib.pyplot as plt\n",
    "#import matplotlib.animation as animation\n",
    "from IPython.display import HTML\n",
    "from PIL import Image\n",
    "\n",
    "import torch\n",
    "import torch.nn as nn\n",
    "import torch.nn.functional as F\n",
    "import torch.nn.parallel\n",
    "import torch.backends.cudnn as cudnn\n",
    "import torch.optim as optim\n",
    "import torch.utils.data\n",
    "from torch.utils import data\n",
    "import torchvision.datasets as dset\n",
    "import torchvision.transforms as transforms\n",
    "import torchvision.utils as vutils\n",
    "from torchvision import transforms as T\n",
    "from torchvision.datasets import ImageFolder\n",
    "from torch.autograd import Variable\n",
    "from torchvision.utils import save_image\n",
    "from torch.backends import cudnn\n",
    "\n",
    "import numpy as np \n",
    "from PIL import Image\n",
    "from tqdm import tqdm \n",
    "import random \n",
    "\n",
    "import torch\n",
    "import torchvision\n",
    "import torchvision.transforms as transforms\n",
    "from torchvision.datasets import CIFAR10\n",
    "from torch import nn, optim\n",
    "\n",
    "\n",
    "%matplotlib inline\n",
    "\n",
    "# Set random seed for reproducibility\n",
    "manualSeed = 999\n",
    "# manualSeed = random.randint(1, 10000) # use if you want new results\n",
    "print(\"Random Seed: \", manualSeed)\n",
    "random.seed(manualSeed)\n",
    "np.random.seed(manualSeed)\n",
    "torch.manual_seed(manualSeed)"
   ]
  },
  {
   "cell_type": "markdown",
   "metadata": {
    "id": "GRUNBMpGU-uf"
   },
   "source": [
    "###Q1.1 : Survery of Bias in Deep Learning [10 Points]\n",
    "\n",
    "Bias in Deep Learning can manifest in many ways. Start by reading the following [Survey](https://arxiv.org/pdf/1908.08843.pdf) . Upon reading, please answer the questions below: \n",
    "\n",
    "\n",
    "1. Given a sensitive group of samples (eg a certain class of people), can a deep learning model learn to discriminate against said group if we do not explicitly feed identifying information to the model (ex class indicator variable, zip code, etc)? Support your argument with an example. \n",
    "\n",
    "2. what is the disadvantage of post-processing methods that calibrate prediction scores to fit a certain fairness metric? discuss this disadvantage in the context of deep learning applications. \n",
    "\n",
    " "
   ]
  },
  {
   "cell_type": "markdown",
   "metadata": {
    "id": "8UIEQ6KKiiU3"
   },
   "source": [
    " **Insert you answer here**: \n"
   ]
  },
  {
   "cell_type": "markdown",
   "metadata": {
    "id": "f-IBAMdZihTZ"
   },
   "source": [
    "In this problem, we will study one form of Bias, usually called: Spurious Correlations. We will explore this bias implication on model performance using a visual recognition problem *. More concretely, given a standard visual recognition dataset with image-target pairs $(X, Y)$ assume that each $x\\in X$ can also be classified into a sensitive group $b \\in B$. For example, $B$ can represent the various colors of an object or the material it is made of. Bias research is concerned with the scenario when most samples of one class (e.g., airplane) belong to one sensitive group (e.g., objects with the color red). Therefore, the model might use this signal (most airplanes are red) in predicting airplanes. This means the model might be less likely to predict an airplane if it was of the color blue. If your goal for your model is to recognize airplanes of all colors equally well, then the behavior above is suboptimal. \n",
    "\n",
    "In this problem, we will use the CIFAR10 dataset to document the occurrence of such Bias. Then, we will experiment with a simple baseline that mitigates it. \n",
    "\n",
    "\\* Note that this form of Bias can affect more than visual recognition. Examples include Image captioning, VQA, and others."
   ]
  },
  {
   "cell_type": "code",
   "execution_count": null,
   "metadata": {
    "id": "q9mAJg9hVaG-"
   },
   "outputs": [],
   "source": [
    "class BiasedCifar10: \n",
    "    def __init__(self, root, split, skew_value=0.5): \n",
    "        train_valid = (split == 'train' or split == 'valid')\n",
    "        self.cifar10 = CIFAR10(root, train=train_valid, download=True)\n",
    "        self.images = self.cifar10.data \n",
    "        self.targets = np.array(self.cifar10.targets) \n",
    "        self.bias = np.zeros_like(self.targets) \n",
    "        self.split = split\n",
    "        self.gray_classes =  [0,1,2,3,4]\n",
    "\n",
    "\n",
    "        mean = [0.4914, 0.4822, 0.4465]\n",
    "        std = [0.2470, 0.2435, 0.2616]\n",
    "        self.transform =  transforms.Compose([\n",
    "                          transforms.ToPILImage(), \n",
    "                          transforms.RandomCrop(32, padding=4),\n",
    "                          transforms.RandomHorizontalFlip(),\n",
    "                          transforms.ToTensor(),\n",
    "                          transforms.Normalize(mean, std)])\n",
    "\n",
    "        if train_valid: \n",
    "            self.build_split() \n",
    "            self.corrupt_dataset(skew_value)    \n",
    "\n",
    "        else: \n",
    "            self.corrupt_dataset(0.5)\n",
    "                          \n",
    "    def build_split(self):\n",
    "        \n",
    "        indices = {i:[] for i in range(10)} \n",
    "        size_per_class = 5000\n",
    "        for idx, tar in enumerate(self.targets): \n",
    "            indices[tar].append(idx)\n",
    "\n",
    "        if self.split == 'train': \n",
    "            start = 0 \n",
    "            end = int(size_per_class * 0.9) \n",
    "\n",
    "        if self.split == 'valid':\n",
    "            start = int(size_per_class * 0.9) \n",
    "            end = size_per_class\n",
    "\n",
    "        final_indices = [] \n",
    "        for ind_group in indices.values(): \n",
    "            final_indices.extend(ind_group[start:end]) \n",
    "        \n",
    "        random.shuffle(final_indices) \n",
    "        \n",
    "        self.images = self.images[final_indices]\n",
    "        self.bias = self.bias[final_indices]\n",
    "        self.targets = self.targets[final_indices] \n",
    "        \n",
    "    def rgb_to_grayscale(self, img):\n",
    "        \"\"\"Convert image to gray scale\"\"\"\n",
    "        \n",
    "        pil_img = Image.fromarray(img)\n",
    "        pil_gray_img = pil_img.convert('L')\n",
    "        np_gray_img = np.array(pil_gray_img, dtype=np.uint8)\n",
    "        np_gray_img = np.dstack([np_gray_img, np_gray_img, np_gray_img])\n",
    "    \n",
    "        return np_gray_img\n",
    "\n",
    "    def corrupt_dataset(self, skew_level):\n",
    "        \n",
    "        samples_by_class = {i:[] for i in range(10)} \n",
    "        for idx, target in enumerate(self.targets): \n",
    "            samples_by_class[target].append(idx) \n",
    "\n",
    "        for class_idx in tqdm(range(10)): \n",
    "            class_samples = samples_by_class[class_idx]\n",
    "            if class_idx in self.gray_classes: \n",
    "                samples_skew_num = int(len(class_samples) * skew_level) \n",
    "            else: \n",
    "                samples_skew_num = int(len(class_samples) * (1 - skew_level)) \n",
    "                \n",
    "            samples_skew = random.sample(class_samples, samples_skew_num)\n",
    "            for sample_idx in samples_skew: \n",
    "                self.images[sample_idx] = self.rgb_to_grayscale(self.images[sample_idx]) \n",
    "                self.bias[sample_idx] = 1 \n",
    "    \n",
    "    def __len__(self): \n",
    "        return len(self.images) \n",
    "\n",
    "    def __getitem__(self, index): \n",
    "        img = self.images[index]\n",
    "        target = self.targets[index]\n",
    "        bias = self.bias[index]\n",
    "    \n",
    "        if self.transform: \n",
    "            img = self.transform(img)\n",
    "        \n",
    "        return img, target, bias"
   ]
  },
  {
   "cell_type": "code",
   "execution_count": null,
   "metadata": {
    "id": "SQVoT_i785OO"
   },
   "outputs": [],
   "source": [
    "import torch.nn as nn\n",
    "import torch.nn.functional as F\n",
    "import torch \n",
    "\n",
    "from torchvision.models import resnet18\n",
    "\n",
    "\n",
    "class FCResNet18(nn.Module):\n",
    "    def __init__(self, num_classes=10):\n",
    "        super().__init__()\n",
    "        model = resnet18(pretrained=False)\n",
    "        modules = list(model.children())[:-1]\n",
    "        self.extractor = nn.Sequential(*modules)\n",
    "        self.embed_size = 512\n",
    "        self.num_classes = num_classes\n",
    "        self.fc = nn.Linear(self.embed_size, num_classes)\n",
    "\n",
    "    def forward(self, x):\n",
    "        out = self.extractor(x)\n",
    "        out = out.squeeze(-1).squeeze(-1)\n",
    "\n",
    "        logits = self.fc(out)\n",
    "        return logits"
   ]
  },
  {
   "cell_type": "code",
   "execution_count": null,
   "metadata": {
    "colab": {
     "base_uri": "https://localhost:8080/"
    },
    "id": "N-v6A8bIX-dj",
    "outputId": "01c14249-49dd-4f32-8721-e6aac36a9449"
   },
   "outputs": [
    {
     "name": "stdout",
     "output_type": "stream",
     "text": [
      "Files already downloaded and verified\n"
     ]
    },
    {
     "name": "stderr",
     "output_type": "stream",
     "text": [
      "100%|██████████| 10/10 [00:02<00:00,  4.56it/s]\n"
     ]
    },
    {
     "name": "stdout",
     "output_type": "stream",
     "text": [
      "Files already downloaded and verified\n"
     ]
    },
    {
     "name": "stderr",
     "output_type": "stream",
     "text": [
      "100%|██████████| 10/10 [00:00<00:00, 38.93it/s]\n"
     ]
    },
    {
     "name": "stdout",
     "output_type": "stream",
     "text": [
      "Files already downloaded and verified\n"
     ]
    },
    {
     "name": "stderr",
     "output_type": "stream",
     "text": [
      "100%|██████████| 10/10 [00:00<00:00, 18.23it/s]\n"
     ]
    }
   ],
   "source": [
    "skew_value = 0.85\n",
    "batch_size = 128\n",
    "\n",
    "ds_train = BiasedCifar10(root='./', split='train', skew_value=skew_value) \n",
    "ds_test = BiasedCifar10(root='./', split='test') \n",
    "\n",
    "\n",
    "train_loader = torch.utils.data.DataLoader(ds_train, batch_size=batch_size,\n",
    "                                              shuffle=True, num_workers=2)\n",
    "test_loader = torch.utils.data.DataLoader(ds_test, batch_size=batch_size,\n",
    "                                              shuffle=True, num_workers=2)\n"
   ]
  },
  {
   "cell_type": "markdown",
   "metadata": {
    "id": "ds_WJPuNl-tj"
   },
   "source": [
    " As discussed earlier, we will work with CIFAR10 dataset. The dataset comes equipped with 10 classes. The dataset code above introduces bias by converting a $S\\%$ of the images in the first 5 classes to Gray-Scale. For the rest of the 5 classes, it will convert $1 - S\\%$ of them to Gray-Scale. Assuming $S > 50\\%$, the first 5 classes will be biased toward Gray, and the rest will be biased toward Color. Thus, $B = \\{\\text{Color}, \\text{Gray-Scale}\\}$. You can control the variable $S$ through the skew_value above. To get you started, run the training code below."
   ]
  },
  {
   "cell_type": "code",
   "execution_count": null,
   "metadata": {
    "id": "lfn8JyIEdzlv"
   },
   "outputs": [],
   "source": [
    "model = FCResNet18(num_classes=10).cuda()\n",
    "criterion = nn.CrossEntropyLoss()\n",
    "decay_epochs = [10, 15, 20]\n",
    "\n",
    "optimizer = optim.SGD(model.parameters(), lr=0.1, momentum =0.9, weight_decay=5e-4)\n",
    "scheduler = optim.lr_scheduler.MultiStepLR(optimizer, milestones=decay_epochs, gamma=0.1)\n",
    "\n",
    "Epochs = 25\n",
    "\n",
    "for epoch in range(1, Epochs + 1):\n",
    "    model.train()\n",
    "\n",
    "    train_iter = iter(train_loader)\n",
    "    loss_acc = 0 \n",
    "    for idx, (images, labels, biases) in enumerate(train_iter):\n",
    "        labels, biases = labels.cuda(), biases.cuda()\n",
    "\n",
    "        images = images.cuda()\n",
    "        logits = model(images)\n",
    "\n",
    "        loss = criterion(logits, labels)\n",
    "        loss_acc += loss.item()\n",
    "\n",
    "        optimizer.zero_grad()\n",
    "        loss.backward()\n",
    "        optimizer.step()\n",
    "\n",
    "    loss_acc /= Epochs\n",
    "    print('Epoch %d: Loss = %.2f'%(epoch, loss_acc))"
   ]
  },
  {
   "cell_type": "markdown",
   "metadata": {
    "id": "AuK30bC9lQVq"
   },
   "source": [
    " As you might have noticed, we only introduce bias to the training set. Therefore, our test set is equally distributed among the bias groups. This choice is because we want to test our model's predictive ability on every bias group. To that end, we will use two metrics. The first one is a standard accuracy metric. The second one is called True Positive Rate Disparity. It seeks to measure the average difference in TPR between the two bias groups for each class. More concretely, it measures: \n",
    "\n",
    "$$TD = \\frac{1}{C} \\sum_{y} | P(\\hat{y}=1 | b = 1, y = 1) - P(\\hat{y}=1 | b = 0, y = 1)|$$\n",
    "\n",
    " Where $C$ indicates the number of classes, $\\hat{y}$ indicates model prediction, and $y$ denotes ground-truth label.\n",
    "\n",
    "\n"
   ]
  },
  {
   "cell_type": "markdown",
   "metadata": {
    "id": "oUaJKZ8xknm3"
   },
   "source": [
    "### Q1.2 Now, please answer the following questions [10 Points]\n",
    "\n",
    "1. Why do you think TPR disparity is a good metric to track bias? \n",
    "\n",
    "2. what do you think will happen to the Accuracy metric if our test set was not balanced among the bias groups? ie it followed the distribution of the training set"
   ]
  },
  {
   "cell_type": "markdown",
   "metadata": {
    "id": "dVKV5BOk-iYI"
   },
   "source": [
    "**Insert your answer here:**"
   ]
  },
  {
   "cell_type": "markdown",
   "metadata": {
    "id": "eGAVZHOx-k8C"
   },
   "source": [
    "###Q1.3: Finish the test loop below by writing code to compute accuracy and TPR disparity [10 Points]"
   ]
  },
  {
   "cell_type": "code",
   "execution_count": null,
   "metadata": {},
   "outputs": [],
   "source": [
    "correct = np.zeros((10, 2)) \n",
    "counts = np.zeros((10, 2))\n",
    "\n",
    "with torch.no_grad():\n",
    "  for idx, (images, labels, biases) in enumerate(test_loader):\n",
    "    images, labels, biases = images.cuda(), labels.cuda(), biases.cuda()\n",
    "    output = model(images).cpu()\n",
    "    preds = output.data.max(1, keepdim=True)[1].squeeze(1).numpy()\n",
    "\n",
    "    ################################################\n",
    "    ##### TODO CODE HERE\n",
    "    raise NotImplementedError\n",
    "    ################################################\n",
    "\n",
    "final = correct/counts\n",
    "print(\"Accuracy %.2f \"%np.mean(final))\n",
    "print(\"TPR Disparity %.2f \"%np.mean(np.abs(final[:, 0] - final[:, 1])))"
   ]
  },
  {
   "cell_type": "markdown",
   "metadata": {
    "id": "_rdlUFRl-tL0"
   },
   "source": [
    "### Q1.4 Repeat the above training procedure three times using $S \\in \\{0.85, 0.9, 0.95\\}$. Record your TPR and Acc values below and run the code to plot your results. what do you conclude? [10 Points]"
   ]
  },
  {
   "cell_type": "code",
   "execution_count": null,
   "metadata": {
    "id": "bp3Re1rPgAiu"
   },
   "outputs": [],
   "source": [
    "Skew = [0.85, 0.9, 0.95]\n",
    "\n",
    "################################################\n",
    "##### FILL YOUR EXPERIMENTS VALUES HERE\n",
    "Acc = []\n",
    "TPR = [] \n",
    "################################################\n",
    "\n",
    "\n",
    "import matplotlib.pyplot as plt\n",
    "\n",
    "f, (ax1, ax2) = plt.subplots(2, 1)\n",
    "ax1.plot(Skew, Acc)\n",
    "ax1.set_xlabel('Skew')\n",
    "ax1.set_ylabel('Acc')\n",
    "\n",
    "ax2.plot(Skew, TPR)\n",
    "ax2.set_xlabel('Skew')\n",
    "ax2.set_ylabel('TPR Disparity')"
   ]
  },
  {
   "cell_type": "markdown",
   "metadata": {
    "id": "Bdfm6k3kk0jr"
   },
   "source": [
    "**Insert your answer here:**\n",
    "\n",
    " "
   ]
  },
  {
   "cell_type": "markdown",
   "metadata": {
    "id": "UJI6ChnIqX_n"
   },
   "source": [
    "### Q2 Mitigating Bias \n",
    "\n",
    "In this section of the problem, we will explore Domain Independence, one of many solutions for mitigating Bias. The solution dedicates a prediction head for each different sensitive group $b$. Observe the Figure below. Note that each sensitive group: Color/Gray will have its prediction head of 10 classes. Thus, when training, samples that belong to $b= $Color will backpropagate only through the Color prediction head. \n"
   ]
  },
  {
   "cell_type": "markdown",
   "metadata": {
    "id": "aRe8B8-5m-D9"
   },
   "source": [
    "![dl_hw-Page-1.drawio(1).png](data:image/png;base64,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)"
   ]
  },
  {
   "cell_type": "markdown",
   "metadata": {
    "id": "EbJFl5GNlMcL"
   },
   "source": [
    "### Q2.1 Why do you think this might be a good solution? [5 Points]"
   ]
  },
  {
   "cell_type": "markdown",
   "metadata": {
    "id": "PJs05OrZluTs"
   },
   "source": [
    "**Insert answer here**\n"
   ]
  },
  {
   "cell_type": "markdown",
   "metadata": {
    "id": "UlFbgtVc_5Du"
   },
   "source": [
    "###Q2.2: We wrote most of the model structure but we left the final linear layer for you to implement. Fill in the code below: [5 Points]"
   ]
  },
  {
   "cell_type": "code",
   "execution_count": null,
   "metadata": {
    "id": "9QzC_4Rblfwz"
   },
   "outputs": [],
   "source": [
    "class DIResNet18(nn.Module):\n",
    "    def __init__(self, num_classes=10, num_biases=2):\n",
    "        super().__init__()\n",
    "        model = resnet18(pretrained=False)\n",
    "        modules = list(model.children())[:-1]\n",
    "        self.extractor = nn.Sequential(*modules)\n",
    "        self.embed_size = 512\n",
    "        self.num_classes = num_classes\n",
    "\n",
    "        ################################################\n",
    "        ##### TODO CODE HERE\n",
    "        self.fc = raise NotImplementedError\n",
    "        ################################################ \n",
    "                \n",
    "    def forward(self, x):\n",
    "        out = self.extractor(x)\n",
    "        out = out.squeeze(-1).squeeze(-1)\n",
    "        logits = self.fc(out)\n",
    "        return logits"
   ]
  },
  {
   "cell_type": "markdown",
   "metadata": {
    "id": "Lh9_rfALBmMx"
   },
   "source": [
    "###Q2.3: Before we start training, we need to write the loss function. First, you will need to apply softmax for each head independently. Then, given the bias value for each sample, you will need to select the logit values of that sample from the correct prediction head [20 Points] \n",
    "\n",
    "Hint: Consider using Pytorch NLL [implemenation](https://pytorch.org/docs/stable/generated/torch.nn.NLLLoss.html). "
   ]
  },
  {
   "cell_type": "code",
   "execution_count": null,
   "metadata": {
    "id": "YEmJep8Nm4zW"
   },
   "outputs": [],
   "source": [
    "class DILoss(nn.Module):\n",
    "    def __init__(self, num_classes=10, num_biases=2):\n",
    "        super().__init__()\n",
    "        self.num_classes = num_classes\n",
    "        self.num_biases = num_biases\n",
    "\n",
    "    def forward(self, logits, labels, biases):\n",
    "        ################################################\n",
    "        ##### TODO CODE HERE\n",
    "        loss = raise NotImplementedError\n",
    "        ################################################ \n",
    "        return loss"
   ]
  },
  {
   "cell_type": "markdown",
   "metadata": {
    "id": "1a6IvVlRru1c"
   },
   "source": [
    "### Once you are done with the loss, you can start training the model below. "
   ]
  },
  {
   "cell_type": "code",
   "execution_count": null,
   "metadata": {
    "colab": {
     "base_uri": "https://localhost:8080/"
    },
    "id": "bQafWCSsuZdR",
    "outputId": "4df13e39-5b1a-4611-ca7c-a22839164e8b"
   },
   "outputs": [
    {
     "name": "stdout",
     "output_type": "stream",
     "text": [
      "Files already downloaded and verified\n"
     ]
    },
    {
     "name": "stderr",
     "output_type": "stream",
     "text": [
      "100%|██████████| 10/10 [00:02<00:00,  4.42it/s]\n"
     ]
    },
    {
     "name": "stdout",
     "output_type": "stream",
     "text": [
      "Files already downloaded and verified\n"
     ]
    },
    {
     "name": "stderr",
     "output_type": "stream",
     "text": [
      "100%|██████████| 10/10 [00:00<00:00, 39.25it/s]\n"
     ]
    },
    {
     "name": "stdout",
     "output_type": "stream",
     "text": [
      "Files already downloaded and verified\n"
     ]
    },
    {
     "name": "stderr",
     "output_type": "stream",
     "text": [
      "100%|██████████| 10/10 [00:00<00:00, 19.01it/s]\n"
     ]
    }
   ],
   "source": [
    "skew_value = 0.95\n",
    "batch_size = 128\n",
    "\n",
    "ds_train = BiasedCifar10(root='./', split='train', skew_value=skew_value) \n",
    "ds_test = BiasedCifar10(root='./', split='test') \n",
    "\n",
    "\n",
    "train_loader = torch.utils.data.DataLoader(ds_train, batch_size=batch_size,\n",
    "                                              shuffle=True, num_workers=2)\n",
    "test_loader = torch.utils.data.DataLoader(ds_test, batch_size=batch_size,\n",
    "                                              shuffle=True, num_workers=2)"
   ]
  },
  {
   "cell_type": "code",
   "execution_count": null,
   "metadata": {
    "id": "TcTdkz7Yshp0"
   },
   "outputs": [],
   "source": [
    "model = DIResNet18().cuda()\n",
    "criterion = DILoss()\n",
    "decay_epochs = [10, 15, 20]\n",
    "\n",
    "optimizer = optim.SGD(model.parameters(), lr=0.1, momentum =0.9, weight_decay=5e-4)\n",
    "scheduler = optim.lr_scheduler.MultiStepLR(optimizer, milestones=decay_epochs, gamma=0.1)\n",
    "\n",
    "Epochs = 25\n",
    "\n",
    "for epoch in range(1, Epochs + 1):\n",
    "    model.train()\n",
    "\n",
    "    train_iter = iter(train_loader)\n",
    "    loss_acc = 0 \n",
    "    for idx, (images, labels, biases) in enumerate(train_iter):\n",
    "        labels, biases = labels.cuda(), biases.cuda()\n",
    "\n",
    "        images = images.cuda()\n",
    "        logits = model(images)\n",
    "\n",
    "        loss = criterion(logits, labels, biases)\n",
    "        loss_acc += loss.item()\n",
    "\n",
    "        optimizer.zero_grad()\n",
    "        loss.backward()\n",
    "        optimizer.step()\n",
    "\n",
    "    loss_acc /= Epochs\n",
    "    print('Epoch %d: Loss = %.2f'%(epoch, loss_acc))"
   ]
  },
  {
   "cell_type": "markdown",
   "metadata": {
    "id": "hcV-63YGDeJ1"
   },
   "source": [
    "![dl_hw-Page-2.drawio(1).png](data:image/png;base64,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)"
   ]
  },
  {
   "cell_type": "markdown",
   "metadata": {
    "id": "_F7ZS__2DsH5"
   },
   "source": [
    "Finally, we will have to do some inference! A significant challenge with this problem is that we don't have access to the bias label at test time. Therefore, we will have to combine the information from each head. It turns out that summing the logits for each class from every head is a good solution, as the figure above suggests. "
   ]
  },
  {
   "cell_type": "markdown",
   "metadata": {
    "id": "92iBQ5h-mWKa"
   },
   "source": [
    "###Q2.4: Imeplemnt the inference procedure described above. Have your Unbiased Accuracy and TPR Disparity Improve? [10 Points] "
   ]
  },
  {
   "cell_type": "code",
   "execution_count": null,
   "metadata": {
    "id": "_Wj5AxN5spfa"
   },
   "outputs": [],
   "source": [
    "correct = np.zeros((10, 2)) \n",
    "counts = np.zeros((10, 2))\n",
    "\n",
    "with torch.no_grad():\n",
    "  for idx, (images, labels, biases) in enumerate(test_loader):\n",
    "    images, labels, biases = images.cuda(), labels.cuda(), biases.cuda()\n",
    "    \n",
    "    ################################################\n",
    "    ##### TODO CODE HERE\n",
    "    raise NotImplementedError\n",
    "    ################################################ \n",
    "\n",
    "final = correct/counts\n",
    "print(\"Accuracy %.2f \"%np.mean(final))\n",
    "print(\"TPR Disparity %.2f \"%np.mean(np.abs(final[:, 0] - final[:, 1])))"
   ]
  },
  {
   "cell_type": "markdown",
   "metadata": {
    "id": "J9_y1s7OP7pw"
   },
   "source": [
    "## Q3 : GAN model on Celeb-A face dataset [40 points]\n",
    "\n",
    "We will implement a Generative Adversarial Network (GAN) in Q3 and Q4. In this problem, we will start by implementing basic helper functions and a working training routine which would be modified a bit in problem Q4 to present a hairstyle change application. \n",
    "\n",
    "This assignment is inspired by the following research paper, \n",
    "\n",
    "[StarGAN: Unified Generative Adversarial Networks for Multi-Domain Image-to-Image Translation](https://arxiv.org/abs/1711.09020)\n",
    "\n",
    "Note that the basic building blocks of GAN are \n",
    "1. **Generator** : generates images similar to the real images provided in the dataset in order to fool the discriminator.\n",
    "\n",
    "2. **Discriminator** : acts as a fact checker in order to determine which images are fake and which are real \n",
    "\n",
    "3. **Latent representation** : generator cannot arbitrarily generate images out of thin air. It picks up a latent representation (usually a noise or some fixed pattern), and utilizes this source as a latent code and generates image during this process.\n",
    "\n",
    "For an easy tutorial to understand GAN's building blocks, please follow the PyTorch DC-GAN [tutorial](https://pytorch.org/tutorials/beginner/dcgan_faces_tutorial.html). It is recommended you study the tutorial before proceeding with the assignment. \n"
   ]
  },
  {
   "cell_type": "markdown",
   "metadata": {
    "id": "j1BFi66YQBR0"
   },
   "source": [
    "Note that f and g in the following image are the same as $D$ and $G$ respectively"
   ]
  },
  {
   "cell_type": "markdown",
   "metadata": {
    "id": "f7C8TYk_QDxq"
   },
   "source": [
    "<img src=\"https://i.imgur.com/FhSycJD.png\" style=\"width: 600px;\"/>"
   ]
  },
  {
   "cell_type": "markdown",
   "metadata": {
    "id": "M2w46fbUQEsP"
   },
   "source": [
    "Although the tutorial describes the GAN framework very well with appropriate links to the original paper, for completeness, we mention the losses for the discriminator and generator. The GAN optimization objective is the following : \n",
    "\n",
    "$$\\underset{G}{\\text{min}} ~~ \\underset{D}{\\text{max}} ~~ V(D,G) = \\mathbb{E}_{x\\sim p_{x}(x)}\\big[\\log D(x)\\big] + \\mathbb{E}_{z\\sim p_{z}(z)}\\big[\\log (1-D(G(z)))\\big]$$\n",
    "\n",
    "where $p_{x}(x)$ is the distribution of the real image data and $p_{z}(z)$ is the distribution from which latent vectors are sampled to input to the generator. $G$ is the generator, parametrized by parameters $w$ and $D$, the discriminator with parameters $\\phi$. In practice, these parameters are usually optimized in an alternating fashion, fixing one when optimizing the other, with the following loss functions:\n",
    "\n",
    "$$ loss_D(\\phi) = - \\mathbb{E}_{x\\sim p_{x}(x)}\\big[\\log D(x; \\phi)\\big] - \\mathbb{E}_{z\\sim p_{z}(z)}\\big[\\log (1-D(G(z; w); \\phi))\\big] $$\n",
    "\n",
    "$$ loss_G(w) = - \\mathbb{E}_{z\\sim p_{z}(z)}\\big[\\log (D(G(z; w); \\phi))\\big] $$\n",
    "\n",
    "In this assignment you shall use these loss functions and method of training $G$ and $D$."
   ]
  },
  {
   "cell_type": "markdown",
   "metadata": {
    "id": "tpt0cyIlipzR"
   },
   "source": [
    "## StarGAN Architecture (Single dataset)\n",
    "\n",
    "Above figure is a generic representation of a DC-GAN architecture, although powerful, it will not be able to accuractly generate discrete feature transformations. Instead we use StarGAN, originally proposed to learn feature generators using multiple dataset (uses two large vision datasets (CelebA, RaFD) in the paper). For example in the image below, you see the entire architecture which uses only CelebA dataset, and keeps discards RaFD information. For simplicity, we will use only one dataset, i.e. CelebA. From this architecture, you should takeaway the following points\n",
    "\n",
    "1. **Discriminator** is learning to distinguish between a real and a fake/generator image. It also learns what the label looked like in the original dataset (we only care about CelebA label).\n",
    "\n",
    "2. **Generator** is learning to generate a new image from the given input image and the target attribute (for example hairstyle change, in the image below, gender change is requested). \n",
    "\n",
    "Note that the attribute or the latent information for the generator is a discrete boolean vector, instead of a Gaussian vector which you generate in GANs like DC-GAN. \n",
    "\n",
    "<img src=\"https://i.imgur.com/58dbEX9.png\" style=\"width: 600px;\"/>\n"
   ]
  },
  {
   "cell_type": "markdown",
   "metadata": {
    "id": "EWjTwavYQH-C"
   },
   "source": [
    "### Arguments\n",
    "\n",
    "First, we first define some arguments for the training run. \n",
    "\n",
    "-  **selected_attributes** -  the attributes which will be used for generating various style attributes on the celebrity face.\n",
    "-  **c_dim** - the number of attributes we will use from the CelebA dataset. its set to `len(selected_attributes)`\n",
    "-  **image_size** - the spatial size of the images used for training.\n",
    "   This implementation defaults to 64x64. \n",
    "-  **g_conv_dim** - the number of convolutional fitlers for generator\n",
    "-  **d_conv_dim** - the number of convolutional fitlers for discriminator \n",
    "-  **g_repeat_num** - the number of residual blocks in the generator \n",
    "-  **d_repeat_num** - the number of residual blocks in the discriminator\n",
    "-  **lambda_cls** - the regularization hyper-parameter for classification error\n",
    "-  **lambda_rec** -  the regularization hyper-parameter for reconstruction error\n",
    "-  **lambda_gp** -  the regularization hyper-parameter for gradient penalty\n",
    "\n",
    "-  **batch_size** - the batch size used in training. The paper\n",
    "   uses a batch size of 16 for large configuration\n",
    "-  **num_iters** - the number of training iterations\n",
    "   the DataLoader\n",
    "-  **num_iters_decay** - the number of iterations after which learning rate will decay\n",
    "-  **g_lr** - the learning rate for generator\n",
    "-  **d_lr** - the learning rate for discriminator\n",
    "-  **n_critic** - generator will be updated every n_critic iterations.\n",
    "-  **beta1** - beta1 hyperparameter for Adam optimizers. As described in\n",
    "   paper, this number should be 0.5\n",
    "-  **beta2** - beta2 hyperparameter for Adam optimizers. As described in\n",
    "   paper, this number should be 0.999\n",
    "-  **num_workers** - the number of worker threads for loading the data with\n",
    "   the DataLoader\n",
    "-  **log_step** - log the update every log_steps\n",
    "-  **sample_step** - generate a new sample every sample_step\n",
    "-  **model_save_step** - save the model every model_save_step\n",
    "-  **lr_update_step** - update the learning rate every lr_update_step\n",
    "-  **log_dir** - directory where logs are stored\n",
    "-  **sample_dir** - directory where samples are stored\n",
    "-  **model_save_dir** - directory where trained models are stored\n",
    "-  **result_dir** - directory where results are stored\n",
    "\n"
   ]
  },
  {
   "cell_type": "code",
   "execution_count": null,
   "metadata": {
    "id": "EOK2A1FhQKrO"
   },
   "outputs": [],
   "source": [
    "cudnn.benchmark = True\n",
    "\n",
    "def get_experiment_configuration(repeat_num=6, num_iters=200000,\n",
    "              log_step=100, sample_step=100, model_save_step=10000, \n",
    "              lr_update_step=1000, batch_size=16, mode='train', resume_iters=False,\n",
    "              selected_attributes = ['Black_Hair', 'Blond_Hair', 'Brown_Hair', 'Male', 'Young']):\n",
    "    config = {}\n",
    "\n",
    "    # Model configurations.\n",
    "    config['c_dim'] = len(selected_attributes)\n",
    "    config['image_size'] = 64\n",
    "    config['g_conv_dim'] = 64\n",
    "    config['d_conv_dim'] = 64\n",
    "    config['g_repeat_num'] = repeat_num\n",
    "    config['d_repeat_num'] = repeat_num\n",
    "    config['lambda_cls'] = 1\n",
    "    config['lambda_rec'] = 10\n",
    "    config['lambda_gp'] = 10\n",
    "    config['selected_attributes'] = selected_attributes \n",
    "\n",
    "    # Training configurations.\n",
    "    config['batch_size'] = batch_size #16\n",
    "    config['num_iters'] = num_iters\n",
    "    config['num_iters_decay'] = num_iters//2\n",
    "    config['g_lr'] = 0.0001\n",
    "    config['d_lr'] = 0.0001\n",
    "    config['n_critic'] = 5\n",
    "    config['beta1'] = 0.5\n",
    "    config['beta2'] = 0.999\n",
    "    config['resume_iters'] = resume_iters\n",
    "\n",
    "    # Test configurations.\n",
    "    config['test_iters'] = num_iters\n",
    "\n",
    "    # Miscellaneous.\n",
    "    config['device'] = torch.device('cuda' if torch.cuda.is_available() else 'cpu')\n",
    "    config['num_workers'] = 1\n",
    "    config['mode'] = mode\n",
    "\n",
    "    # Step size.\n",
    "    config['log_step'] = log_step #10\n",
    "    config['sample_step'] = sample_step\n",
    "    config['model_save_step'] =  model_save_step #10000\n",
    "    config['lr_update_step'] = lr_update_step # 1000\n",
    "\n",
    "    EXPERIMENT_RESULTS_FOLDER = EXPERIMENTS_DIRECTORY + 'gan-experiments/'\n",
    "\n",
    "    suffix = str(repeat_num) + '-cdim-' + str(len(selected_attributes))\n",
    "    config['log_dir'] = EXPERIMENT_RESULTS_FOLDER + 'logs-' + suffix\n",
    "    config['sample_dir'] = EXPERIMENT_RESULTS_FOLDER + 'sample_dir-' + suffix\n",
    "    config['model_save_dir'] = EXPERIMENT_RESULTS_FOLDER + 'model_save_dir-' + suffix\n",
    "    config['result_dir'] = EXPERIMENT_RESULTS_FOLDER + 'result_dir-' + suffix\n",
    "\n",
    "    print('\\n\\nPlease ensure you are using a GPU for computation')\n",
    "    print('Will be using the following device for computation : ', config['device'])\n",
    "\n",
    "    # Create directories if not exist.\n",
    "    if not os.path.exists(config['log_dir']):\n",
    "        os.makedirs(config['log_dir'])\n",
    "    if not os.path.exists(config['sample_dir']):\n",
    "        os.makedirs(config['sample_dir'])\n",
    "    if not os.path.exists(config['model_save_dir']):\n",
    "        os.makedirs(config['model_save_dir'])\n",
    "    if not os.path.exists(config['result_dir']):\n",
    "        os.makedirs(config['result_dir'])\n",
    "\n",
    "    return config"
   ]
  },
  {
   "cell_type": "markdown",
   "metadata": {
    "id": "T-Pj8Z_6QIm1"
   },
   "source": [
    "### Data\n",
    "\n",
    "We have downloaded pre-processed and stored data in the HDF5 format on the zip file provided with the assignment. Think of the file storing a large numpy ndarray of images (shape : `num_imgs x num_channels x height x width`). `celebA` class implemented below derives from `torch.utils.data.Dataset` and provides the code infrastucture to read images from this file. \n",
    "\n",
    "This data contains images of many celebrities along with labels for various image attributes (hair, gender, age, etc). There are 40 such attributes. We will use them later for cool applications. "
   ]
  },
  {
   "cell_type": "code",
   "execution_count": null,
   "metadata": {
    "id": "gvljBNDvQNGx"
   },
   "outputs": [],
   "source": [
    "ALL_ATTRIBUTES = ['5_o_Clock_Shadow', 'Arched_Eyebrows', 'Attractive',  \n",
    "      'Bags_Under_Eyes',  'Bald', 'Bangs', 'Big_Lips', 'Big_Nose', 'Black_Hair', \n",
    "      'Blond_Hair', 'Blurry', 'Brown_Hair', 'Bushy_Eyebrows', 'Chubby',\n",
    "      'Double_Chin', 'Eyeglasses', 'Goatee', 'Gray_Hair', 'Heavy_Makeup',\n",
    "      'High_Cheekbones', 'Male', 'Mouth_Slightly_Open', 'Mustache', \n",
    "      'Narrow_Eyes', 'No_Beard', 'Oval_Face', 'Pale_Skin', 'Pointy_Nose', \n",
    "      'Receding_Hairline', 'Rosy_Cheeks', 'Sideburns', 'Smiling', 'Straight_Hair',\n",
    "      'Wavy_Hair', 'Wearing_Earrings', 'Wearing_Hat', 'Wearing_Lipstick',\n",
    "      'Wearing_Necklace', 'Wearing_Necktie', 'Young' ]\n",
    "print('# attributes = ', len(ALL_ATTRIBUTES))"
   ]
  },
  {
   "cell_type": "markdown",
   "metadata": {
    "id": "YYOlBV6sfrdF"
   },
   "source": [
    "The above attributes can help us learn a GAN which can transfer various attributes from the given input image. For example, in the original paper, they show that the input image can be transformed such that many attributes change (hair color, gender, age, skin in this example).\n",
    "<img src=\"https://i.imgur.com/eXxK09G.jpg\" style=\"width: 600px;\"/> "
   ]
  },
  {
   "cell_type": "code",
   "execution_count": null,
   "metadata": {
    "id": "gqsN-2NiQPS0"
   },
   "outputs": [],
   "source": [
    "class CelebA(torch.utils.data.Dataset):\n",
    "    \"\"\"Dataset class for the CelebA dataset.\"\"\"\n",
    "\n",
    "    def __init__(self, transform, mode, config):\n",
    "        \"\"\"Initialize and preprocess the CelebA dataset.\"\"\"\n",
    "\n",
    "        self.file = h5py.File(CELEBA_GOOGLE_DRIVE_PATH, 'r')\n",
    "        self.total_num_imgs, self.H, self.W, self.C = self.file['images'].shape\n",
    "\n",
    "        self.images = self.file['images']\n",
    "        self.attributes = self.file['attributes']\n",
    "\n",
    "        self.selected_attrs = config['selected_attributes'] \n",
    "        self.all_attr_names = ALL_ATTRIBUTES\n",
    "\n",
    "        self.transform = transform\n",
    "        self.mode = mode\n",
    "\n",
    "        self.train_dataset = []\n",
    "        self.test_dataset = []\n",
    "        self.attr2idx = {}\n",
    "        self.idx2attr = {}\n",
    "        self.preprocess()\n",
    "\n",
    "        if mode == 'train':\n",
    "            self.num_images = len(self.train_dataset)\n",
    "        else:\n",
    "            self.num_images = len(self.test_dataset)\n",
    "\n",
    "    def preprocess(self):\n",
    "        \"\"\"Preprocess the CelebA attribute file.\"\"\"\n",
    "        for i, attr_name in enumerate(self.all_attr_names):\n",
    "            self.attr2idx[attr_name] = i\n",
    "            self.idx2attr[i] = attr_name\n",
    "\n",
    "        self.all_idxs = np.arange(self.total_num_imgs)\n",
    "        N_test = 9\n",
    "        self.train_dataset = self.all_idxs[:-N_test] \n",
    "        self.test_dataset = self.all_idxs[-N_test:]\n",
    "\n",
    "        random.seed(1234)\n",
    "        np.random.seed(1234)        \n",
    "        np.random.shuffle(self.train_dataset)\n",
    "\n",
    "        print('Finished preprocessing the CelebA dataset...')\n",
    "\n",
    "    def __getitem__(self, index):\n",
    "        \"\"\"Return one image and its corresponding attribute label.\"\"\"\n",
    "        dataset = self.train_dataset if self.mode == 'train' else self.test_dataset\n",
    "        idx = dataset[index]\n",
    "\n",
    "        image = self.file['images'][idx]\n",
    "        attributes = self.file['attributes'][idx]\n",
    "\n",
    "        label = []\n",
    "        for attr_name in self.selected_attrs:\n",
    "            idx = self.attr2idx[attr_name]\n",
    "            label.append(attributes[idx])\n",
    "        \n",
    "        return self.transform(image), torch.FloatTensor(label)\n",
    "\n",
    "    def __len__(self):\n",
    "        \"\"\"Return the number of images.\"\"\"\n",
    "        return self.num_images\n",
    "\n",
    "\n",
    "def get_loader(config, mode='train'):\n",
    "    \"\"\"Build and return a data loader.\"\"\"\n",
    "    \n",
    "    batch_size = config['batch_size']\n",
    "    num_workers = config['num_workers']\n",
    "    \n",
    "    transform = []\n",
    "    transform.append(T.ToPILImage())\n",
    "    if mode == 'train':\n",
    "        transform.append(T.RandomHorizontalFlip())\n",
    "    transform.append(T.ToTensor())\n",
    "    transform.append(T.Normalize(mean=(0.5, 0.5, 0.5), std=(0.5, 0.5, 0.5)))\n",
    "    transform = T.Compose(transform)\n",
    "    \n",
    "    dataset = CelebA(transform, mode, config)\n",
    "\n",
    "    data_loader = torch.utils.data.DataLoader(dataset=dataset,\n",
    "                                  batch_size=batch_size,\n",
    "                                  shuffle=(mode=='train'),\n",
    "                                  num_workers=num_workers)\n",
    "    return data_loader\n",
    "  \n",
    "def denorm(x):\n",
    "    \"\"\"Convert the range from [-1, 1] to [0, 1].\"\"\"\n",
    "    out = (x + 1) / 2\n",
    "    return out.clamp_(0, 1)"
   ]
  },
  {
   "cell_type": "code",
   "execution_count": null,
   "metadata": {
    "id": "bF4rhou1QQ2G"
   },
   "outputs": [],
   "source": [
    "SELECTED_ATTRIBUTES = ['Black_Hair', 'Blond_Hair', 'Brown_Hair']\n",
    "\n",
    "small_config = get_experiment_configuration(repeat_num=1, num_iters=20000,\n",
    "              batch_size=128, selected_attributes = SELECTED_ATTRIBUTES)\n",
    "\n",
    "loader = get_loader(small_config, mode='test')\n",
    "data_iter = iter(loader)\n",
    "x_fixed, _ = next(data_iter)\n",
    "\n",
    "from torchvision.transforms import ToPILImage\n",
    "to_img = ToPILImage()\n",
    "\n",
    "# display tensor\n",
    "to_img( denorm( x_fixed[0]  ) )"
   ]
  },
  {
   "cell_type": "markdown",
   "metadata": {
    "id": "wHlF8-VVQSqI"
   },
   "source": [
    "### Modules for Generator and Discriminator\n",
    "\n",
    "The following cell defines the generator and discriminator networks as `nn.Modules` ."
   ]
  },
  {
   "cell_type": "code",
   "execution_count": null,
   "metadata": {
    "id": "E0nZM5PpQUOK"
   },
   "outputs": [],
   "source": [
    "class ResidualBlock(nn.Module):\n",
    "    \"\"\"Residual Block with instance normalization.\"\"\"\n",
    "    def __init__(self, dim_in, dim_out):\n",
    "        super(ResidualBlock, self).__init__()\n",
    "        self.main = nn.Sequential(\n",
    "            nn.Conv2d(dim_in, dim_out, kernel_size=3, stride=1, padding=1, bias=False),\n",
    "            nn.InstanceNorm2d(dim_out, affine=True, track_running_stats=True),\n",
    "            nn.ReLU(inplace=True),\n",
    "            nn.Conv2d(dim_out, dim_out, kernel_size=3, stride=1, padding=1, bias=False),\n",
    "            nn.InstanceNorm2d(dim_out, affine=True, track_running_stats=True))\n",
    "\n",
    "    def forward(self, x):\n",
    "        return x + self.main(x)\n",
    "\n",
    "class Generator(nn.Module):\n",
    "    \"\"\"Generator network.\"\"\"\n",
    "    def __init__(self, conv_dim=64, c_dim=5, repeat_num=6):\n",
    "        super(Generator, self).__init__()\n",
    "\n",
    "        layers = []\n",
    "        layers.append(nn.Conv2d(3+c_dim, conv_dim, kernel_size=7, stride=1, padding=3, bias=False))\n",
    "        layers.append(nn.InstanceNorm2d(conv_dim, affine=True, track_running_stats=True))\n",
    "        layers.append(nn.ReLU(inplace=True))\n",
    "\n",
    "        # Down-sampling layers.\n",
    "        curr_dim = conv_dim\n",
    "        for i in range(2):\n",
    "            layers.append(nn.Conv2d(curr_dim, curr_dim*2, kernel_size=4, stride=2, padding=1, bias=False))\n",
    "            layers.append(nn.InstanceNorm2d(curr_dim*2, affine=True, track_running_stats=True))\n",
    "            layers.append(nn.ReLU(inplace=True))\n",
    "            curr_dim = curr_dim * 2\n",
    "\n",
    "        # Bottleneck layers.\n",
    "        for i in range(repeat_num):\n",
    "            layers.append(ResidualBlock(dim_in=curr_dim, dim_out=curr_dim))\n",
    "\n",
    "        # Up-sampling layers.\n",
    "        for i in range(2):\n",
    "            layers.append(nn.ConvTranspose2d(curr_dim, curr_dim//2, kernel_size=4, stride=2, padding=1, bias=False))\n",
    "            layers.append(nn.InstanceNorm2d(curr_dim//2, affine=True, track_running_stats=True))\n",
    "            layers.append(nn.ReLU(inplace=True))\n",
    "            curr_dim = curr_dim // 2\n",
    "\n",
    "        layers.append(nn.Conv2d(curr_dim, 3, kernel_size=7, stride=1, padding=3, bias=False))\n",
    "        layers.append(nn.Tanh())\n",
    "        self.main = nn.Sequential(*layers)\n",
    "\n",
    "    def forward(self, x, c):\n",
    "        # Replicate spatially and concatenate domain information.\n",
    "        # Note that this type of label conditioning does not work at all if we use reflection padding in Conv2d.\n",
    "        # This is because instance normalization ignores the shifting (or bias) effect.\n",
    "        c = c.view(c.size(0), c.size(1), 1, 1)\n",
    "        c = c.repeat(1, 1, x.size(2), x.size(3))\n",
    "        x = torch.cat([x, c], dim=1)\n",
    "        return self.main(x)\n",
    "\n",
    "class Discriminator(nn.Module):\n",
    "    \"\"\"Discriminator network.\"\"\"\n",
    "    def __init__(self, image_size=128, conv_dim=64, c_dim=5, repeat_num=6):\n",
    "        super(Discriminator, self).__init__()\n",
    "        layers = []\n",
    "        layers.append(nn.Conv2d(3, conv_dim, kernel_size=4, stride=2, padding=1))\n",
    "        layers.append(nn.LeakyReLU(0.01))\n",
    "\n",
    "        curr_dim = conv_dim\n",
    "        for i in range(1, repeat_num):\n",
    "            layers.append(nn.Conv2d(curr_dim, curr_dim*2, kernel_size=4, stride=2, padding=1))\n",
    "            layers.append(nn.LeakyReLU(0.01))\n",
    "            curr_dim = curr_dim * 2\n",
    "\n",
    "        kernel_size = int(image_size / np.power(2, repeat_num))\n",
    "        self.main = nn.Sequential(*layers)\n",
    "        self.conv1 = nn.Conv2d(curr_dim, 1, kernel_size=3, stride=1, padding=1, bias=False)\n",
    "        self.conv2 = nn.Conv2d(curr_dim, c_dim, kernel_size=kernel_size, bias=False)\n",
    "        \n",
    "    def forward(self, x):\n",
    "        h = self.main(x)\n",
    "        out_src = self.conv1(h)\n",
    "        out_cls = self.conv2(h)\n",
    "        return out_src, out_cls.view(out_cls.size(0), out_cls.size(1))"
   ]
  },
  {
   "cell_type": "markdown",
   "metadata": {
    "id": "vBsEL946QXQp"
   },
   "source": [
    "Miscellaneous functions for updating learning rates, resetting the gradients and restoring a trained model from storage."
   ]
  },
  {
   "cell_type": "code",
   "execution_count": null,
   "metadata": {
    "id": "Oagjs8fjQWaW"
   },
   "outputs": [],
   "source": [
    "def update_lr(g_optimizer, d_optimizer, g_lr, d_lr):\n",
    "    \"\"\"Decay learning rates of the generator and discriminator.\"\"\"\n",
    "    for param_group in g_optimizer.param_groups:\n",
    "        param_group['lr'] = g_lr\n",
    "    for param_group in d_optimizer.param_groups:\n",
    "        param_group['lr'] = d_lr\n",
    "\n",
    "def reset_grad(g_optimizer, d_optimizer):    \n",
    "    g_optimizer.zero_grad()\n",
    "    d_optimizer.zero_grad()"
   ]
  },
  {
   "cell_type": "markdown",
   "metadata": {
    "id": "y4B9d3VyQaYz"
   },
   "source": [
    "### Helper Functions\n",
    "\n",
    "Implement the following helper functions to complete the training code. Follow the instructions in the questions below.\n"
   ]
  },
  {
   "cell_type": "markdown",
   "metadata": {
    "id": "adVQ8cA_QbJn"
   },
   "source": [
    "\n",
    "### Q3.1  Print number of parameters in the networks (5 points)\n",
    "\n",
    "Write a function that takes input as a model and the model name, and prints the model and the number of parameters in the model.\n"
   ]
  },
  {
   "cell_type": "code",
   "execution_count": null,
   "metadata": {
    "id": "XJL2sFyIQdYM"
   },
   "outputs": [],
   "source": [
    "def print_network(model, name):\n",
    "  \"\"\"Print out the network information.\"\"\"\n",
    "  num_params = 0\n",
    "\n",
    "  ################################################\n",
    "  ##### TODO CODE HERE\n",
    "  raise NotImplementedError\n",
    "  ################################################\n",
    "\n",
    "  print(\"The number of parameters: {}\".format(num_params))"
   ]
  },
  {
   "cell_type": "markdown",
   "metadata": {
    "id": "l-VXFVYPQgkB"
   },
   "source": [
    "### Q3.2 Invoke the optimizers on the Generator and Discriminator parameters (5 points)\n",
    "Write a function that takes optimization parameters as input and returns optimizer functions for the discriminator and generator in PyTorch. Use [ADAM](https://arxiv.org/pdf/1412.6980.pdf) optimizer with the parameters $\\beta_1$ and $\\beta_2$ specified earlier."
   ]
  },
  {
   "cell_type": "code",
   "execution_count": null,
   "metadata": {
    "id": "WFdZNMCaQiAQ"
   },
   "outputs": [],
   "source": [
    "def get_optimizers(G, D, g_learning_rate, d_learning_rate, beta1, beta2):\n",
    "    \"\"\"\n",
    "    Returns a 2-tuple, optimizers for parameters of netD and netG\n",
    "    \"\"\"\n",
    "\n",
    "    ################################################\n",
    "    ##### TODO CODE HERE\n",
    "    g_optimizer = raise NotImplementedError\n",
    "    d_optimizer = raise NotImplementedError\n",
    "    ################################################\n",
    "\n",
    "    return g_optimizer, d_optimizer"
   ]
  },
  {
   "cell_type": "markdown",
   "metadata": {
    "id": "EUzYlXcKQkLE"
   },
   "source": [
    "### Q3.3 Compute classification loss (5 points)\n",
    "\n",
    "Given the logits and the target labels, compute binary cross entropy loss $\\ell_{\\text{cls}}$ ."
   ]
  },
  {
   "cell_type": "code",
   "execution_count": null,
   "metadata": {
    "id": "moFjnMzNQk4B"
   },
   "outputs": [],
   "source": [
    "def classification_loss(logit, target):\n",
    "    \"\"\"\n",
    "    Compute binary cross entropy loss.\n",
    "    \"\"\"\n",
    "\n",
    "    loss = 0.0\n",
    "\n",
    "    ################################################\n",
    "    ##### TODO CODE HERE\n",
    "    loss = raise NotImplementedError\n",
    "    ################################################\n",
    "\n",
    "    return loss"
   ]
  },
  {
   "cell_type": "markdown",
   "metadata": {
    "id": "AOxX4dbRQol0"
   },
   "source": [
    "### Q3.4 Compute reconstruction loss (5 points)\n",
    "\n",
    "This is a very popular loss function used in situations where you are given an original input $x$. In generative learning, through some latent space, you'll generate an almost replica of $x$, let us denote it by $\\hat{x}$.\n",
    "\n",
    "The reconstruction loss measures the distance between the replica and the original. Let $N$ be the number of elements in $x$ and $\\hat{x}$, then the loss can be written as \n",
    "\n",
    "$$\n",
    "\\ell_{\\text{rec}} =  \\frac{1}{N} \\sum^N_{i=1} | x_i - \\hat{x}_i |\n",
    "$$"
   ]
  },
  {
   "cell_type": "code",
   "execution_count": null,
   "metadata": {
    "id": "34_XK4pOQqsh"
   },
   "outputs": [],
   "source": [
    "def reconstruction_loss( x_real, x_reconstructed ):\n",
    "    \"\"\"\n",
    "    Compute the reconstruction loss.\n",
    "    \"\"\"\n",
    "\n",
    "    ################################################\n",
    "    ##### TODO CODE HERE\n",
    "    loss = raise NotImplementedError\n",
    "    ################################################\n",
    "\n",
    "    return loss"
   ]
  },
  {
   "cell_type": "markdown",
   "metadata": {
    "id": "ZVE8i3_mQ6OB"
   },
   "source": [
    "### Q3.5 Implement the discriminator loss (5 points)\n",
    "Write a function that returns the discriminator loss written as :\n",
    "\n",
    "$$\n",
    "\\ell_{discriminator} = \\ell_{real} + \\ell_{fake}  +  \\lambda_{cls} * \\ell_{cls}\n",
    "$$\n",
    "\n",
    "Note that we add an additional term associated with the generated data (its simple to compute so we do it for you :P )."
   ]
  },
  {
   "cell_type": "code",
   "execution_count": null,
   "metadata": {
    "id": "6SqLMA4VQ98P"
   },
   "outputs": [],
   "source": [
    "def get_discriminator_loss(G, D, label_org, x_real, c_trg, lambda_cls, lambda_gp):\n",
    "    \"\"\"\n",
    "    \"\"\"\n",
    "\n",
    "    out_src, out_cls = D(x_real)\n",
    "    d_loss_real = -torch.mean(out_src)\n",
    "    ################################################\n",
    "    ##### TODO CODE HERE\n",
    "    ##### classification loss between out_cls, label_org\n",
    "    d_loss_cls = raise NotImplementedError\n",
    "    ################################################\n",
    "\n",
    "    # Compute loss with fake images.\n",
    "    x_fake = G(x_real, c_trg)\n",
    "    out_src, out_cls = D(x_fake.detach())\n",
    "    d_loss_fake = torch.mean(out_src)\n",
    "\n",
    "    d_loss_gp = 0\n",
    "\n",
    "    # Backward and optimize.\n",
    "    d_loss = d_loss_real + d_loss_fake\n",
    "    ################################################\n",
    "    ##### TODO CODE HERE\n",
    "    ##### add remaining loss terms as described in the problem\n",
    "    d_loss += raise NotImplementedError\n",
    "    ################################################\n",
    "    \n",
    "    return d_loss, d_loss_real, d_loss_fake, d_loss_cls, d_loss_gp"
   ]
  },
  {
   "cell_type": "markdown",
   "metadata": {
    "id": "vHuGhQHhRAzx"
   },
   "source": [
    "### Q3.6 Implement the generator loss (5 points)\n",
    "\n",
    "Write a function that returns the generator loss written as :\n",
    "\n",
    "$$\n",
    "\\ell_{generator} = \\ell_{fake} + \\lambda_{rec} * \\ell_{rec} +  \\lambda_{cls} * \\ell_{cls}\n",
    "$$\n",
    "\n",
    "Note that we add an additional term associated with the generated data (its simple to compute so we do it for you :P )."
   ]
  },
  {
   "cell_type": "code",
   "execution_count": null,
   "metadata": {
    "id": "rIjmvfYaRBlt"
   },
   "outputs": [],
   "source": [
    "def get_generator_loss(G, D, x_real, c_trg, c_org, label_trg, lambda_rec, lambda_cls):\n",
    "    \"\"\"\n",
    "    \"\"\"\n",
    "\n",
    "    # Original-to-target domain.\n",
    "    x_fake = G(x_real, c_trg)\n",
    "    out_src, out_cls = D(x_fake)\n",
    "    g_loss_fake = - torch.mean(out_src)\n",
    "\n",
    "    ################################################\n",
    "    ##### TODO CODE HERE\n",
    "    ##### classification loss between out_cls and label_trg\n",
    "    g_loss_cls = raise NotImplementedError\n",
    "    ################################################\n",
    "\n",
    "    # Target-to-original domain.\n",
    "    x_reconst = G(x_fake, c_org)\n",
    "    ################################################\n",
    "    ##### TODO CODE HERE\n",
    "    ##### reconstruction loss between x_real and x_reconst\n",
    "    g_loss_rec = raise NotImplementedError\n",
    "    ################################################\n",
    "\n",
    "    # Backward and optimize.\n",
    "    g_loss = g_loss_fake\n",
    "    ################################################\n",
    "    ##### TODO CODE HERE\n",
    "    ##### add remaining loss terms as described in the problem\n",
    "    g_loss += raise NotImplementedError\n",
    "    ################################################\n",
    "\n",
    "    return g_loss, g_loss_fake, g_loss_cls, g_loss_rec"
   ]
  },
  {
   "cell_type": "markdown",
   "metadata": {
    "id": "YiI9JUv5REVO"
   },
   "source": [
    "The following cell initializes the generator and discriminator. Prints both  neural networks, and allocates optimizers."
   ]
  },
  {
   "cell_type": "code",
   "execution_count": null,
   "metadata": {
    "id": "4Boq4dEKRFf3"
   },
   "outputs": [],
   "source": [
    "# Instantiate Generator and Discriminator\n",
    "\n",
    "SELECTED_ATTRIBUTES = ['Blond_Hair']\n",
    "\n",
    "config = get_experiment_configuration(repeat_num=1, num_iters=10000, \n",
    "              log_step=100, sample_step=1000, model_save_step=1000, \n",
    "              batch_size=64, selected_attributes = SELECTED_ATTRIBUTES)\n",
    "\n",
    "G = Generator(config['g_conv_dim'], config['c_dim'], config['g_repeat_num'])\n",
    "\n",
    "D = Discriminator(config['image_size'], \n",
    "                  config['d_conv_dim'], \n",
    "                  config['c_dim'], \n",
    "                  config['d_repeat_num']) \n",
    "\n",
    "g_optimizer, d_optimizer = get_optimizers(G, D, \n",
    "                                          config['g_lr'], config['d_lr'], \n",
    "                                          config['beta1'], config['beta2'])\n",
    "\n",
    "print_network(G, 'G')\n",
    "print_network(D, 'D')\n",
    "    \n",
    "G = G.to(config['device'])\n",
    "D = D.to(config['device'])"
   ]
  },
  {
   "cell_type": "code",
   "execution_count": null,
   "metadata": {
    "id": "v3sujVICRIS9"
   },
   "outputs": [],
   "source": [
    "def create_labels(c_org, c_dim=5, selected_attrs=SELECTED_ATTRIBUTES):\n",
    "    \"\"\"Generate target domain labels for debugging and testing.\"\"\"\n",
    "    # Get hair color indices.\n",
    "    hair_color_indices = []\n",
    "    for i, attr_name in enumerate(selected_attrs):\n",
    "        if attr_name in ['Black_Hair', 'Blond_Hair', 'Brown_Hair', 'Gray_Hair']:\n",
    "            hair_color_indices.append(i)\n",
    "\n",
    "    c_trg_list = []\n",
    "    for i in range(c_dim):\n",
    "        c_trg = c_org.clone()\n",
    "        if i in hair_color_indices:  # Set one hair color to 1 and the rest to 0.\n",
    "            c_trg[:, i] = 1\n",
    "            for j in hair_color_indices:\n",
    "                if j != i:\n",
    "                    c_trg[:, j] = 0\n",
    "        else:\n",
    "            c_trg[:, i] = (c_trg[:, i] == 0)  # Reverse attribute value.\n",
    "\n",
    "        c_trg_list.append(c_trg.to(config['device']))\n",
    "    return c_trg_list\n",
    "\n",
    "# Set data loader.\n",
    "data_loader = get_loader(config, 'train')\n",
    "device = config['device']\n",
    "\n",
    "# Fetch fixed inputs for debugging.\n",
    "data_iter = iter(data_loader)\n",
    "x_fixed, c_org = next(data_iter)\n",
    "x_fixed = x_fixed.to(device)\n",
    "c_fixed_list = create_labels(c_org, config['c_dim'], config['selected_attributes'])"
   ]
  },
  {
   "cell_type": "markdown",
   "metadata": {
    "id": "zFEtsYS9RLVp"
   },
   "source": [
    "### Q3.7 : Training loop (10 points)\n",
    "Now, using the functions defined above, implement the main training loop. Some of it has already been done for you. Fill in code where indicated.\n",
    "\n",
    "Note that your after every `config['sample_step']`, the code generates new samples in the directory indicated in the configuration. Please monitor this to see how your generated images look like.\n"
   ]
  },
  {
   "cell_type": "code",
   "execution_count": null,
   "metadata": {
    "id": "uJD8P_mmRPl7"
   },
   "outputs": [],
   "source": [
    "# Learning rate cache for decaying.\n",
    "g_lr = config['g_lr']\n",
    "d_lr = config['d_lr']\n",
    "\n",
    "# Start training from scratch or resume training.\n",
    "start_iters = 0\n",
    "\n",
    "G_losses = []\n",
    "D_losses = []\n",
    "cur_g_loss = 0\n",
    "cur_d_loss = 0\n",
    "\n",
    "# Start training.\n",
    "print('Start training...')\n",
    "start_time = time.time()\n",
    "for i in range(start_iters, config['num_iters']):\n",
    "    # =================================================================================== #\n",
    "    #                             1. Preprocess input data                                #\n",
    "    # =================================================================================== #\n",
    "\n",
    "    # Fetch real images and labels.\n",
    "    try:\n",
    "        x_real, label_org = next(data_iter)\n",
    "    except:\n",
    "        data_iter = iter(data_loader)\n",
    "        x_real, label_org = next(data_iter)\n",
    "\n",
    "    # Generate target domain labels randomly.\n",
    "    rand_idx = torch.randperm(label_org.size(0))\n",
    "    label_trg = label_org[rand_idx]\n",
    "\n",
    "    c_org = label_org.clone()\n",
    "    c_trg = label_trg.clone()\n",
    "\n",
    "    x_real = x_real.to(device)           # Input images.\n",
    "    c_org = c_org.to(device)             # Original labels.\n",
    "    c_trg = c_trg.to(device)             # Target labels.\n",
    "    label_org = label_org.to(device)     # Labels for computing classification loss.\n",
    "    label_trg = label_trg.to(device)     # Labels for computing classification loss.\n",
    "\n",
    "    # Train discriminator\n",
    "    ################################################\n",
    "    ##### TODO CODE HERE\n",
    "    ##### Get the discriminator loss and optimize discriminator\n",
    "    d_loss, d_loss_real, d_loss_fake, d_loss_cls, d_loss_gp = raise NotImplementedError\n",
    "    \n",
    "    # Now Optimize discriminator\n",
    "    ################################################\n",
    "\n",
    "    cur_d_loss = d_loss.item()\n",
    "    # Logging.\n",
    "    loss = {}\n",
    "    loss['D/loss_real'] = d_loss_real.item()\n",
    "    loss['D/loss_fake'] = d_loss_fake.item()\n",
    "    loss['D/loss_cls'] = d_loss_cls.item()\n",
    "    loss['D/loss_gp'] = d_loss_gp.item()\n",
    "    \n",
    "    # Train the generator                         \n",
    "    ################################################\n",
    "    ##### TODO CODE HERE\n",
    "    ##### Get the generator loss and optimize generator\n",
    "    g_loss, g_loss_fake, g_loss_cls, g_loss_rec =  raise NotImplementedError     \n",
    "    \n",
    "    # Now Optimize generator\n",
    "    ################################################\n",
    "\n",
    "    # Logging.\n",
    "    loss['G/loss_fake'] = g_loss_fake.item()\n",
    "    loss['G/loss_rec'] = g_loss_rec.item()\n",
    "    loss['G/loss_cls'] = g_loss_cls.item()\n",
    "    cur_g_loss = g_loss.item() \n",
    "\n",
    "    # Save Losses for plotting later\n",
    "    G_losses.append(cur_g_loss)\n",
    "    D_losses.append(cur_d_loss)\n",
    "\n",
    "    # Print out training information.\n",
    "    if (i+1) % config['log_step']  == 0:\n",
    "        et = time.time() - start_time\n",
    "        et = str(datetime.timedelta(seconds=et))[:-7]\n",
    "        log = \"Elapsed [{}], Iteration [{}/{}]\".format(et, i+1, config['num_iters'])\n",
    "        for tag, value in loss.items():\n",
    "            log += \", {}: {:.4f}\".format(tag, value)\n",
    "        print(log)\n",
    "\n",
    "    # Translate fixed images for debugging.\n",
    "    if (i+1) %  config['sample_step']  == 0:\n",
    "        with torch.no_grad():\n",
    "            x_fake_list = [x_fixed]\n",
    "            for c_fixed in c_fixed_list:\n",
    "                x_fake_list.append(G(x_fixed, c_fixed))\n",
    "            x_concat = torch.cat(x_fake_list, dim=3)\n",
    "            sample_path = os.path.join(config['sample_dir'], '{}-images.jpg'.format(i+1))\n",
    "            save_image(denorm(x_concat.data.cpu()), sample_path, nrow=1, padding=0)\n",
    "            print('Saved real and fake images into {}...'.format(sample_path))\n",
    "\n",
    "    # Decay learning rates.\n",
    "    if (i+1) % config['lr_update_step'] == 0 and (i+1) > (config['num_iters'] - config['num_iters_decay']):\n",
    "        g_lr -= (config['g_lr'] / float(config['num_iters_decay']))\n",
    "        d_lr -= (config['d_lr'] / float(config['num_iters_decay']))\n",
    "        update_lr(g_optimizer, d_optimizer, g_lr, d_lr)\n",
    "        print ('Decayed learning rates, g_lr: {}, d_lr: {}.'.format(g_lr, d_lr))"
   ]
  },
  {
   "cell_type": "markdown",
   "metadata": {
    "id": "bVXxjM7ORLP7"
   },
   "source": [
    "- Plot the generator and discriminator losses. Remember to leave this output intact when you submit the notebook. Not doing so would result in a 2 points penalty."
   ]
  },
  {
   "cell_type": "code",
   "execution_count": null,
   "metadata": {
    "id": "geJn6oOARSNA"
   },
   "outputs": [],
   "source": [
    "# Losses\n",
    "plt.figure(figsize=(10,5))\n",
    "plt.title(\"Generator and Discriminator Loss During Training\")\n",
    "plt.plot(G_losses,label=\"G\")\n",
    "plt.plot(D_losses,label=\"D\")\n",
    "plt.xlabel(\"iterations\")\n",
    "plt.ylabel(\"Loss\")\n",
    "plt.legend()\n",
    "plt.show()"
   ]
  },
  {
   "cell_type": "markdown",
   "metadata": {
    "id": "00QYk7J-RWjk"
   },
   "source": [
    "## Q4: Hair-style transformation [60 points]\n",
    "\n",
    "In this problem, we will take image and change hair styles as per the trained GAN in the previous step"
   ]
  },
  {
   "cell_type": "markdown",
   "metadata": {
    "id": "W3rTkwGiRXZZ"
   },
   "source": [
    "### Q4.1 : Save trained model (5 points)\n",
    "\n",
    "We will implement a routine to save the trained generator and discrimantor models, so that we can simply load these later on for inference."
   ]
  },
  {
   "cell_type": "code",
   "execution_count": null,
   "metadata": {
    "id": "yfZ35sFxRZ_f"
   },
   "outputs": [],
   "source": [
    "def save_model(G, D, config, step):\n",
    "    \"\"\"\n",
    "    Save the trained generator and discriminator\n",
    "    \"\"\"\n",
    "    model_save_dir = config['model_save_dir']\n",
    "    G_path = os.path.join(model_save_dir, '{}-G.ckpt'.format(step+1))\n",
    "    D_path = os.path.join(model_save_dir, '{}-D.ckpt'.format(step+1))\n",
    "\n",
    "    ################################################\n",
    "    ##### TODO CODE HERE\n",
    "    raise NotImplementedError\n",
    "    ################################################\n",
    "    \n",
    "    print('Saved model checkpoints into {}...'.format(model_save_dir))\n"
   ]
  },
  {
   "cell_type": "markdown",
   "metadata": {
    "id": "01w4Md9GRatn"
   },
   "source": [
    "### Q4.2 : Load trained model (5 points)\n",
    "\n",
    "We will implement a routine to load the trained generator and discrimantor models."
   ]
  },
  {
   "cell_type": "code",
   "execution_count": null,
   "metadata": {
    "id": "dG-GqisTRcYN"
   },
   "outputs": [],
   "source": [
    "def restore_model(resume_iters, model_save_dir):\n",
    "    \"\"\"\n",
    "    Restore the trained generator and discriminator.\n",
    "    \"\"\"\n",
    "\n",
    "    print('Loading the trained models from step {}...'.format(resume_iters))\n",
    "    G_path = os.path.join(model_save_dir, '{}-G.ckpt'.format(resume_iters))\n",
    "    D_path = os.path.join(model_save_dir, '{}-D.ckpt'.format(resume_iters))\n",
    "\n",
    "    ################################################\n",
    "    ##### TODO CODE HERE\n",
    "    raise NotImplementedError\n",
    "    ################################################\n",
    "\n",
    "    return G, D"
   ]
  },
  {
   "cell_type": "markdown",
   "metadata": {
    "id": "7EtNx4gSRevi"
   },
   "source": [
    "### Q4.3 Implement gradient penalty (10 points)\n",
    "\n",
    "Given $y = f(x)$, we refer $ \\frac{ dy }{ dx } $ as the gradient in this problem. We want to include a gradient penalty in the GAN loss. \n",
    "We can write gradient penalty $\\ell_{gp}$ as \n",
    "\n",
    "$$\n",
    "\\ell_{gp} = \\Bigg\\|  \\Big\\| \\frac{ dy }{ dx } \\Big\\|_2 - 1 \\Bigg\\|^2\n",
    "$$\n",
    "\n",
    "(Hint : Using ```grad``` function in the ```torch.autograd``` modules, compute the gradient penalty )"
   ]
  },
  {
   "cell_type": "code",
   "execution_count": null,
   "metadata": {
    "id": "W3fmCkpJRfZP"
   },
   "outputs": [],
   "source": [
    "def gradient_penalty(y, x):\n",
    "    \"\"\"\n",
    "    Compute gradient penalty: (L2_norm(dy/dx) - 1)**2.\n",
    "    \"\"\"\n",
    "\n",
    "    ################################################\n",
    "    ##### TODO CODE HERE\n",
    "    dydx_l2norm = raise NotImplementedError\n",
    "    ################################################\n",
    "\n",
    "    loss = torch.mean((dydx_l2norm-1)**2)\n",
    "    return loss"
   ]
  },
  {
   "cell_type": "markdown",
   "metadata": {
    "id": "EBWi2WH6RhhP"
   },
   "source": [
    "### Q4.4 Implement the discriminator loss (5 points)\n",
    "Write a function that returns the discriminator loss written as :\n",
    "\n",
    "$$\n",
    "\\ell_{discriminator} = \\ell_{real} + \\ell_{fake} + \\lambda_{gp} \\times \\ell_{gp} +  \\lambda_{cls} \\times \\ell_{cls}\n",
    "$$\n",
    "\n",
    "Note that we add an additional term associated with the generated data (its simple to compute so we do it for you :P )."
   ]
  },
  {
   "cell_type": "code",
   "execution_count": null,
   "metadata": {
    "id": "b29Aeko5RiMv"
   },
   "outputs": [],
   "source": [
    "\n",
    "def get_new_discriminator_loss(G, D, label_org, x_real, c_trg, lambda_cls, lambda_gp):\n",
    "    \"\"\"\n",
    "    \"\"\"\n",
    "\n",
    "    out_src, out_cls = D(x_real)\n",
    "    d_loss_real = -torch.mean(out_src)\n",
    "    ################################################\n",
    "    ##### TODO CODE HERE\n",
    "    ##### classification loss between out_cls, label_org\n",
    "    d_loss_cls = raise NotImplementedError\n",
    "    ################################################\n",
    "\n",
    "    # Compute loss with fake images.\n",
    "    x_fake = G(x_real, c_trg)\n",
    "    out_src, out_cls = D(x_fake.detach())\n",
    "    d_loss_fake = torch.mean(out_src)\n",
    "\n",
    "    # Compute loss for gradient penalty.\n",
    "    alpha = torch.rand(x_real.size(0), 1, 1, 1).to(device)\n",
    "    x_hat = (alpha * x_real.data + (1 - alpha) * x_fake.data).requires_grad_(True)\n",
    "    out_src, _ = D(x_hat)\n",
    "    ################################################\n",
    "    ##### TODO CODE HERE\n",
    "    ##### gradient penalty on y=out_src, x=x_hat\n",
    "    d_loss_gp = raise NotImplementedError\n",
    "    ################################################\n",
    "\n",
    "    # Backward and optimize.\n",
    "    d_loss = d_loss_real + d_loss_fake\n",
    "    ################################################\n",
    "    ##### TODO CODE HERE\n",
    "    ##### add remaining loss terms as described in the problem\n",
    "    d_loss += raise NotImplementedError\n",
    "    ################################################\n",
    "    \n",
    "    return d_loss, d_loss_real, d_loss_fake, d_loss_cls, d_loss_gp"
   ]
  },
  {
   "cell_type": "markdown",
   "metadata": {
    "id": "7fM-Z9liRkd8"
   },
   "source": [
    "### Q4.5 : Initialize a larger GAN using ```get_experiment_configuration``` (10 points)\n",
    "\n",
    "We will use three hair style attributes in this experiment.\n",
    "\n",
    "We will train a larger GAN in this problem. First, lets get a larger generator and discriminator models (use more than 3 repeat blocks in the experiment configuration which will increase the number of residual blocks in both the models).\n",
    "\n",
    "Initialize the generator and discriminator accordingly and get the optimizers."
   ]
  },
  {
   "cell_type": "code",
   "execution_count": null,
   "metadata": {
    "id": "OEfUod3pRlu0"
   },
   "outputs": [],
   "source": [
    "\n",
    "SELECTED_ATTRIBUTES = ['Black_Hair', 'Blond_Hair', 'Brown_Hair']\n",
    "\n",
    "################################################\n",
    "##### TODO CODE HERE\n",
    "raise NotImplementedError\n",
    "################################################\n",
    "\n",
    "print_network(G, 'G')\n",
    "print_network(D, 'D')\n",
    "    \n",
    "G = G.to(config['device'])\n",
    "D = D.to(config['device'])"
   ]
  },
  {
   "cell_type": "markdown",
   "metadata": {
    "id": "AIVucY51RnZo"
   },
   "source": [
    "### Q4.6 : Train the larger GAN (15 points)\n",
    "\n",
    "At the heart of a GAN network is a minimax problem. Earlier we were optimizing the Generator and the Discriminator at the same speed. \n",
    "\n",
    "It turns out that in this case, its recommended that the generator is updated at a slower pace than the discriminator. \n",
    "\n",
    "One way to achieve this is to run the generator with smaller learning rate . Instead we want to use the same learning rates as before but we will update the generator every few iterations, i.e. discriminator will be trained in every iteration but the generator will be trained every 5 iterations or more specifically ```config['n_critic']``` number of iterations. Use this recommended value or update as per your intuition.\n",
    "\n",
    "Note that your after every `config['sample_step']`, the code generates new samples in the directory indicated in the configuration. Please monitor this to see how your generated images look like.\n",
    "\n",
    "The script also saves your model to the `config['model_save_dir']` every `config['mode_save_step']` so that you can resume training (in case your script crashes after making significant progress) and we can also restore this model when we generate new hairstyles on the test images.\n",
    "\n",
    "Hopefully your results will be better with these updates.\n",
    "\n",
    "This will take more than 10 hours to give you reasonable images. So start early.\n"
   ]
  },
  {
   "cell_type": "code",
   "execution_count": null,
   "metadata": {
    "id": "w1wLrKT8RoLK"
   },
   "outputs": [],
   "source": [
    "# Learning rate cache for decaying.\n",
    "g_lr = config['g_lr']\n",
    "d_lr = config['d_lr']\n",
    "\n",
    "# Start training from scratch or resume training.\n",
    "start_iters = 0\n",
    "if config['resume_iters']:\n",
    "    start_iters = config['resume_iters'] \n",
    "    G, D = restore_model(config['resume_iters'], config )\n",
    "\n",
    "G_losses = []\n",
    "D_losses = []\n",
    "cur_g_loss = 0\n",
    "cur_d_loss = 0\n",
    "\n",
    "# Start training.\n",
    "print('Start training...')\n",
    "start_time = time.time()\n",
    "for i in range(start_iters, config['num_iters']):\n",
    "    # =================================================================================== #\n",
    "    #                             1. Preprocess input data                                #\n",
    "    # =================================================================================== #\n",
    "\n",
    "    # Fetch real images and labels.\n",
    "    try:\n",
    "        x_real, label_org = next(data_iter)\n",
    "    except:\n",
    "        data_iter = iter(data_loader)\n",
    "        x_real, label_org = next(data_iter)\n",
    "\n",
    "    # Generate target domain labels randomly.\n",
    "    rand_idx = torch.randperm(label_org.size(0))\n",
    "    label_trg = label_org[rand_idx]\n",
    "\n",
    "    c_org = label_org.clone()\n",
    "    c_trg = label_trg.clone()\n",
    "\n",
    "    x_real = x_real.to(device)           # Input images.\n",
    "    c_org = c_org.to(device)             # Original labels.\n",
    "    c_trg = c_trg.to(device)             # Target labels.\n",
    "    label_org = label_org.to(device)     # Labels for computing classification loss.\n",
    "    label_trg = label_trg.to(device)     # Labels for computing classification loss.\n",
    "\n",
    "    # Train discriminator\n",
    "    ################################################\n",
    "    ##### TODO CODE HERE\n",
    "    ##### Get the discriminator loss and optimize discriminator\n",
    "    d_loss, d_loss_real, d_loss_fake, d_loss_cls, d_loss_gp = raise NotImplementedError\n",
    "    \n",
    "    # Now Optimize discriminator\n",
    "    ################################################\n",
    "\n",
    "    cur_d_loss = d_loss.item()\n",
    "    # Logging.\n",
    "    loss = {}\n",
    "    loss['D/loss_real'] = d_loss_real.item()\n",
    "    loss['D/loss_fake'] = d_loss_fake.item()\n",
    "    loss['D/loss_cls'] = d_loss_cls.item()\n",
    "    loss['D/loss_gp'] = d_loss_gp.item()\n",
    "    \n",
    "    # Train the generator                         \n",
    "    ################################################\n",
    "    ##### TODO CODE HERE\n",
    "    ##### Get the generator loss and optimize generator (every n_critic iterations)\n",
    "    g_loss, g_loss_fake, g_loss_cls, g_loss_rec =  raise NotImplementedError     \n",
    "    \n",
    "    # Now Optimize generator\n",
    "    # Logging.\n",
    "    loss['G/loss_fake'] = g_loss_fake.item()\n",
    "    loss['G/loss_rec'] = g_loss_rec.item()\n",
    "    loss['G/loss_cls'] = g_loss_cls.item()\n",
    "    ################################################\n",
    "        \n",
    "    # Print out training information.\n",
    "    if (i+1) % config['log_step']  == 0:\n",
    "        et = time.time() - start_time\n",
    "        et = str(datetime.timedelta(seconds=et))[:-7]\n",
    "        log = \"Elapsed [{}], Iteration [{}/{}]\".format(et, i+1, config['num_iters'])\n",
    "        for tag, value in loss.items():\n",
    "            log += \", {}: {:.4f}\".format(tag, value)\n",
    "        print(log)\n",
    "\n",
    "    # Translate fixed images for debugging.\n",
    "    if (i+1) %  config['sample_step']  == 0:\n",
    "        with torch.no_grad():\n",
    "            x_fake_list = [x_fixed]\n",
    "            for c_fixed in c_fixed_list:\n",
    "                x_fake_list.append(G(x_fixed, c_fixed))\n",
    "            x_concat = torch.cat(x_fake_list, dim=3)\n",
    "            sample_path = os.path.join(config['sample_dir'], '{}-images.jpg'.format(i+1))\n",
    "            save_image(denorm(x_concat.data.cpu()), sample_path, nrow=1, padding=0)\n",
    "            print('Saved real and fake images into {}...'.format(sample_path))\n",
    "\n",
    "    # Save model checkpoints.\n",
    "    if (i+1) % config['model_save_step'] == 0:\n",
    "        save_model(G, D, config, i)\n",
    "\n",
    "    # Decay learning rates.\n",
    "    if (i+1) % config['lr_update_step'] == 0 and (i+1) > (config['num_iters'] - config['num_iters_decay']):\n",
    "        g_lr -= (config['g_lr'] / float(config['num_iters_decay']))\n",
    "        d_lr -= (config['d_lr'] / float(config['num_iters_decay']))\n",
    "        update_lr(g_optimizer, d_optimizer, g_lr, d_lr)\n",
    "        print ('Decayed learning rates, g_lr: {}, d_lr: {}.'.format(g_lr, d_lr))"
   ]
  },
  {
   "cell_type": "markdown",
   "metadata": {
    "id": "C0908dwjGjgl"
   },
   "source": [
    "### Q4.7 : Generate new hairstyles for test images (10 points)\n",
    "\n",
    "We will apply the hairstyle transformations through the trained Generator model.\n",
    "We will restore the already trained model, load the test data and invoke the Generator with various hairstyle attributes."
   ]
  },
  {
   "cell_type": "markdown",
   "metadata": {
    "id": "IQjy63wE3b1i"
   },
   "source": [
    "You should expect the output to look like the following image."
   ]
  },
  {
   "cell_type": "markdown",
   "metadata": {
    "id": "lenhlW-C3WOh"
   },
   "source": [
    "<img src=\"https://i.imgur.com/gbNzQk8.jpg\" style=\"width: 600px;\"/>"
   ]
  },
  {
   "cell_type": "code",
   "execution_count": null,
   "metadata": {
    "id": "KT2d8uvPGlRM"
   },
   "outputs": [],
   "source": [
    "from IPython.display import Image, display\n",
    "\n",
    "# Choose the iteration number of the saved model (both G, D should be present)\n",
    "################################################\n",
    "##### TODO CODE HERE\n",
    "##### Load the trained model\n",
    "##### Also, load the data_loader in test mode\n",
    "G, D = raise NotImplementedError\n",
    "data_loader = raise NotImplementedError\n",
    "################################################\n",
    "\n",
    "with torch.no_grad():\n",
    "    for i, (x_real, c_org) in enumerate(data_loader):\n",
    "\n",
    "        # Prepare input images and target domain labels.\n",
    "        x_real = x_real.to(config['device'])\n",
    "        c_trg_list = create_labels(c_org, config['c_dim'], config['selected_attributes'])\n",
    "\n",
    "        # Translate images.\n",
    "        x_fake_list = [x_real]\n",
    "        for c_trg in c_trg_list:\n",
    "            x_fake = G(x_real, c_trg)\n",
    "            x_fake_list.append(x_fake)\n",
    "\n",
    "        # Save the translated images.\n",
    "        x_concat = torch.cat(x_fake_list, dim=3)\n",
    "        result_path = os.path.join( config['result_dir'], '{}-images.jpg'.format(i+1) )\n",
    "        save_image(denorm(x_concat.data.cpu()), result_path, nrow=1, padding=0)\n",
    "        print('Saved real and fake images into {}...'.format(result_path))\n",
    "        display(Image(filename=result_path))"
   ]
  },
  {
   "cell_type": "markdown",
   "metadata": {
    "id": "tzZJG01OGocI"
   },
   "source": [
    "### Q4.8 : (Bonus) Use other attributes and develop something cool. (20 points)\n",
    "\n",
    "We have seen how to change hair style using GANs so far, but its possible to use any other attributes and develop something much cooler. You can use any other loss functions or the generator/discriminator architecture. Feel free to be creative and develop something cooler. "
   ]
  }
 ],
 "metadata": {
  "accelerator": "GPU",
  "colab": {
   "collapsed_sections": [],
   "name": "HW4 DL w/o Sol.ipynb",
   "provenance": []
  },
  "kernelspec": {
   "display_name": "Python 3",
   "language": "python",
   "name": "python3"
  },
  "language_info": {
   "codemirror_mode": {
    "name": "ipython",
    "version": 3
   },
   "file_extension": ".py",
   "mimetype": "text/x-python",
   "name": "python",
   "nbconvert_exporter": "python",
   "pygments_lexer": "ipython3",
   "version": "3.7.2"
  }
 },
 "nbformat": 4,
 "nbformat_minor": 1
}
