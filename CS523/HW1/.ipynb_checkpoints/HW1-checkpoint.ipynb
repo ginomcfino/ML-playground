{
 "cells": [
  {
   "cell_type": "markdown",
   "metadata": {
    "id": "7IbwLOEjT4I4"
   },
   "source": [
    "<h4 align=\"right\">by Peter Tang and Ximeng Sun. Modified from the version by Ruizhao Zhu<br> </h4>\n",
    "\n",
    "# CS/EC523 Deep Learning\n",
    "# Problem Set 1 \n",
    "\n"
   ]
  },
  {
   "cell_type": "markdown",
   "metadata": {
    "id": "jpjvDX8GT4I_"
   },
   "source": [
    "## Preamble\n",
    "\n",
    "To run and solve this assignment, you need an interface to edit and run ipython notebooks (`.ipynb` files). The easiest way to complete this assignment is to use Google Colab. You can just copy the assignment notebook to your google drive and open it, edit it and run it on [Google Colab](https://colab.research.google.com/). All libraries you need are pre-installed on Colab.\n",
    "\n",
    "**Submission instructions:** please upload your completed solution files (having run all code cells and rendered all markdown/Latex) to Gradescope by the due date (see Schedule for due dates and late policy). Please upload both the notebook and the PDF (File->Download as->PDF)\n",
    "\n",
    "Gradescope link: [https://www.gradescope.com/courses/363264](https://www.gradescope.com/courses/363264)\n",
    "\n",
    "Entry Code: ZR23VJ"
   ]
  },
  {
   "cell_type": "markdown",
   "metadata": {
    "id": "LnuKbS2p3cRr"
   },
   "source": [
    "### Local installation\n",
    "The alternative is to have a local installation, although we do not recommend it. If you are working on Google Colab, feel free to skip to the next section \"More instructions\". We recommend using virtual environments for all your installations. Following is one way to set up a working environment on your local machine for this assignment, using [Anaconda](https://www.anaconda.com/distribution/): \n",
    "\n",
    "- Download and install Anaconda following the instructions [here](https://docs.anaconda.com/anaconda/install/)\n",
    "- Create a conda environment using `conda create --name dl_env python=3` (You can change the name of the environment instead of calling it `dl_env`)\n",
    "- Now activate the environment using : `conda activate dl_env`\n",
    "- Install jupyter lab, which is the [jupyter project's](https://jupyter.org/index.html) latest notebook interface : `pip install jupyterlab`. You can also use the classic jupyter notebooks and there isn't any difference except the interface.\n",
    "- Install other necessary libraries. For this assignment you need `numpy`, `scipy` , [`pytorch`](https://pytorch.org/get-started/locally/) and `matplotlib`, all of which can be installed using : `pip install <lib_name>`. Doing this in the environment, would install these libraries for `dl_env`. You can also use `conda install`.\n",
    "- Now download the assignment notebook in a local directory and launching `jupyter lab` in the same directory should open a jupyter lab session in your default browser, where you can open and edit the ipython notebook.\n",
    "- For deactivating the environment when you are done with it, use : `conda deactivate`.\n",
    "\n",
    "For users running a Jupyter server on a remote machine :\n",
    "- Launch Jupyter lab on the remote server (in the directory with the homework ipynb file) using : `jupyter lab --no-browser --ip=0.0.0.0`\n",
    "- To access the jupyter lab interface on your local browser, you need to set up ssh port forwarding. This can be done by running : `ssh -N -f -L localhost:8888:localhost:8888 <remoteuser>@<remotehost>`. You can now open `localhost:8888` on your local browser to access jupyter lab. This assumes you are running jupyter lab on its default port 8888 on the server.\n",
    "- Check \"Making life easy\" section at the end of [this post](https://ljvmiranda921.github.io/notebook/2018/01/31/running-a-jupyter-notebook/) to find how to add functions to your bash run config to do this more easily each time. The post mentions functions for jupyter notebook, but just replace those with jupyter lab if you are using that interface.\n",
    "\n",
    "The above instructions specify one way of working on the assignment. You can use other virtual environments/ipython notebook interfaces etc. (**not recommended**)."
   ]
  },
  {
   "cell_type": "markdown",
   "metadata": {
    "id": "pM-2fG3N4LaC"
   },
   "source": [
    "### More instructions\n",
    "\n",
    "If you are new to Python or its scientific library, Numpy, there are some nice tutorials [here](https://www.learnpython.org/) and [here](http://www.scipy-lectures.org/).\n",
    "\n",
    "In an ipython notebook, to run code in a cell or to render [Markdown](https://en.wikipedia.org/wiki/Markdown)+[LaTeX](https://en.wikipedia.org/wiki/LaTeX) press `Ctrl+Enter` or `[>|]`(like \"play\") button above. To edit any code or text cell (double) click on its content. To change cell type, choose \"Markdown\" or \"Code\" in the drop-down menu above.\n",
    "\n",
    "To enter your solutions for the written questions, put down your derivations into the corresponding cells below using LaTeX. Show all steps when proving statements. If you are not familiar with LaTeX, you should look at some tutorials and at the examples listed below between \\$..\\$. We will not accept handwritten solutions.\n",
    "\n",
    "Put your solutions into boxes marked with **`[double click here to add a solution]`** and press Ctrl+Enter to render text. (Double) click on a cell to edit or to see its source code. You can add cells via **`+`** sign at the top left corner.\n",
    "\n",
    "Note: `Vector` stands for `column vector` below. "
   ]
  },
  {
   "cell_type": "markdown",
   "metadata": {
    "id": "rZ5Ph9quT4JF"
   },
   "source": [
    "### Problem 1: Review of Probability and Statistics [15 points]\n",
    "\n",
    "**Q1.1**: $X$ and $Y$ are random variables. The expectaion of $X$ is  $E(X)$ and the variance of $X$ is $Var(X)$.  The expectaion of $Y$ is  $E(Y)$ and the variance of $X$ is $Var(Y)$. Prove the following:\n",
    "\n",
    "(a) $E(aX+bY) = aE(X)+bE(Y)$\n",
    "\n",
    "(b) $Var(aX+bY) = a^2 Var(X) + b^2Var(Y) + 2abCov(X,Y)$, where $Cov(X,Y)$ is covariance of X and Y.\n"
   ]
  },
  {
   "cell_type": "markdown",
   "metadata": {
    "id": "chIChbwfIv9f"
   },
   "source": [
    "**`[double click here to add a solution]`**\n",
    "\n",
    "(a) \n",
    "$$E(aX+bY) = \\Sigma_{X,Y}[(aX + bY) \\times P_{X,Y}(X+Y)]$$\n",
    "$$E(aX+bY) = \\Sigma_{X,Y}aX \\times P_{X,Y}(X+Y) + \\Sigma_{Y,X}bY \\times P_{X,Y}(X+Y)$$\n",
    "$$E(aX+bY) = a\\Sigma_{X}X \\times P_{X}(X) + b\\Sigma_{Y}Y \\times P_{Y}(Y)$$\n",
    "$$E(aX+bY) = aE(X) + bE(Y)$$\n",
    "\n",
    "(b)\n",
    "$$Cov(X,Y)=E(X,Y)-(E(X)\\times E(Y))$$\n",
    "$$2abCov(X,Y)=2ab[E(X,Y)-(E(X) \\times E(Y))]$$\n",
    "\n",
    "$$Var(aX+bY) = Var(aX) + Var(bY) + 2Cov(aX+bY)$$\n",
    "$$Var(aX+bY) = a^2Var(X) + b^2Var(Y) + 2Cov(aX+bY)$$\n",
    "\n",
    "$$Var (aX+bY) = E((aX+bY)^2) - (E(aX+bY))^2$$\n",
    "$$= E([(aX+bY) - E(aX+bY)]^2)$$\n",
    "$$= E[(a^2X^2+2abXY+b^2Y^2) - 2(aX+bY)E(aX+bY) + E(a^2X^2 + 2abXY + b^2Y^2)]$$\n",
    "$$= a^2E(X^2) + 2abE(X,Y) + b^2E(Y^2) - (a^2E(X)^2 + 2abE(X,Y) + b^2E(Y)^2)$$\n",
    "$$= a^2E(X^2) - a^2E(X)^2 + b^2E(Y^2) - b^2E(Y)^2$$\n",
    "$$= a^2Var(X) + b^2Var(y)$$\n",
    "$$=a^2X^2 + 2abXY + b^2Y^2 - (2aX+2bY)E(aX) - (2ax+2bY)E(bY) + a^2E(X^2) + 2abE(XY) + b^2E(Y^2)$$\n",
    "$$=a^2X^2 + a^2E(X^2) + b^2Y^2 + b^2E(Y^2) + 2aXE(aX) + 2bYE(aX) - 2aXE(bY) - 2bYE(bY) + 2abXY + 2abE(XY)$$\n"
   ]
  },
  {
   "cell_type": "markdown",
   "metadata": {
    "id": "ERu4tkxOIv9i"
   },
   "source": [
    "**Q1.2** Suppose $X_1,\\dots,X_N$ have mean $\\mu$ and variance $\\sigma^2$ and are independent. Let $A= (X_1 + .. + X_N)/N$ be the empirical mean.  Show that with probability at least 0.2, $|A-\\mu| < \\frac{\\sqrt{5}\\sigma}{2\\sqrt{N}}$"
   ]
  },
  {
   "cell_type": "markdown",
   "metadata": {
    "id": "p_ZKL_5XIv9k"
   },
   "source": [
    "**`[double click here to add a solution]`**"
   ]
  },
  {
   "cell_type": "markdown",
   "metadata": {
    "id": "zdDnhTezIv9p"
   },
   "source": [
    "**Q1.3**: Assume that we are given $n$ iid samples $(x_1, ..., x_n)$ from each $P(x \\ | \\ \\theta)$ given below. Compute the maximum likelihood estimates (MLEs) for the parameter $\\theta$ $(\\alpha,  \\beta)$ of the given distributions. \n",
    "\n",
    "\n",
    "**Q1.3.1** $P(x \\ | \\ \\theta) = \\theta e^{-\\theta x^2}$ for $x \\geq 0$\n",
    "\n",
    "**Q1.3.2** $P(x \\ | \\ \\theta) = \\frac{1}{1-\\theta}$ for $ \\theta \\leq x \\leq 1$ \n",
    "\n",
    "**Q1.3.3** $P(x \\ | \\ \\alpha, \\beta) = \\frac{1}{\\pi \\alpha [1 + (\\frac{x-\\beta}{\\alpha})^{2}]}$\n",
    "\n",
    "(If $x$ is not in the support of the distribution defined by inequalities, the probability of it is $0$.)\n",
    "\n",
    "**Hint for Q1.3.3:** Don't solve for $\\alpha$ or $\\beta$, just simply the equation as much as you can."
   ]
  },
  {
   "cell_type": "markdown",
   "metadata": {
    "id": "B1BoB_qyT4JJ"
   },
   "source": [
    "**`[double click here to add a solution]`**"
   ]
  },
  {
   "cell_type": "markdown",
   "metadata": {
    "id": "bI8M-uRuIv9t"
   },
   "source": [
    "**Q1.4** (Naive Bayes Maximum Likelihood) Consider binary dataset $S$ with observations in the form $\\left.\\left\\{\\left(x_{j}^{1}, \\ldots, x_{j}^{n}\\right), y_{j}\\right)\\right\\}$. Each data $\\mathbf{x_j}$ is an n-dimensional vector. Define $c(y)$ as a function that counts the number of observations such that the label is $y$. $S$ is the set of all the training data.\n",
    "$$\n",
    "c(y)=\\sum_{\\left(x_{j}, y_{j}\\right) \\in S}\\left[y_{j}=y\\right]\n",
    "$$\n",
    "Define $c(i, y)$ as a function that counts the number of observations such that the label is $y$ and $x^{i}=1$\n",
    "$$\n",
    "c(i, y)=\\sum_{\\left(x_{j}, y_{j}\\right) \\in S}\\left[y_{j}=y, x_{j}^{i}=1\\right]\n",
    "$$\n",
    "Define $b$ as $P(Y=1),$ and $b^{i y}$ as $P\\left(X^{i}=1 \\mid Y=y\\right) .$ Prove that the following estimators are MLE for these parameters:\n",
    "$$\n",
    "\\widehat{b}_{M L E}=\\frac{c(1)}{|S|} \\quad \\text { and } \\quad \\widehat{b^{i y}}_{M L E}=\\frac{c(i, y)}{c(y)}\n",
    "$$"
   ]
  },
  {
   "cell_type": "markdown",
   "metadata": {
    "id": "-L86HfvtIv9u"
   },
   "source": [
    "**`[double click here to add a solution]`**"
   ]
  },
  {
   "cell_type": "markdown",
   "metadata": {
    "id": "Evp1_DmHT4JP"
   },
   "source": [
    "### Problem 2: Matrix Derivatives [15 points]\n",
    "\n",
    "**Multivariate Gaussian**\n",
    "\n",
    "Assume that our data is distributed according to a $\\underline d$ dimensional [multivariate Gaussian](https://en.wikipedia.org/wiki/Multivariate_normal_distribution#Likelihood_function) with $\\bar \\mu$ mean and $\\Sigma$ covariance matrix: $$(\\mathbf x_1, \\dots, \\mathbf x_n) \\sim \\mathcal N(\\bar \\mu, \\Sigma).$$ \n",
    "\n",
    "**Q2.1:** \n",
    "Using rules of [matrix derivatives](http://www2.imm.dtu.dk/pubdb/views/edoc_download.php/3274/pdf/imm3274.pdf) Equation [57, 59], derive $\\frac{\\partial \\mathcal L(\\theta)}{\\partial \\Sigma}$ in matrix form and set it to zero to find $\\Sigma_{ML}$ . Assume each $x_i$ is drawn independently.\n"
   ]
  },
  {
   "cell_type": "markdown",
   "metadata": {
    "id": "v1hhI03PT4JU"
   },
   "source": [
    "**`[double click here to add a solution]`**\n",
    "\n",
    "$$\\frac{\\partial \\mathcal L(\\theta)}{\\partial \\Sigma} = \\frac{\\partial}{\\partial \\Sigma} [\\frac{1}{2}(\\sigma(𝑤𝑥+𝑏)−𝑡)^2]$$\n",
    "\n",
    "$$ 0 = \\frac{\\partial}{\\partial \\Sigma} [\\frac{1}{2}(\\sigma(𝑤𝑥+𝑏)−𝑡)^2]$$\n",
    "\n",
    "$$ 0 ="
   ]
  },
  {
   "cell_type": "markdown",
   "metadata": {
    "id": "2FWewuNzT4Jc"
   },
   "source": [
    "**Q2.2: Multi-target Linear Regression**\n",
    "- we have $X \\in \\mathbf R^{n \\times d}$ is a constant data matrix\n",
    "- $\\theta$ is a $d \\times m$-dimensional **weight matrix**\n",
    "- $\\varepsilon_{ij} \\sim \\mathcal N(0, \\sigma^2_\\epsilon)$ is a normal noise ($i \\in [0; n], j \\in [0;m]$)\n",
    "- and we observe a matrix $Y = X\\theta + \\varepsilon \\in \\mathbf R^{n \\times m}$\n",
    "\n",
    "$$\\varepsilon = Y - X\\theta \\sim \\mathcal N(0, \\sigma^2_\\epsilon I)$$\n",
    "\n",
    "$$\\mathcal L(\\theta) = \\log P(Y \\ | \\ X,\\theta) = \\log \\mathcal N(Y - X\\theta \\ | \\ 0, \\sigma^2_\\epsilon I)$$\n",
    "\n",
    "$$\\theta_{MLE} = \\arg \\max_{\\theta} \\mathcal L(\\theta) = \\arg \\min_{\\theta} \\text{loss}(\\theta) = \\arg \\min_{\\theta} \\big( ||Y-X\\theta||^2_F \\big)$$\n",
    "\n",
    "Assume $\\theta \\sim \\mathcal N(0, \\sigma^2_\\theta I)$, which essentially means that \"weight components should not be too far from zero\".\n",
    "Where $I$ stands for an identity matrix. \n",
    "\n",
    "**Using rules of [matrix derivatives](http://www2.imm.dtu.dk/pubdb/views/edoc_download.php/3274/pdf/imm3274.pdf)** Equation [137, 132], show for an MLE loss:  $\\text{loss}(\\theta) = ||Y-X\\theta||^2_F$ that:\n",
    "\n",
    "**Q2.2.1:** derive $\\frac{\\partial\\text{loss}(\\theta)}{\\partial \\theta} = -2X^T(Y-X\\theta)$\n",
    "\n",
    "**Q2.2.2:** derive $\\theta_{MLE} = (X^T X)^{-1} X^T Y$\n",
    "\n",
    "**Hint:** In our case [see Matrix Cookbook, eq. 137], $g(U) = ||U||^2_F$ - squared Frobenius norm and $U(\\theta) = f(\\theta) = Y - X\\theta $ - linear mapping.\n",
    "\n",
    "**Note:** That is a multi-target problem, therfore $\\theta$ is a matrix, so you have to take the derivative wrt matrix."
   ]
  },
  {
   "cell_type": "markdown",
   "metadata": {
    "id": "61RyTcnxIv93"
   },
   "source": [
    "**Q2.2.3**\n",
    "To make use of prior information,  one might want to find [maximum a posteriori estimation](https://en.wikipedia.org/wiki/Maximum_a_posteriori_estimation) (MAP). In this problem, the MAP is defined as  $\\theta_{MAP} = \\arg\\max_\\theta L_{MAP}(\\theta) = \\arg\\max_\\theta P(\\theta | X, Y)$. The priori of $\\theta$ is $P(\\theta)$. Show $\\mathcal L_{MAP}(\\theta)$ can be defined as $\\mathcal L_{MLE}(\\theta) + \\log P(\\theta)$.\n",
    "\n",
    "**Q2.2.4**\n",
    "Assume the prior $\\theta \\sim \\mathcal N(0, \\sigma^2_\\theta I)$, which essentially means that \"weight vector components should not be too far from zero\". \n",
    "Show MAP with gaussian prior is L2 regularization.\n",
    "\n",
    "**Q2.2.5**\n",
    "Now assume that a vectorized $\\theta$ follows a [Laplace distribution](https://en.wikipedia.org/wiki/Laplace_distribution) i.e: $\\theta_i \\sim Laplace(0, b),  \\forall i $\n",
    "Show MAP with laplace prior is L1 regularization. "
   ]
  },
  {
   "cell_type": "markdown",
   "metadata": {
    "id": "xRfX3jGbIv-A"
   },
   "source": [
    "**`[double click here to add a solution]`**\n"
   ]
  },
  {
   "cell_type": "markdown",
   "metadata": {
    "id": "-rozDTqlT4KL"
   },
   "source": [
    "### Problem 3: Ridge and Lasso Regression [15 points]\n",
    "\n",
    "In this problem, we want to solve the regression problem with two different machine learning methods: Ridge Regression and Lasso Regression.\n",
    "\n",
    "- We have the constant data matrix $X \\in \\mathbf R^{n \\times d}$. Each row $\\mathbf{x_i}$ is a d-dimensional data vector.\n",
    "- We have the vector $\\mathbf{w} \\in \\mathbf{R}^d$ and noise vector $\\mathbf{\\epsilon} \\in \\mathbf{R}^n$. \n",
    "- We observe $y_i \\in \\mathbf{R}$ as the output for each row in the input data matrix $\\mathbf{x_i}$: $y_i = \\mathbf{w}^T \\mathbf{x_i} + \\epsilon_i$\n",
    "\n",
    "Given the model definition above, please derive the following:\n",
    "\n",
    "**Q3.1**: Ridge Regression can be formulated as: \n",
    "\\begin{align*}\n",
    "\\mathbf{w}^* = \\text{argmin}_{\\mathbf{w} \\in \\mathbf{R}^d} \\sum_{i} (y_i - \\mathbf{w}^T \\mathbf {x_i})^2 + \\lambda_r ||\\mathbf{w} ||_2^2,\n",
    "\\end{align*}\n",
    "where $\\lambda_r >0$ is the hyperparameter to control the L2 regularization of $\\mathbf{w}$. \n",
    "The loss function for Ridge Regression is $J(\\mathbf{w}, \\lambda_r)  = \\sum_{i} (y_i - \\mathbf{w}^T \\mathbf{x_i})^2 + \\lambda_r ||\\mathbf{w} ||_2^2 $\n",
    "Derive the closed form for the optimal $\\mathbf{w}^*$ in terms of $\\mathbf{X}$, $\\mathbf{y}$ and $\\lambda_r$.\n",
    "\n"
   ]
  },
  {
   "cell_type": "markdown",
   "metadata": {
    "id": "vbNVU-BcPMmC"
   },
   "source": [
    "**`[double click here to add a solution]`**"
   ]
  },
  {
   "cell_type": "markdown",
   "metadata": {
    "id": "IYBtztIIIv-g"
   },
   "source": [
    "**Q3.2**: We can also use L1 regularization of $\\mathbf{w}$ instead of L2 regularization in the Ridge Regression, which formulates the Lasso Regression:\n",
    "\\begin{align*}\n",
    "\\mathbf{w}^* \\in \\text{argmin}_{\\mathbf{w} \\in \\mathbf{R}^d} \\sum_{i} (y_i - \\mathbf{w}^T \\mathbf{x_i})^2 + \\lambda_l ||\\mathbf{w} ||_1,\n",
    "\\end{align*}\n",
    "where  $\\lambda_l > 0$  is the hyperparameter to control the L1 regularization of  $\\mathbf{w}$. \n",
    "The loss function for Lasso Regression is $J(\\mathbf{w}, \\lambda_l) = \\sum_{i} (y_i - \\mathbf{w}^T \\mathbf{x_i})^2 + \\lambda_l ||\\mathbf{w} ||_1$.\n",
    "Show that Lasso Regression is not differentiable at some points."
   ]
  },
  {
   "cell_type": "markdown",
   "metadata": {
    "id": "l1YLA1AzPOSd"
   },
   "source": [
    "**`[double click here to add a solution]`**"
   ]
  },
  {
   "cell_type": "markdown",
   "metadata": {
    "id": "rjt-DRK0T4Kc"
   },
   "source": [
    "**Q3.3**: In this question, we will show the maximum value for $\\lambda_l$ is $2||\\mathbf{X}^T\\mathbf{y}||_{\\infty} $in Lasso Regression, i.e. for any $\\lambda_l \\ge 2||\\mathbf{X}^T\\mathbf{y}||_{\\infty}$, the optimal $\\mathbf{w}$ is always a 0-vector. We will gradually show this in three steps.\n",
    "\n",
    "**Q3.3.1**: \n",
    "The one-sided directional derivative of a function $f(x)$ at the direction $\\mathbf{u} \\in \\mathbf{R}^d$ is defined as follows.\n",
    "\\begin{align*}\n",
    "f'(x ; \\mathbf{u}) = \\lim_{h \\rightarrow 0 ^+} \\frac{f(x+h\\mathbf{u}) - f(x)}{h},\n",
    "\\end{align*}\n",
    "where $\\mathbf{u}$ is a unit vector. \n",
    "Please compute the one-sided directional derivative at $J(\\mathbf{0} , \\lambda_l)$ at direction $\\mathbf{u}$. The final result (i.e. $J'(\\mathbf{0}, \\lambda_l; \\mathbf{u})$) should be in terms of $\\mathbf{X}$ (matrix), $\\mathbf{y}$ (vector), $\\lambda_l$ and $\\mathbf{u}$ (vector). \n"
   ]
  },
  {
   "cell_type": "markdown",
   "metadata": {
    "id": "yUiAcI8PPUX_"
   },
   "source": [
    "**`[double click here to add a solution]`**"
   ]
  },
  {
   "cell_type": "markdown",
   "metadata": {
    "id": "ZUMuVy1tIv-m"
   },
   "source": [
    "**Q3.3.2**  Show that for any $\\mathbf{u} \\ne \\mathbf{0}$, we have $J'(\\mathbf{0},\\lambda_l; \\mathbf{u}) \\ge 0$ if and only if $\\lambda_l$ is greater than or equal to some constant $C$, which depends on  $\\mathbf{X}$ (matrix), $\\mathbf{y}$ (vector) and $\\mathbf{u}$ (vector). Please give an explicit expression for $C$."
   ]
  },
  {
   "cell_type": "markdown",
   "metadata": {
    "id": "QWpWoBiSPU14"
   },
   "source": [
    "**`[double click here to add a solution]`**"
   ]
  },
  {
   "cell_type": "markdown",
   "metadata": {
    "id": "s9r2gvJLcfDH"
   },
   "source": [
    "**Q3.3.3**: Due to the convexity of Lasso Regression, $\\mathbf{w}^*$ is a minimzer of $J(\\mathbf{w}, \\lambda_l)$ if and only if the directional derivative $J'(\\mathbf{w}^*, \\lambda_l; \\mathbf{u}) \\ge 0$ for all $\\mathbf{u} \\ne 0$. Show that $\\mathbf{w} = 0$ is the minimizer of $J(\\mathbf{w}, \\lambda_l)$ if and only if $\\lambda_l \\ge 2 || \\mathbf{X}^T \\mathbf{y}||_\\infty$.\n",
    "\n"
   ]
  },
  {
   "cell_type": "markdown",
   "metadata": {
    "id": "sjvJHgOtPWsH"
   },
   "source": [
    "**`[double click here to add a solution]`**"
   ]
  },
  {
   "cell_type": "markdown",
   "metadata": {
    "id": "pQtsoMDsT4Kx"
   },
   "source": [
    "### Problem 4: Coding Ridge and Lasso Regression [15 points]\n",
    "In this problem, we will solve Ridge and Lasso Regression with Stochastic Gradient Descent (SGD) with the synthetic data. We will compute the (sub)gradient with the training data manually and update the weight vector $\\mathbf{w}$. With the validation data, we tune the hyperparameters $\\lambda_r$ and $\\lambda_l$. Finally we compare the learned weights learned by Ridge Regression and Lasso Regression. \n",
    "\n",
    "**Q4.1** Compute the gradient $\\frac{\\partial J(\\mathbf{w}, \\lambda_r)}{\\partial \\mathbf{w}}$ of Ridge Regression. Also, compute  $\\frac{\\partial J(\\mathbf{w}, \\lambda_l)}{\\partial \\mathbf{w}}$ at all differentiable points and the subgradient at non-differentiable points in Lasso Regression.\n",
    "\n"
   ]
  },
  {
   "cell_type": "markdown",
   "metadata": {
    "id": "K-WyMNaUPejp"
   },
   "source": [
    "**`[double click here to add a solution]`**"
   ]
  },
  {
   "cell_type": "markdown",
   "metadata": {
    "id": "3lyK2dVRW4tc"
   },
   "source": [
    "**Q4.2** Implement the Ridge and Lasso Regression.\n",
    "We provide the synthetic data in `lasso_data_ours.pickle` in which $\\mathbf{y} = \\mathbf{Xw} + noise $. Please implement the ridge and lasso regression to learn the weight $\\mathbf{w}$ with **Stochastic** Gradient Descent. For the differentiable $\\mathbf{w}$, we use the gradient to update $\\mathbf{w}$ and for non-differentiable $\\mathbf{w}$, we use the subgradient instead. You need to fill in the missing part (starting with `## -- ! code required` comment) in `Ridge_loss`, `Ridge_grad`, `Lasso_loss`, `Lasso_grad` and `training`. Note: in this homework, you are required to use the gradient of the loss function computed manually (in Q5.1) instead of using the `autograd` in any deep learning library. Visualize the learned $\\mathbf{w}$ and find out the difference between $\\mathbf{w}$s learned by Ridge and Lasso Regression."
   ]
  },
  {
   "cell_type": "code",
   "execution_count": 2,
   "metadata": {
    "id": "y_2EhzzZT4Kz",
    "scrolled": false
   },
   "outputs": [
    {
     "name": "stdout",
     "output_type": "stream",
     "text": [
      "Training Ridge Regression ...\n",
      "Training Lasso Regression ...\n",
      "--------------------------------------------------\n",
      "Final Validation Loss of Ridge Regression: 10975.558\n",
      "Final Validation Loss of Lasso Regression: 10975.558\n"
     ]
    },
    {
     "name": "stderr",
     "output_type": "stream",
     "text": [
      "/Library/Frameworks/Python.framework/Versions/3.7/lib/python3.7/site-packages/ipykernel_launcher.py:179: UserWarning: In Matplotlib 3.3 individual lines on a stem plot will be added as a LineCollection instead of individual lines. This significantly improves the performance of a stem plot. To remove this warning and switch to the new behaviour, set the \"use_line_collection\" keyword argument to True.\n",
      "/Library/Frameworks/Python.framework/Versions/3.7/lib/python3.7/site-packages/ipykernel_launcher.py:185: UserWarning: In Matplotlib 3.3 individual lines on a stem plot will be added as a LineCollection instead of individual lines. This significantly improves the performance of a stem plot. To remove this warning and switch to the new behaviour, set the \"use_line_collection\" keyword argument to True.\n"
     ]
    },
    {
     "data": {
      "image/png": "[encoded data removed]",
      "text/plain": [
       "<Figure size 1080x360 with 2 Axes>"
      ]
     },
     "metadata": {
      "needs_background": "light"
     },
     "output_type": "display_data"
    }
   ],
   "source": [
    "import pickle\n",
    "import numpy as np\n",
    "from copy import deepcopy\n",
    "import matplotlib.pyplot as plt\n",
    "\n",
    "# Change SALIENT to False to print the intermediate losses during training\n",
    "SALIENT = True\n",
    "\n",
    "np.random.seed(42) \n",
    "\n",
    "class AverageMeter(object):\n",
    "    def __init__(self):\n",
    "        self.reset()\n",
    "\n",
    "    def reset(self):\n",
    "        self.val = 0\n",
    "        self.avg = 0\n",
    "        self.sum = 0\n",
    "        self.count = 0\n",
    "\n",
    "    def update(self, val, n=1):\n",
    "        self.val = val\n",
    "        self.sum += val * n\n",
    "        self.count += n\n",
    "        self.avg = self.sum / self.count\n",
    "\n",
    "\n",
    "def permute_data(x, y):\n",
    "    if y.ndim == 1:\n",
    "        y = np.expand_dims(y, axis=-1)\n",
    "    cat_xy = np.concatenate((x, y), axis=-1)\n",
    "    cat_xy = np.random.permutation(cat_xy)\n",
    "    return cat_xy[:, :-1], cat_xy[:, -1]\n",
    "\n",
    "\n",
    "def l2_norm_square(x):\n",
    "    return np.sum(np.power(x, 2))\n",
    "\n",
    "\n",
    "def mse(X, y, w):\n",
    "    return l2_norm_square(np.matmul(X, w) - y)\n",
    "\n",
    "\n",
    "def Ridge_loss(X, y, w, LAMBDA):\n",
    "    \"\"\"\n",
    "    X: n x d matrix\n",
    "    y: column vector of size (n,)\n",
    "    w: column vector of size (d, )\n",
    "    LAMBDA: a float scalar\n",
    "    Return: a float scalar showing ridge regression loss with the given X, y, w, LAMBDA\n",
    "    \"\"\"\n",
    "    #return np.linalg.norm(y - X.dot(w)) ** 2 / X.shape[0] + LAMBDA * np.linalg.norm(w) ** 2\n",
    "    #return np.sum(np.square(y - X.dot(w))) + LAMBDA * np.sum(np.square(w))\n",
    "    #return np.linalg.norm(y - X.dot(w))**2 + LAMBDA * np.linalg.norm(w)**2\n",
    "    #loss = np.linalg.norm(X.dot(w) - y) ** 2 + LAMBDA * np.linalg.norm(w) ** 2\n",
    "    return np.linalg.norm(X.dot(w) - y)**2 + LAMBDA * np.linalg.norm(w)**2\n",
    "    #return (np.transpose(y - X @ w)) @ (y - X @ w) + LAMBDA * np.transpose(w) @ w\n",
    "\n",
    "\n",
    "def Ridge_grad(X, y, w, LAMBDA):\n",
    "    \"\"\"\n",
    "    X: n x d matrix\n",
    "    y: column vector of size (n,)\n",
    "    w: column vector of size (d, )\n",
    "    LAMBDA: a float scalar\n",
    "    Return: a column vector of size (d,) showing gradient of ridge regression loss with the given X, y, w, LAMBDA\n",
    "\n",
    "    \"\"\"\n",
    "    #return 2 * (X.T.dot(X.dot(w) - y) + LAMBDA * w)\n",
    "    #return 2 * (X.T @ X @ w - X.T @ y + LAMBDA * np.sign(w))\n",
    "    #return 2 * (X.T @ X @ w - X.T @ y + LAMBDA * np.sign(w))\n",
    "    return 2 * X.T.dot(X.dot(w) - y) + 2 * LAMBDA * w\n",
    "    #return -2 * np.transpose(X) @ Y + 2 * np.transpose(X) @ X @ w + 2 * LAMBDA * w\n",
    "\n",
    "\n",
    "def Lasso_loss(X, y, w, LAMBDA):\n",
    "    \"\"\"\n",
    "    X: n x d matrix\n",
    "    y: column vector of size (n,)\n",
    "    w: column vector of size (d, )\n",
    "    LAMBDA: a float scalar\n",
    "    Return: a float scalar showing Lasso regression loss with the given X, y, w, LAMBDA\n",
    "    \"\"\"\n",
    "    #return np.sum((y - np.dot(X, w)) ** 2) + LAMBDA * np.sum(np.abs(w))\n",
    "    #return np.sum(np.abs(X.dot(w) - y)) + LAMBDA * np.sum(np.abs(w))\n",
    "    #return np.linalg.norm(X.dot(w) - y)**2 + LAMBDA * np.linalg.norm(w, ord=1)\n",
    "    #return np.sum(np.abs(X.dot(w) - y)) + LAMBDA * np.sum(np.abs(w))\n",
    "    return np.linalg.norm(X.dot(w) - y)**2 + LAMBDA * np.sum(np.abs(w))\n",
    "    #return (np.transpose(y - X@w))@(y - X@w) + LAMBDA * np.linalg.norm(w,1)\n",
    "\n",
    "\n",
    "def Lasso_grad(X, y, w, LAMBDA):\n",
    "    \"\"\"\n",
    "    X: n x d matrix\n",
    "    y: column vector of size (n,)\n",
    "    w: column vector of size (d, )\n",
    "    LAMBDA: a float scalar\n",
    "    Return: a column vector of size (d,) showing gradient of lasso regression loss with the given X, y, w, LAMBDA\n",
    "    \"\"\"\n",
    "    #return 2*(X.T@X@w-X.T@y+LAMBDA*np.sign(w))\n",
    "    #return 2 * (X.T @ X @ w - X.T @ y + LAMBDA * np.sign(w))\n",
    "    #return (np.dot(X.T, np.dot(X, w) - y) + LAMBDA * np.sign(w))\n",
    "    #return X.T.dot(X.dot(w) - y) + LAMBDA * np.sign(w)\n",
    "    return 2 * X.T.dot(X.dot(w) - y) + LAMBDA * np.sign(w)\n",
    "    #return -2 * np.transpose(X)@y + 2 * np.transpose(X)@X@w + LAMBDA * np.sign(2)\n",
    "\n",
    "\n",
    "def training(X_train, y_train, X_validation, y_validation, w, LAMBDA, STEP_SIZE, method='Ridge'):\n",
    "    BATCH_SIZE = 16\n",
    "    NUM_TRAIN = len(X_train)\n",
    "    X_p, y_p = permute_data(X_train, y_train)\n",
    "    if method == 'Ridge':\n",
    "        loss_fn = Ridge_loss\n",
    "        grad_fn = Ridge_grad\n",
    "    elif method == 'Lasso':\n",
    "        loss_fn = Lasso_loss\n",
    "        grad_fn = Lasso_grad\n",
    "    else:\n",
    "        raise ValueError('method = %s is not implemented' % method)\n",
    "\n",
    "    # train\n",
    "    for epoch in range(NUM_EPOCHS):\n",
    "        epoch_loss = AverageMeter()\n",
    "        for i in range(0, NUM_TRAIN, BATCH_SIZE):\n",
    "            X_batch = X_p[i: min(i + BATCH_SIZE, NUM_TRAIN)]\n",
    "            y_batch = y_p[i: min(i + BATCH_SIZE, NUM_TRAIN)]\n",
    "\n",
    "            loss = loss_fn(X_batch, y_batch, w, LAMBDA)\n",
    "            epoch_loss.update(loss)\n",
    "            if i % 100 == 0 and (not SALIENT):\n",
    "                print('Epoch [%d/%d] Train: Current Train Loss: %.3f (Avg Loss %.3f)' % (\n",
    "                epoch, NUM_EPOCHS, loss, epoch_loss.avg))\n",
    "            \n",
    "            ## -- ! code required\n",
    "            # perform stochastic gradient descent\n",
    "\n",
    "        val_loss = validation(X_validation, y_validation, w)\n",
    "        if not SALIENT:\n",
    "            print('Epoch [%d/%d] Val: Validation Loss: %.3f' % (epoch, NUM_EPOCHS, val_loss))\n",
    "        X_p, y_p = permute_data(X_train, y_train)\n",
    "\n",
    "    # val\n",
    "    val_loss = validation(X_validation, y_validation, w)\n",
    "    if not SALIENT:\n",
    "        print('Final Validation Loss of %s Regression: %.3f' % (method, val_loss))\n",
    "    return val_loss, w\n",
    "\n",
    "\n",
    "def validation(X, y, w):\n",
    "    val_loss = mse(X, y, w)\n",
    "    return val_loss\n",
    "\n",
    "file_name = \"lasso_data_ours.pickle\"\n",
    "with open(file_name, 'rb') as f_myfile:\n",
    "    data = pickle.load(f_myfile)\n",
    "    f_myfile.close()\n",
    "\n",
    "X_train, y_train, X_validation, y_validation = data['x_train'], data['y_train'], data['x_test'], data['y_test']\n",
    "\n",
    "## Train and test Ridge Regression\n",
    "\n",
    "NUM_EPOCHS = 1000\n",
    "LAMBDA_R = 1\n",
    "LAMBDA_L = 0.5\n",
    "BATCH_SIZE = 16\n",
    "STEP_SIZE = 0.0001\n",
    "FEAT_SIZE = X_train.shape[1]\n",
    "INIT_W = np.random.randn(FEAT_SIZE)\n",
    "print('Training Ridge Regression ...')\n",
    "loss_ridge,  w_r = training(X_train, y_train, X_validation, y_validation, deepcopy(INIT_W), LAMBDA_R, STEP_SIZE, method='Ridge')\n",
    "print('Training Lasso Regression ...')\n",
    "loss_lasso,  w_l = training(X_train, y_train, X_validation, y_validation, deepcopy(INIT_W), LAMBDA_L, STEP_SIZE, method='Lasso')\n",
    "print('-' * 50)\n",
    "print('Final Validation Loss of Ridge Regression: %.3f' % loss_ridge)\n",
    "print('Final Validation Loss of Lasso Regression: %.3f' % loss_lasso)\n",
    "\n",
    "# Visualize the learned weight via Ridge Regression and Lasso Regression\n",
    "fig, ax = plt.subplots(nrows=1, ncols=2)\n",
    "ax[0].stem(list(range(FEAT_SIZE)), w_r)\n",
    "ax[0].grid()\n",
    "ax[0].set_title('Ridge Regression')\n",
    "ax[0].set_ylabel('w')\n",
    "\n",
    "\n",
    "ax[1].stem(list(range(FEAT_SIZE)), w_l)\n",
    "ax[1].grid()\n",
    "ax[1].set_title('Lasso Regression')\n",
    "ax[1].set_ylabel('w')\n",
    "\n",
    "fig.set_size_inches(15, 5)\n",
    "plt.show()"
   ]
  },
  {
   "cell_type": "markdown",
   "metadata": {
    "id": "e1E8Z7B1MlK1"
   },
   "source": [
    "By comparing the learned $\\mathbf{w}$ from Ridge Regression and Lasso Regression, we can find Lasso Regression produces sparse $\\mathbf{w}$ via L1 regularization."
   ]
  },
  {
   "cell_type": "markdown",
   "metadata": {
    "id": "tz_dW2GdT4K6"
   },
   "source": [
    "**Q4.3**: Hyper-parameter Tuning. Please use different $\\lambda_l$ in the Lasso Regression to find out the best $\\lambda_l$ with the loss on the validation set.  Specifically, you should use the validation set to determine the best value for  𝜆𝑙  and its corresponding validation error/loss."
   ]
  },
  {
   "cell_type": "code",
   "execution_count": 12,
   "metadata": {
    "id": "uOgWe22xIv-2"
   },
   "outputs": [
    {
     "name": "stdout",
     "output_type": "stream",
     "text": [
      " The best lambda_l is 0.000 and its corresponding validation loss is 10975.558\n"
     ]
    },
    {
     "data": {
      "image/png": "[encoded data removed]",
      "text/plain": [
       "<Figure size 432x288 with 1 Axes>"
      ]
     },
     "metadata": {
      "needs_background": "light"
     },
     "output_type": "display_data"
    }
   ],
   "source": [
    "# Try different lambdas for Lasso Regression\n",
    "## -- ! code required\n",
    "# set different Lambda_L in Lasso Regression\n",
    "LAMBDA_Ls = list(range(0,10))\n",
    "losses = []\n",
    "best_lambda_l, best_validation_loss = None, 1e9\n",
    "for LAMBDA_L in LAMBDA_Ls:\n",
    "    loss_lasso, w_l = training(X_train, y_train, X_validation, y_validation, deepcopy(INIT_W), LAMBDA_L, STEP_SIZE,\n",
    "                           method='Lasso')\n",
    "    if loss_lasso < best_validation_loss:\n",
    "      best_lambda_l = LAMBDA_L\n",
    "      best_validation_loss = loss_lasso\n",
    "    losses.append(loss_lasso)\n",
    "\n",
    "print(' The best lambda_l is %.3f and its corresponding validation loss is %.3f' % (best_lambda_l, best_validation_loss))\n",
    "\n",
    "plt.plot(LAMBDA_Ls, losses)\n",
    "plt.xlabel('lambda_l')\n",
    "plt.ylabel('validation loss')\n",
    "plt.grid()\n",
    "plt.show()"
   ]
  },
  {
   "cell_type": "code",
   "execution_count": null,
   "metadata": {},
   "outputs": [],
   "source": []
  }
 ],
 "metadata": {
  "anaconda-cloud": {},
  "colab": {
   "collapsed_sections": [],
   "name": "HW1.ipynb",
   "provenance": []
  },
  "kernelspec": {
   "display_name": "Python 3",
   "language": "python",
   "name": "python3"
  },
  "language_info": {
   "codemirror_mode": {
    "name": "ipython",
    "version": 3
   },
   "file_extension": ".py",
   "mimetype": "text/x-python",
   "name": "python",
   "nbconvert_exporter": "python",
   "pygments_lexer": "ipython3",
   "version": "3.7.2"
  },
  "pycharm": {
   "stem_cell": {
    "cell_type": "raw",
    "metadata": {
     "collapsed": false
    },
    "source": []
   }
  }
 },
 "nbformat": 4,
 "nbformat_minor": 1
}
