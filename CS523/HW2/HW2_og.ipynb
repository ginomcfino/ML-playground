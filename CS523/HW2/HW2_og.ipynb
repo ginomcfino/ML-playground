{
 "cells": [
  {
   "cell_type": "markdown",
   "metadata": {
    "id": "iHDIw_DL0SXh"
   },
   "source": [
    "# Problem Set 2 \n",
    "\n",
    "<h4> by Hoang Tran, modified from the version by Xide Xia and Kate Saenko. <br> </h4>\n",
    "\n",
    "\n",
    "---\n",
    "\n",
    "This assignment will introduce you to:\n",
    "1. Understanding the power of ReLU activation.\n",
    "2. Implementing your own autograd.\n",
    "3. Implementing a simple MLP.\n",
    "4. Basic functionality in PyTorch\n",
    "\n",
    "This code has been tested on Colab. \n",
    "\n",
    "---"
   ]
  },
  {
   "cell_type": "code",
   "execution_count": 4,
   "metadata": {},
   "outputs": [
    {
     "ename": "ModuleNotFoundError",
     "evalue": "No module named 'torch'",
     "output_type": "error",
     "traceback": [
      "\u001b[0;31m---------------------------------------------------------------------------\u001b[0m",
      "\u001b[0;31mModuleNotFoundError\u001b[0m                       Traceback (most recent call last)",
      "\u001b[0;32m<ipython-input-4-eb42ca6e4af3>\u001b[0m in \u001b[0;36m<module>\u001b[0;34m\u001b[0m\n\u001b[0;32m----> 1\u001b[0;31m \u001b[0;32mimport\u001b[0m \u001b[0mtorch\u001b[0m\u001b[0;34m\u001b[0m\u001b[0;34m\u001b[0m\u001b[0m\n\u001b[0m",
      "\u001b[0;31mModuleNotFoundError\u001b[0m: No module named 'torch'"
     ]
    }
   ],
   "source": [
    "import torch"
   ]
  },
  {
   "cell_type": "markdown",
   "metadata": {
    "id": "2JkxmpsAj7VK"
   },
   "source": [
    "# Problem 1: Universal approximation power of ReLU networks\n",
    "\n",
    "As we dicussed in class, a two layer NN with sigmoid activation function is a universal approximator, i.e: with sufficient hidden units, it can approximate any real function with desired accuracy. In this problem we want to demonstrate universal approximation power of NNs using ReLU activation units.\n",
    "\n",
    "## **Q1.1** \n",
    "Show that, by composing only 2 hidden units in a ReLU network, i.e. $\\hat{y} = \\sum_{i=1}^2a_i\\ max(0,b_ix+c_i)$, we can build an approximation to the step function $1[x>0]$.\n",
    "The approximator should have value 1 for all values larger than $\\delta$ and increasing linearly for any value between 0 and $\\delta$."
   ]
  },
  {
   "cell_type": "markdown",
   "metadata": {
    "id": "R35DbojskG6p"
   },
   "source": [
    "**Solution:**\n"
   ]
  },
  {
   "cell_type": "code",
   "execution_count": 2,
   "metadata": {},
   "outputs": [
    {
     "data": {
      "image/png": "[encoded data removed]",
      "text/plain": [
       "<Figure size 432x288 with 1 Axes>"
      ]
     },
     "metadata": {
      "needs_background": "light"
     },
     "output_type": "display_data"
    }
   ],
   "source": [
    "#%%\n",
    "import numpy as np\n",
    "import matplotlib.pyplot as plt\n",
    "\n",
    "#%%\n",
    "def relu(x):\n",
    "    return np.maximum(0, x)\n",
    "\n",
    "#%%\n",
    "def relu2(x, delta):\n",
    "    return np.where(x > delta, 1, x/delta)\n",
    "\n",
    "#%%\n",
    "delta=2\n",
    "\n",
    "#%%\n",
    "x = np.linspace(-5, 5, 300)\n",
    "y = relu(x)\n",
    "y_approx = relu2(y, delta)\n",
    "\n",
    "#%%\n",
    "plt.plot(x, y, label=\"ReLU\")\n",
    "plt.plot(x, y_approx, label=\"ReLU approximation\")\n",
    "plt.scatter([delta],[1])\n",
    "plt.annotate(\"delta\", (delta, 1))\n",
    "plt.legend()\n",
    "plt.show()"
   ]
  },
  {
   "cell_type": "markdown",
   "metadata": {
    "id": "ysSRJ3sbkLMt"
   },
   "source": [
    "## **Q1.2** \n",
    "\n",
    "Show that by composing 4 hidden units in a ReLU network; we can build an approximation to the unit impulse function of duration $\\delta$\n",
    "\n",
    "\\begin{equation}\n",
    "u_\\delta(x) = 1[0\\leq x\\leq \\delta]\n",
    "\\end{equation}\n",
    "\n",
    "The approximator should have value $1$ between $\\frac{\\delta}{4}$ and $\\frac{3\\delta}{4}$ and should be increasing/decreasing on either side of this for a duration of $\\frac{\\delta}{2}$, i.e., it should be 0 for all values less than $\\frac{-\\delta}{4}$ and more than $\\frac{5\\delta}{4}$"
   ]
  },
  {
   "cell_type": "markdown",
   "metadata": {
    "id": "j5wGbZBjkLC1"
   },
   "source": [
    "**Solution:**"
   ]
  },
  {
   "cell_type": "code",
   "execution_count": 3,
   "metadata": {},
   "outputs": [
    {
     "data": {
      "image/png": "[encoded data removed]",
      "text/plain": [
       "<Figure size 432x288 with 1 Axes>"
      ]
     },
     "metadata": {
      "needs_background": "light"
     },
     "output_type": "display_data"
    }
   ],
   "source": [
    "#%%\n",
    "import numpy as np\n",
    "import matplotlib.pyplot as plt\n",
    "\n",
    "#%%\n",
    "delta=.5\n",
    "\n",
    "#%%\n",
    "def relu(x):\n",
    "    return np.maximum(0, x)\n",
    "\n",
    "# def relu0(x):\n",
    "#     return np.maximum(0, x/2)\n",
    "\n",
    "# def relu1(x, delta):\n",
    "#     return np.where(x < (-delta / 4), 1, 0)\n",
    "\n",
    "# def relu1(x, delta):\n",
    "#     return np.where((x+delta/4) > 0, (x+delta/4) * 2/delta, x+delta/4)\n",
    "\n",
    "# def relu2(x, delta):\n",
    "#     #print(x)\n",
    "#     return np.where(x> 4*delta/5, -x + 3, x)\n",
    "\n",
    "# def relu3(x, delta):\n",
    "#     return np.where(x > 1, 1, x)\n",
    "\n",
    "# def relu4(x, delta):\n",
    "#     return np.where(x < 0, 0, x)\n",
    "\n",
    "def relu1(x, delta):\n",
    "    #print(x)\n",
    "    return np.where((x+delta/4) > 0, (x+delta/4) * 2/delta, 0)\n",
    "\n",
    "def relu2(x, delta):\n",
    "    return np.where((x-1) > 1, -(x-3), x)\n",
    "\n",
    "def relu3(x, delta):\n",
    "    return np.where(x > 1, 1, x)\n",
    "\n",
    "def relu4(x, delta):\n",
    "    return np.where(x < 0, 0, x)\n",
    "\n",
    "# def relu1(x, delta):\n",
    "#     return np.maximum(0, (x+delta/4))\n",
    "\n",
    "# def relu2(x, delta):\n",
    "#     #print(x)\n",
    "#     return np.where(x > 0, x * 2/delta, x)\n",
    "\n",
    "#%%\n",
    "x = np.linspace(-0.5*delta, 1.5*delta, 200)\n",
    "y = relu(x)\n",
    "ya = relu1(x, delta)\n",
    "ya = relu2(ya, delta)\n",
    "ya = relu3(ya, delta)\n",
    "ya = relu4(ya, delta)\n",
    "\n",
    "#%%\n",
    "plt.plot(x, y, label=\"ReLU\")\n",
    "plt.plot(x, ya, label=\"Unit Impulse approximation\")\n",
    "plt.scatter([-delta/4, delta/4, (3*delta)/4, (5*delta)/4],[0, 1, 1, 0])\n",
    "plt.legend()\n",
    "plt.show()"
   ]
  },
  {
   "cell_type": "markdown",
   "metadata": {
    "id": "WbyanYybkK6C"
   },
   "source": [
    "## **Q1.3** \n",
    "Using your approximator for the unit impulse function in Q1.2, complete the code given bellow to draw the approximator for different duration values $\\delta$."
   ]
  },
  {
   "cell_type": "code",
   "execution_count": 4,
   "metadata": {
    "id": "bxaR7bemHeg8"
   },
   "outputs": [
    {
     "data": {
      "image/png": "[encoded data removed]",
      "text/plain": [
       "<Figure size 432x288 with 1 Axes>"
      ]
     },
     "metadata": {
      "needs_background": "light"
     },
     "output_type": "display_data"
    }
   ],
   "source": [
    "import numpy as np\n",
    "import matplotlib.pyplot as plt\n",
    "\n",
    "def relu(x):\n",
    "    return np.maximum(0,x)\n",
    "\n",
    "def hat_u_delta(x,delta):\n",
    "    return relu4(relu3((relu2((relu1(x, delta)), delta)), delta), delta)\n",
    "\n",
    "def draw_impulse(deltas):\n",
    "    delta_max = max(deltas)\n",
    "    x = np.arange(-delta_max/2, 1.5*delta_max, 0.001).reshape((-1,1))\n",
    "    for delta in deltas:\n",
    "        plt.plot(x,hat_u_delta(x,delta),label='$\\delta$ = '+str(delta))\n",
    "    plt.legend();\n",
    "    plt.xlabel('x')\n",
    "    plt.ylabel('y');\n",
    "\n",
    "draw_impulse([0.5, 0.25, 0.05])\n",
    "# draw_impulse([1,2,4])"
   ]
  },
  {
   "cell_type": "markdown",
   "metadata": {
    "id": "82j6X2HNkKwy"
   },
   "source": [
    "## **Q1.4**\n",
    "Imagine the idea of Riemann integral, where we approximate the integrand function with unit impulse functions -- see Figure(1) \n",
    "\n",
    "We will approximate the function $f(x)$ defined over $[a,b]$, using N impulse functions as follows:\n",
    "\n",
    "$$\\hat{f}(x) = \\sum_{i=0}^{N-1} f(a + i \\delta)\\, u_\\delta(x-i\\delta), $$\n",
    "where: $$\\delta = \\lfloor \\frac{b-a}{N} \\rfloor$$\n",
    "\n",
    "Complete the code given below using the your implemented approximator in Q1.3 to approximate the $sin(x)$ function over $[0, 2\\pi]$. The code will plot the approximation for different number of impule functions $N$."
   ]
  },
  {
   "cell_type": "code",
   "execution_count": 5,
   "metadata": {
    "id": "iLjJuPoZHupW"
   },
   "outputs": [
    {
     "data": {
      "image/png": "[encoded data removed]",
      "text/plain": [
       "<Figure size 432x288 with 1 Axes>"
      ]
     },
     "metadata": {
      "needs_background": "light"
     },
     "output_type": "display_data"
    }
   ],
   "source": [
    "def f(x):\n",
    "    return np.sin(x)\n",
    "\n",
    "def hat_f(x,N,a,b):\n",
    "    delta = (b-a)/N\n",
    "    total = 0\n",
    "    for i in range(N):\n",
    "        eff = f(a + i * delta)\n",
    "        uimp = hat_u_delta((x - i* delta), delta)\n",
    "        total = total + np.multiply(eff, uimp)\n",
    "    return total\n",
    "\n",
    "def draw_hat_f(N,a,b):\n",
    "    x = np.arange(a, 1.5*b, 0.001).reshape((-1,1))\n",
    "    plt.plot(x,f(x),label='f(x)')\n",
    "    for n in N:\n",
    "        y = hat_f(x,n,a,b)\n",
    "        plt.plot(x,y,label=('N = '+str(n)));\n",
    "    plt.legend(loc = 'upper right')\n",
    "\n",
    "draw_hat_f([3,10,20],0,2*3.15)"
   ]
  },
  {
   "cell_type": "markdown",
   "metadata": {
    "id": "OQtPkwn1kKnf"
   },
   "source": [
    "# Problem 2: Autograd implementation.\n",
    "\n",
    "In class, we discussed the forward and back-propagation in network layers. We pass the input through a network layer and calculate the output of the layer straightforwardly. This step is called forward-propagation. Each layer also implements a function called 'backward'. Backward is responsible for the backward pass of back-propagation. The process of back-propagation follows the schemas: Input -> Forward calls -> Loss function -> derivative -> back-propagation of errors. In neural network, any layer can forward its results to many other layers, in this case, in order to do back-propagation, we sum the deltas coming from all the target layers. \n",
    "\n",
    "In this problem, we will implement both forward and backward for the most commonly used layers including: linear, bias, ReLU, sigmoid, and mean square error."
   ]
  },
  {
   "cell_type": "code",
   "execution_count": 6,
   "metadata": {
    "id": "Ko0kWtlUjutN"
   },
   "outputs": [],
   "source": [
    "'''backprop implementation with layer abstraction.\n",
    "This could be made more complicated by keeping track of an actual DAG of\n",
    "operations, but this way is not too hard to implement.\n",
    "'''\n",
    "import numpy as np\n",
    "\n",
    "\n",
    "class Layer:\n",
    "    '''A layer in a network.\n",
    "\n",
    "    A layer is simply a function mapping inputs from R^n to R^d for some \n",
    "    specified n and d. A neural network can usually be written as a sequence of \n",
    "    layers -- eg. for input x in R^n, a 3 layer neural network might be:\n",
    "\n",
    "    L3(L2(L1(x)))\n",
    "\n",
    "    We can also view the loss function as itself a layer, so that the loss\n",
    "    of the network is:\n",
    "\n",
    "    Loss(L3(L2(L1(x))))\n",
    "\n",
    "    This class is a base class used to represent different kinds of layer\n",
    "    functions. We will eventually specify a neural network and its loss function\n",
    "    with a list:\n",
    "\n",
    "    [L1, L2, L3, Loss]\n",
    "\n",
    "    where L1, L2, L3, Loss are all Layer objects.\n",
    "\n",
    "    Each Layer object implements a function called 'forward'. forward simply\n",
    "    computes the output of a layer given its input. So instead of\n",
    "    Loss(L3(L2(L1(x))), we write\n",
    "    Loss.forward(L3.forward(L2.forward(L1.forward(x)))).\n",
    "    Doing this computation finishes the forward pass of backprop.\n",
    "\n",
    "    Each layer also implements a function called 'backward'. Backward is\n",
    "    responsible for the backward pass of backprop. After we have computed the\n",
    "    forward pass, we compute\n",
    "    L1.backward(L2.backward(L3.backward(Loss.backward(1))))\n",
    "    We give 1 as the input to Loss.backward because backward is implementing\n",
    "    the chain rule - it multiplies gradients together and so giving 1 as an\n",
    "    input makes the multiplication an identity operation.\n",
    "\n",
    "    The outputs of backward are a little subtle. Some layers may have a\n",
    "    parameter that specifies the function being computed by the layer. For\n",
    "    example, a Linear layer maintains a weight matrix, so that\n",
    "    Linear(x) = xW\n",
    "    for some matrix W.\n",
    "    The input to backward should be the gradient of the final loss with respect\n",
    "    to the output of the current layer. The output of backprop should be the\n",
    "    gradient of the final loss with respect to the input of the current layer,\n",
    "    which is just the output of the previous layer. This is why it is correct\n",
    "    to chain the outputs of backprop together. However, backward should ALSO\n",
    "    compute the gradient of the loss with respect to the current layer's\n",
    "    parameter and store this internally to be used in training.\n",
    "    '''\n",
    "    def __init__(self, parameter=None, name=None):\n",
    "        self.name = name\n",
    "        self.forward_called = False\n",
    "        self.parameter = parameter\n",
    "        self.grad = None\n",
    "\n",
    "    def zero_grad(self):\n",
    "        self.grad = None\n",
    "\n",
    "    def forward(self, input):\n",
    "        '''forward pass. Should compute layer and save relevant state\n",
    "        needed for backward pass.\n",
    "        Args:\n",
    "            input: input to this layer.\n",
    "        returns output of operation.\n",
    "        '''\n",
    "        return np.multiply(self.parameter, input)\n",
    "\n",
    "    def backward(self, downstream_grad):\n",
    "        '''Performs backward pass.\n",
    "\n",
    "        This function should also set self.grad to be the gradient of the final\n",
    "        output of the computation with respect to the parameter.\n",
    "\n",
    "        Args:\n",
    "            downstream_grad: gradient from downstream operation in the\n",
    "                computation graph. This package will only consider\n",
    "                computation graphs that result in scalar outputs at the final\n",
    "                node (e.g. loss function computations). As a result,\n",
    "                the dimension of downstream_grad should match the dimension of\n",
    "                the output of this layer.\n",
    "\n",
    "                Formally, if this operation computes F(x), and the final\n",
    "                computation computes a scalar, G(F(x)), then input_grad is\n",
    "                dG/dF.\n",
    "        returns:\n",
    "            gradient to pass to upstream layers. If the layer computes F(x, w),\n",
    "            where x is the input and w is the parameter of the layer, then\n",
    "            the return value should be dF(x,w)/dx * downstream_grad. Here,\n",
    "            x is in R^n, F(x, w) is in R^m, dF(x, w)/dx is a matrix in R^(n x m)\n",
    "            downstream_grad is in R^m and * indicates matrix multiplication.\n",
    "\n",
    "        We should also compute the gradient with respect to the parameter w.\n",
    "        Again by chain rule, this is dF(x, w)/dw * downstream_grad\n",
    "        '''\n",
    "        \n",
    "\n"
   ]
  },
  {
   "cell_type": "code",
   "execution_count": 8,
   "metadata": {},
   "outputs": [],
   "source": [
    "\"\"\"\n",
    "Code a forward pass\n",
    "\"\"\"\n",
    "\n",
    "import numpy as np\n",
    "\n",
    "class Layer:\n",
    "    def __init__(self, parameter=None, name=None):\n",
    "        self.name = name\n",
    "        self.forward_called = False\n",
    "        self.parameter = parameter\n",
    "        self.grad = None\n",
    "\n",
    "    def zero_grad(self):\n",
    "        self.grad = None\n",
    "\n",
    "    def forward(self, input):\n",
    "        '''forward pass. Should compute layer and save relevant state\n",
    "        needed for backward pass.\n",
    "        Args:\n",
    "            input: input to this layer.\n",
    "        returns output of operation.\n",
    "        '''\n",
    "        raise NotImplementedError\n",
    "\n",
    "    def backward(self, input, grad_output):\n",
    "        '''backward pass. Should compute gradient with respect to input\n",
    "        and parameter.\n",
    "        Args:\n",
    "            input: input to this layer.\n",
    "            grad_output: gradient from the next layer.\n",
    "        returns gradient with respect to input.\n",
    "        '''\n",
    "        raise NotImplementedError\n",
    "\n",
    "    def __call__(self, input):\n",
    "        self.forward_called = True\n",
    "        return self.forward(input)\n",
    "\n",
    "    def __repr__(self):\n",
    "        return self.name\n",
    "\n",
    "class Linear(Layer):\n",
    "    def __init__(self, input_size, output_size, parameter=None, name='Linear'):\n",
    "        super().__init__(parameter, name)\n",
    "        self.input_size = input_size\n",
    "        self.output_size = output_size\n",
    "        if parameter is None:\n",
    "            self.parameter = {'w': np.random.randn(input_size, output_size), 'b': np.random.randn(output_size)}\n",
    "        else:\n",
    "            self.parameter = parameter\n",
    "    \n",
    "    def forward(self, input):\n",
    "        self.input = input\n",
    "        return np.dot(input, self.parameter['w'\n",
    "        ]) + self.parameter['b']\n",
    "    \n",
    "    def backward(self, input, grad_output):\n",
    "        self.grad = {}\n",
    "        self.grad['w'] = np.dot(self.input.T, grad_output)\n",
    "        self.grad['b'] = np.sum(grad_output, axis=0)\n",
    "        self.grad['input'] = np.dot(grad_output, self.parameter['w'].T)\n",
    "        return self.grad['input']\n",
    "\n",
    "class ReLU(Layer):\n",
    "    def __init__(self, name='ReLU'):\n",
    "        super().__init__(name)\n",
    "    \n",
    "    def forward(self, input):\n",
    "        self.input = input\n",
    "        return np.maximum(0, input)\n",
    "    \n",
    "    def backward(self, input, grad_output):\n",
    "        relu_grad = input > 0\n",
    "        return grad_output*relu_grad\n",
    "\n",
    "class Sigmoid(Layer):\n",
    "    def __init__(self, name='Sigmoid'):\n",
    "        super().__init__(name)\n",
    "    \n",
    "    def forward(self, input):\n",
    "        self.output = 1/(1 + np.exp(-input))\n",
    "        return self.output\n",
    "    \n",
    "    def backward(self, input, grad_output):\n",
    "        sigmoid_grad\n",
    "        return grad_output*sigmoid_grad\n",
    "\n",
    "class MSELoss(Layer):\n",
    "    def __init__(self, name='MSELoss'):\n",
    "        super().__init__(name)\n",
    "    \n",
    "    def forward(self, pred, target):\n",
    "        self.pred = pred\n",
    "        self.target = target\n",
    "        return np.mean((pred - target)**2)\n",
    "    \n",
    "    def backward(self, input, grad_output):\n",
    "        return 2*(self.pred - self.target)/self.pred.size\n",
    "        \n",
    "class Sequential:\n",
    "    def __init__(self, layers=None, name='Sequential'):\n",
    "        self.layers = layers\n",
    "        self.name = name\n",
    "    \n",
    "    def add(self, layer):\n",
    "        self.layers.append(layer)\n",
    "    \n",
    "    def forward(self, input):\n",
    "        for layer in self.layers:\n",
    "            input = layer.forward(input)\n",
    "        return input\n",
    "    \n",
    "    def backward(self, input, grad_output):\n",
    "        for layer in reversed(self.layers):\n",
    "            grad_output = layer.backward(input, grad_output)\n",
    "            input = layer.input\n",
    "    \n",
    "    def zero_grad(self):\n",
    "        for layer in self.layers:\n",
    "            layer.zero_grad()\n",
    "    \n",
    "    def __call__(self, input):\n",
    "        return self.forward(input)\n",
    "    \n",
    "    def __repr__(self):\n",
    "        return self.name\n",
    "\n",
    "class SGD:\n",
    "    def __init__(self, lr=0.001, name='SGD'):\n",
    "        self.lr = lr\n",
    "        self.name = name\n",
    "    \n",
    "    def update(self, layer):\n",
    "        if layer.forward_called:\n",
    "            layer.parameter['w'] -= self.lr*layer.grad['w']\n",
    "            layer.parameter['b'] -= self.lr*layer.grad['b']\n",
    "    \n",
    "    def __call__(self, layer):\n",
    "        self.update(layer)\n",
    "    \n",
    "    def __repr__(self):\n",
    "        return self.name\n",
    "\n",
    "class SGDMomentum:\n",
    "    def __init__(self, lr=0.001, momentum=0.99, name='SGDMomentum'):\n",
    "        self.lr = lr\n",
    "        self.momentum = momentum\n",
    "        self.name = name\n",
    "        self.velocity = {}\n",
    "    \n",
    "    def update(self, layer):\n",
    "        if layer.forward_called:\n",
    "            if layer not in self.velocity:\n",
    "                self.velocity[layer] = {'w': np.zeros_like(layer.parameter['w']), 'b': np.zeros_like(layer.parameter['b'])}\n",
    "            self.velocity[layer]['w'] = self.momentum*self.velocity[layer]['w'] + (1-self.momentum)*layer.grad['w']\n",
    "            self.velocity[layer]['b'] = self.momentum*self.velocity[layer]['b'] + (1-self.momentum)*layer.grad['b']\n",
    "            layer.parameter['w'] -= self.lr*self.velocity[layer]['w']\n",
    "            layer.parameter['b'] -= self.lr*self.velocity[layer]['b']\n",
    "    \n",
    "    def __call__(self, layer):\n",
    "        self.update(layer)\n",
    "    \n",
    "    def __repr__(self):\n",
    "        return self.name\n",
    "\n",
    "class Adam:\n",
    "    def __init__(self, lr=0.001, beta1=0.9, beta2=0.999, epsilon=1e-8, name='Adam'):\n",
    "        self.lr = lr\n",
    "        self.beta1 = beta1\n",
    "        self.beta2 = beta2\n",
    "        self.epsilon = epsilon\n",
    "        self.name = name\n",
    "        self.t = 0\n",
    "        self.m = {}\n",
    "        self.v = {}\n",
    "    \n",
    "    def update(self, layer):\n",
    "        if layer.forward_called:\n",
    "            self.t += 1\n",
    "            if layer not in self.m:\n",
    "                self.m[layer] = {'w': np.zeros_like(layer.parameter['w']), 'b': np.zeros_like(layer.parameter['b'])}\n",
    "            if layer not in self.v:\n",
    "                self.v\n",
    "                self.v[layer] = {'w': np.zeros_like(layer.parameter['w']), 'b': np.zeros_like(layer.parameter['b'])}\n",
    "            self.m[layer]['w'] = self.beta1*self.m[layer]['w'] + (1-self.beta1)*layer.grad['w']\n",
    "            self.m[layer]['b'] = self.beta1*self.m[layer]['b'] + (1-self.beta1)*layer.grad['b']\n",
    "            self.v[layer]['w'] = self.beta2*self.v[layer]['w'] + (1-self.beta2)*(layer.grad['w']**2)\n",
    "            self.v[layer]['b'] = self.beta2*self.v[layer]['b'] + (1-self.beta2)*(layer.grad['b']**2)\n",
    "            m_hat = self.m[layer]['w']/(1-self.beta1**self.t)\n",
    "            v_hat = self.v[layer]['w']/(1-self.beta2**self.t)\n",
    "            layer.parameter['w'] -= self.lr*m_hat/(np.sqrt(v_hat)+self\n",
    "            .epsilon)\n",
    "            m_hat = self.m[layer]['b']/(1-self.beta1**self.t)\n",
    "            v_hat = self.v[layer]['b']/(1-self.beta2**self.t)\n",
    "            layer.parameter['b'] -= self.lr*m_hat/(np.sqrt(v_hat)+self\n",
    "            .epsilon)\n",
    "    \n",
    "    def __call__(self, layer):\n",
    "        self.update(layer)\n",
    "    \n",
    "    def __repr__(self):\n",
    "        return self.name\n",
    "\n",
    "class CrossEntropyLoss(Layer):\n",
    "    def __init__(self, name='CrossEntropyLoss'):\n",
    "        super().__init__(name)\n",
    "    \n",
    "    def forward(self, pred, target):\n",
    "        self.pred = pred\n",
    "        self.target = target\n",
    "        return -np.sum(target*np.log(pred))/pred.shape[0]\n",
    "    \n",
    "    def backward(self, input, grad_output):\n",
    "        return -grad_output*self.target/self.pred\n",
    "\n",
    "class Dropout(Layer):\n",
    "    def __init__(self, p=0.5, name='Dropout'):\n",
    "        super().__init__(name)\n",
    "        self.p = p\n",
    "        self.mask = None\n",
    "    \n",
    "    def forward(self, input):\n",
    "        self.mask = np.random.binomial(1, self.p, size=input.shape)\n",
    "        return input*self.mask\n",
    "    \n",
    "    def backward(self, input, grad_output):\n",
    "        return grad_output*self.mask"
   ]
  },
  {
   "cell_type": "markdown",
   "metadata": {
    "id": "EKZ3SP2lTpSJ"
   },
   "source": [
    "Below shows an example of the full implementation of the Bias layer, including the forward and backward function. Notice self.grad stores the gradient of the loss with respect to the current layer's parameter."
   ]
  },
  {
   "cell_type": "code",
   "execution_count": 7,
   "metadata": {
    "id": "JF30rs0ITosh"
   },
   "outputs": [],
   "source": [
    "class Bias(Layer):\n",
    "    '''adds a constant bias.'''\n",
    "\n",
    "    def __init__(self, bias, name=\"bias\"):\n",
    "        super(Bias, self).__init__(np.squeeze(bias), name)\n",
    "        self.weights = np.squeeze(bias)\n",
    "\n",
    "    def forward(self, input):  \n",
    "        self.input = input\n",
    "        return self.parameter + self.input\n",
    "\n",
    "    def backward(self, downstream_grad): \n",
    "        self.grad = np.sum(downstream_grad, tuple(range(downstream_grad.ndim - self.parameter.ndim)))\n",
    "        return downstream_grad\n"
   ]
  },
  {
   "cell_type": "markdown",
   "metadata": {
    "id": "ntLOrh72mHOW"
   },
   "source": [
    "## **Q2.1** Multiplication layers.\n",
    "\n",
    "Let's start with the basic linear and bias layer. Show the derivatives of linear and bias layer with respect to $X$ respectively.\n",
    "\n",
    "$Z_{linear} = XW$"
   ]
  },
  {
   "cell_type": "markdown",
   "metadata": {
    "id": "UhpqN_9O2fmz"
   },
   "source": [
    "**Solution (linear layer):**\n",
    "\n",
    "Assume that upstream gradient is computed to be $\\frac{\\partial L}{\\partial Z}$,\n",
    "\n",
    "Apply the chain rule,\n",
    "\n",
    "$$\\frac{\\partial L}{\\partial X} = \\frac{\\partial Z}{\\partial X}\\frac{\\partial L}{\\partial Z} \\hspace{4pc} \\frac{\\partial L}{\\partial W} = \\frac{\\partial Z}{\\partial W}\\frac{\\partial L}{\\partial Z}$$"
   ]
  },
  {
   "cell_type": "markdown",
   "metadata": {
    "id": "5gyrJM3O2k2U"
   },
   "source": [
    "Complete the forward and backward function of the linear layer. In backward, you should ALSO set the self.grad to be the gradient of the loss with respect to the current layer's parameter."
   ]
  },
  {
   "cell_type": "code",
   "execution_count": 7,
   "metadata": {
    "id": "4L8Dcfq-lTRd"
   },
   "outputs": [
    {
     "ename": "NameError",
     "evalue": "name 'Layer' is not defined",
     "output_type": "error",
     "traceback": [
      "\u001b[0;31m---------------------------------------------------------------------------\u001b[0m",
      "\u001b[0;31mNameError\u001b[0m                                 Traceback (most recent call last)",
      "\u001b[0;32m<ipython-input-7-533530be9e36>\u001b[0m in \u001b[0;36m<module>\u001b[0;34m\u001b[0m\n\u001b[0;32m----> 1\u001b[0;31m \u001b[0;32mclass\u001b[0m \u001b[0mLinear\u001b[0m\u001b[0;34m(\u001b[0m\u001b[0mLayer\u001b[0m\u001b[0;34m)\u001b[0m\u001b[0;34m:\u001b[0m\u001b[0;34m\u001b[0m\u001b[0;34m\u001b[0m\u001b[0m\n\u001b[0m\u001b[1;32m      2\u001b[0m     '''Linear layer. Parameter is NxM matrix W, input is matrix x of size B x N\n\u001b[1;32m      3\u001b[0m     where B is batch size, output is xW.'''\n\u001b[1;32m      4\u001b[0m \u001b[0;34m\u001b[0m\u001b[0m\n\u001b[1;32m      5\u001b[0m     \u001b[0;32mdef\u001b[0m \u001b[0m__init__\u001b[0m\u001b[0;34m(\u001b[0m\u001b[0mself\u001b[0m\u001b[0;34m,\u001b[0m \u001b[0mweights\u001b[0m\u001b[0;34m,\u001b[0m \u001b[0mname\u001b[0m\u001b[0;34m=\u001b[0m\u001b[0;34m\"Linear\"\u001b[0m\u001b[0;34m)\u001b[0m\u001b[0;34m:\u001b[0m\u001b[0;34m\u001b[0m\u001b[0;34m\u001b[0m\u001b[0m\n",
      "\u001b[0;31mNameError\u001b[0m: name 'Layer' is not defined"
     ]
    }
   ],
   "source": [
    "class Linear(Layer):\n",
    "    '''Linear layer. Parameter is NxM matrix W, input is matrix x of size B x N\n",
    "    where B is batch size, output is xW.'''\n",
    "\n",
    "    def __init__(self, weights, name=\"Linear\"):\n",
    "        super(Linear, self).__init__(weights, name)\n",
    "        self.weights = weights\n",
    "\n",
    "    def forward(self, input):\n",
    "        self.input = input\n",
    "        return np.dot(input, self.parameter['w']) + self.parameter['b']\n",
    "    \n",
    "    def backward(self, input, downstream_grad):\n",
    "        self.grad = {}\n",
    "        self.grad['w'] = np.dot(self.input.T, downstream_grad)\n",
    "        self.grad['b'] = np.sum(downstream_grad, axis=0)\n",
    "        self.grad['input'] = np.dot(downstream_grad, self.parameter['w'].T)\n",
    "        return self.grad['input']\n",
    "\n"
   ]
  },
  {
   "cell_type": "markdown",
   "metadata": {
    "id": "icklJkILnhNB"
   },
   "source": [
    "## **Q2.2** Activation layers.\n",
    "\n",
    "Now let's look at the activation layers. Show the derivatives of ReLU and sigmoid. \n",
    "<p>\n",
    "$ReLU(x) = max(0,x)$\n",
    "</p> \n",
    "<p>\n",
    "$\\sigma(x)=\\frac{1}{1+e^{-x}}$\n",
    "</p> \n",
    "\n",
    "Hint: Let's assume the gradient of ReLU is 0 when x is 0."
   ]
  },
  {
   "cell_type": "markdown",
   "metadata": {
    "id": "nq5dtn6k49SR"
   },
   "source": [
    "**Solution:**\n",
    "\n"
   ]
  },
  {
   "cell_type": "markdown",
   "metadata": {
    "id": "NZPP7OTt49NQ"
   },
   "source": [
    "Complete the forward and backward functions. There is no need to update self.grad since there is no parameter in activation layers. "
   ]
  },
  {
   "cell_type": "code",
   "execution_count": 5,
   "metadata": {
    "id": "FgbalOrBlYkS"
   },
   "outputs": [
    {
     "ename": "NameError",
     "evalue": "name 'Layer' is not defined",
     "output_type": "error",
     "traceback": [
      "\u001b[0;31m---------------------------------------------------------------------------\u001b[0m",
      "\u001b[0;31mNameError\u001b[0m                                 Traceback (most recent call last)",
      "\u001b[0;32m<ipython-input-5-63e261d9e77c>\u001b[0m in \u001b[0;36m<module>\u001b[0;34m\u001b[0m\n\u001b[0;32m----> 1\u001b[0;31m \u001b[0;32mclass\u001b[0m \u001b[0mReLU\u001b[0m\u001b[0;34m(\u001b[0m\u001b[0mLayer\u001b[0m\u001b[0;34m)\u001b[0m\u001b[0;34m:\u001b[0m\u001b[0;34m\u001b[0m\u001b[0;34m\u001b[0m\u001b[0m\n\u001b[0m\u001b[1;32m      2\u001b[0m     \u001b[0;34m'''ReLU layer. No parameters.'''\u001b[0m\u001b[0;34m\u001b[0m\u001b[0;34m\u001b[0m\u001b[0m\n\u001b[1;32m      3\u001b[0m \u001b[0;34m\u001b[0m\u001b[0m\n\u001b[1;32m      4\u001b[0m     \u001b[0;32mdef\u001b[0m \u001b[0m__init__\u001b[0m\u001b[0;34m(\u001b[0m\u001b[0mself\u001b[0m\u001b[0;34m,\u001b[0m \u001b[0mname\u001b[0m\u001b[0;34m=\u001b[0m\u001b[0;34m\"ReLU\"\u001b[0m\u001b[0;34m)\u001b[0m\u001b[0;34m:\u001b[0m\u001b[0;34m\u001b[0m\u001b[0;34m\u001b[0m\u001b[0m\n\u001b[1;32m      5\u001b[0m         \u001b[0msuper\u001b[0m\u001b[0;34m(\u001b[0m\u001b[0mReLU\u001b[0m\u001b[0;34m,\u001b[0m \u001b[0mself\u001b[0m\u001b[0;34m)\u001b[0m\u001b[0;34m.\u001b[0m\u001b[0m__init__\u001b[0m\u001b[0;34m(\u001b[0m\u001b[0mname\u001b[0m\u001b[0;34m=\u001b[0m\u001b[0mname\u001b[0m\u001b[0;34m)\u001b[0m\u001b[0;34m\u001b[0m\u001b[0;34m\u001b[0m\u001b[0m\n",
      "\u001b[0;31mNameError\u001b[0m: name 'Layer' is not defined"
     ]
    }
   ],
   "source": [
    "class ReLU(Layer):\n",
    "    '''ReLU layer. No parameters.'''\n",
    "\n",
    "    def __init__(self, name=\"ReLU\"):\n",
    "        super(ReLU, self).__init__(name=name)\n",
    "    \n",
    "    def forward(self, input):\n",
    "        self.input = input\n",
    "        return np.maximum(0, input)\n",
    "    \n",
    "    def backward(self, input, grad_output):\n",
    "        relu_grad = input > 0\n",
    "        return grad_output*relu_grad\n",
    "\n",
    "\n",
    "\n",
    "class Sigmoid(Layer):\n",
    "    '''Sigmoid layer. No parameters.'''\n",
    "\n",
    "    def __init__(self, name=\"Sigmoid\"):\n",
    "        super(Sigmoid, self).__init__(name=name)\n",
    "\n",
    "    def forward(self, input):\n",
    "        self.output = 1/(1 + np.exp(-input))\n",
    "        return self.output\n",
    "    \n",
    "    def backward(self, input, grad_output):\n",
    "        sigmoid_grad\n",
    "        return grad_output*sigmoid_grad\n"
   ]
  },
  {
   "cell_type": "markdown",
   "metadata": {
    "id": "zU1LRCr_oI5o"
   },
   "source": [
    "## **Q2.3**  Loss *layers*.\n",
    "Define the mean square error as follows: \n",
    "<p>\n",
    "$MSE(\\hat y) = \\frac{1}{2N}\\sum_{i=1}^N(y_i - \\hat y_i)^2$. \n",
    "</p> \n",
    "where $y$ is the label and $\\hat y$ is your prediction. Show the gradient of MSE w.r.t $\\hat y$.\n"
   ]
  },
  {
   "cell_type": "markdown",
   "metadata": {
    "id": "VghiDCb45L4M"
   },
   "source": [
    "**Solution:** \n"
   ]
  },
  {
   "cell_type": "markdown",
   "metadata": {
    "id": "EyxKVXh76VIi"
   },
   "source": [
    "Complete the forward and backward functions."
   ]
  },
  {
   "cell_type": "code",
   "execution_count": 6,
   "metadata": {
    "id": "47ZAc31L1squ"
   },
   "outputs": [
    {
     "ename": "NameError",
     "evalue": "name 'Layer' is not defined",
     "output_type": "error",
     "traceback": [
      "\u001b[0;31m---------------------------------------------------------------------------\u001b[0m",
      "\u001b[0;31mNameError\u001b[0m                                 Traceback (most recent call last)",
      "\u001b[0;32m<ipython-input-6-48c10e37a0b0>\u001b[0m in \u001b[0;36m<module>\u001b[0;34m\u001b[0m\n\u001b[0;32m----> 1\u001b[0;31m \u001b[0;32mclass\u001b[0m \u001b[0mMeanSquaredError\u001b[0m\u001b[0;34m(\u001b[0m\u001b[0mLayer\u001b[0m\u001b[0;34m)\u001b[0m\u001b[0;34m:\u001b[0m\u001b[0;34m\u001b[0m\u001b[0;34m\u001b[0m\u001b[0m\n\u001b[0m\u001b[1;32m      2\u001b[0m     \u001b[0;34m'''cross entropy loss.'''\u001b[0m\u001b[0;34m\u001b[0m\u001b[0;34m\u001b[0m\u001b[0m\n\u001b[1;32m      3\u001b[0m \u001b[0;34m\u001b[0m\u001b[0m\n\u001b[1;32m      4\u001b[0m     \u001b[0;32mdef\u001b[0m \u001b[0m__init__\u001b[0m\u001b[0;34m(\u001b[0m\u001b[0mself\u001b[0m\u001b[0;34m,\u001b[0m \u001b[0mlabels\u001b[0m\u001b[0;34m,\u001b[0m \u001b[0mname\u001b[0m\u001b[0;34m=\u001b[0m\u001b[0;34m\"Mean Squared Error\"\u001b[0m\u001b[0;34m)\u001b[0m\u001b[0;34m:\u001b[0m\u001b[0;34m\u001b[0m\u001b[0;34m\u001b[0m\u001b[0m\n\u001b[1;32m      5\u001b[0m         \u001b[0msuper\u001b[0m\u001b[0;34m(\u001b[0m\u001b[0mMeanSquaredError\u001b[0m\u001b[0;34m,\u001b[0m \u001b[0mself\u001b[0m\u001b[0;34m)\u001b[0m\u001b[0;34m.\u001b[0m\u001b[0m__init__\u001b[0m\u001b[0;34m(\u001b[0m\u001b[0mname\u001b[0m\u001b[0;34m=\u001b[0m\u001b[0;34m\"Mean Squared Error\"\u001b[0m\u001b[0;34m)\u001b[0m\u001b[0;34m\u001b[0m\u001b[0;34m\u001b[0m\u001b[0m\n",
      "\u001b[0;31mNameError\u001b[0m: name 'Layer' is not defined"
     ]
    }
   ],
   "source": [
    "class MeanSquaredError(Layer):\n",
    "    '''cross entropy loss.'''\n",
    "\n",
    "    def __init__(self, labels, name=\"Mean Squared Error\"):\n",
    "        super(MeanSquaredError, self).__init__(name=\"Mean Squared Error\")\n",
    "        self.labels = labels\n",
    "        \n",
    "    def forward(self, pred, target):\n",
    "        self.pred = pred\n",
    "        self.target = target\n",
    "        return np.mean((pred - target)**2)\n",
    "    \n",
    "    def backward(self, input, grad_output):\n",
    "        return 2*(self.pred - self.target)/self.pred.size"
   ]
  },
  {
   "cell_type": "markdown",
   "metadata": {
    "id": "Sa8Lz_8Ro5F-"
   },
   "source": [
    "## **Q2.4** \n",
    "\n",
    "Now let's build a simple model using your layers, and compare the autograd results with the numeric derivatives. If everything is implemented in the correct way, the autograd results should be very close to numeric grad."
   ]
  },
  {
   "cell_type": "code",
   "execution_count": 12,
   "metadata": {
    "id": "sruJjJSzIYl8"
   },
   "outputs": [
    {
     "ename": "IndexError",
     "evalue": "only integers, slices (`:`), ellipsis (`...`), numpy.newaxis (`None`) and integer or boolean arrays are valid indices",
     "output_type": "error",
     "traceback": [
      "\u001b[0;31m---------------------------------------------------------------------------\u001b[0m",
      "\u001b[0;31mIndexError\u001b[0m                                Traceback (most recent call last)",
      "\u001b[0;32m<ipython-input-12-f3422e64fda6>\u001b[0m in \u001b[0;36m<module>\u001b[0;34m\u001b[0m\n\u001b[1;32m     79\u001b[0m \u001b[0;34m\u001b[0m\u001b[0m\n\u001b[1;32m     80\u001b[0m \u001b[0;32mif\u001b[0m \u001b[0m__name__\u001b[0m \u001b[0;34m==\u001b[0m \u001b[0;34m\"__main__\"\u001b[0m\u001b[0;34m:\u001b[0m\u001b[0;34m\u001b[0m\u001b[0;34m\u001b[0m\u001b[0m\n\u001b[0;32m---> 81\u001b[0;31m     \u001b[0mtest_autograd\u001b[0m\u001b[0;34m(\u001b[0m\u001b[0;34m)\u001b[0m\u001b[0;34m\u001b[0m\u001b[0;34m\u001b[0m\u001b[0m\n\u001b[0m\u001b[1;32m     82\u001b[0m     \u001b[0mprint\u001b[0m\u001b[0;34m(\u001b[0m\u001b[0;34m\"looking good!\"\u001b[0m\u001b[0;34m)\u001b[0m\u001b[0;34m\u001b[0m\u001b[0;34m\u001b[0m\u001b[0m\n",
      "\u001b[0;32m<ipython-input-12-f3422e64fda6>\u001b[0m in \u001b[0;36mtest_autograd\u001b[0;34m()\u001b[0m\n\u001b[1;32m     62\u001b[0m         \u001b[0mMeanSquaredError\u001b[0m\u001b[0;34m(\u001b[0m\u001b[0mlabels\u001b[0m\u001b[0;34m)\u001b[0m\u001b[0;34m\u001b[0m\u001b[0;34m\u001b[0m\u001b[0m\n\u001b[1;32m     63\u001b[0m     ]\n\u001b[0;32m---> 64\u001b[0;31m     \u001b[0moutput\u001b[0m \u001b[0;34m=\u001b[0m \u001b[0mforward_layers\u001b[0m\u001b[0;34m(\u001b[0m\u001b[0mlayers\u001b[0m\u001b[0;34m,\u001b[0m \u001b[0minput\u001b[0m\u001b[0;34m)\u001b[0m\u001b[0;34m\u001b[0m\u001b[0;34m\u001b[0m\u001b[0m\n\u001b[0m\u001b[1;32m     65\u001b[0m     \u001b[0mbackward_layers\u001b[0m\u001b[0;34m(\u001b[0m\u001b[0mlayers\u001b[0m\u001b[0;34m)\u001b[0m\u001b[0;34m\u001b[0m\u001b[0;34m\u001b[0m\u001b[0m\n\u001b[1;32m     66\u001b[0m     analytics = [np.copy(layer.grad)\n",
      "\u001b[0;32m<ipython-input-12-f3422e64fda6>\u001b[0m in \u001b[0;36mforward_layers\u001b[0;34m(layers, input)\u001b[0m\n\u001b[1;32m     29\u001b[0m     \u001b[0moutput\u001b[0m \u001b[0;34m=\u001b[0m \u001b[0minput\u001b[0m\u001b[0;34m\u001b[0m\u001b[0;34m\u001b[0m\u001b[0m\n\u001b[1;32m     30\u001b[0m     \u001b[0;32mfor\u001b[0m \u001b[0mlayer\u001b[0m \u001b[0;32min\u001b[0m \u001b[0mlayers\u001b[0m\u001b[0;34m:\u001b[0m\u001b[0;34m\u001b[0m\u001b[0;34m\u001b[0m\u001b[0m\n\u001b[0;32m---> 31\u001b[0;31m         \u001b[0moutput\u001b[0m \u001b[0;34m=\u001b[0m \u001b[0mlayer\u001b[0m\u001b[0;34m.\u001b[0m\u001b[0mforward\u001b[0m\u001b[0;34m(\u001b[0m\u001b[0moutput\u001b[0m\u001b[0;34m)\u001b[0m\u001b[0;34m\u001b[0m\u001b[0;34m\u001b[0m\u001b[0m\n\u001b[0m\u001b[1;32m     32\u001b[0m     \u001b[0;31m#assert output.size == 1, \"only supports computations that output a scalar!\"\u001b[0m\u001b[0;34m\u001b[0m\u001b[0;34m\u001b[0m\u001b[0;34m\u001b[0m\u001b[0m\n\u001b[1;32m     33\u001b[0m     \u001b[0;32mreturn\u001b[0m \u001b[0moutput\u001b[0m\u001b[0;34m\u001b[0m\u001b[0;34m\u001b[0m\u001b[0m\n",
      "\u001b[0;32m<ipython-input-9-eeeeaf420c1b>\u001b[0m in \u001b[0;36mforward\u001b[0;34m(self, input)\u001b[0m\n\u001b[1;32m     20\u001b[0m     \u001b[0;32mdef\u001b[0m \u001b[0mforward\u001b[0m\u001b[0;34m(\u001b[0m\u001b[0mself\u001b[0m\u001b[0;34m,\u001b[0m \u001b[0minput\u001b[0m\u001b[0;34m)\u001b[0m\u001b[0;34m:\u001b[0m\u001b[0;34m\u001b[0m\u001b[0;34m\u001b[0m\u001b[0m\n\u001b[1;32m     21\u001b[0m         \u001b[0mself\u001b[0m\u001b[0;34m.\u001b[0m\u001b[0minput\u001b[0m \u001b[0;34m=\u001b[0m \u001b[0minput\u001b[0m\u001b[0;34m\u001b[0m\u001b[0;34m\u001b[0m\u001b[0m\n\u001b[0;32m---> 22\u001b[0;31m         return np.dot(input, self.parameter['w'\n\u001b[0m\u001b[1;32m     23\u001b[0m         ]) + self.parameter['b']\n\u001b[1;32m     24\u001b[0m \u001b[0;34m\u001b[0m\u001b[0m\n",
      "\u001b[0;31mIndexError\u001b[0m: only integers, slices (`:`), ellipsis (`...`), numpy.newaxis (`None`) and integer or boolean arrays are valid indices"
     ]
    }
   ],
   "source": [
    "# This function computes the derivative numerically using the formula (f(x+delta) - f(x))/delta with small delta. First, we would compute \n",
    "# f(x) which is the original output. Then we perturb the input by a small delta then compute f(x+delta). Finally, we calculate\n",
    "# the difference and divide by delta to get the derivative.\n",
    "def numerical_derivative(layers, input):\n",
    "    base_output = forward_layers(layers, input)\n",
    "    delta = 1e-7\n",
    "    \n",
    "    for layer in layers:\n",
    "        if layer.parameter is None:\n",
    "            continue\n",
    "        size = layer.parameter.size # total number of params\n",
    "        shape = layer.parameter.shape # shape of params\n",
    "        base_param = np.copy(layer.parameter)\n",
    "        perturb = np.zeros(size)\n",
    "        grad = np.zeros(size)\n",
    "         \n",
    "        for i in range(size):\n",
    "            perturb[i] = delta # only current i-th perturb is non-zero\n",
    "            layer.parameter = base_param + np.reshape(perturb, shape) # make a small change (delta) on the i-th parameter\n",
    "            perturb_output = forward_layers(layers, input) # new output after adding a small change (delta) on the i-th parameter\n",
    "            grad[i] = (perturb_output - base_output) / delta # update the grad of i-th parameter\n",
    "            perturb[i] = 0.0 # set it back to zero\n",
    "            \n",
    "        layer.parameter = base_param\n",
    "        layer.grad = np.reshape(np.copy(grad), shape)\n",
    "\n",
    "def forward_layers(layers, input):\n",
    "    '''Forward pass on all the layers. Must be called before backwards pass.'''\n",
    "    output = input\n",
    "    for layer in layers:\n",
    "        output = layer.forward(output)\n",
    "    #assert output.size == 1, \"only supports computations that output a scalar!\"\n",
    "    return output\n",
    "\n",
    "\n",
    "def backward_layers(layers):\n",
    "    '''runs a backward pass on all the layers.\n",
    "    after this function is finished, look at layer.grad to find the\n",
    "    gradient with respect to that layer's parameter.'''\n",
    "    downstream_grad = np.array([1])\n",
    "    for layer in reversed(layers):\n",
    "        downstream_grad = layer.backward(downstream_grad)\n",
    "\n",
    "\n",
    "def zero_grad(layers):\n",
    "    for layer in layers:\n",
    "        layer.zero_grad()\n",
    "\n",
    "        \n",
    "def test_autograd():\n",
    "    h = 2\n",
    "    b = 3\n",
    "    input = np.random.normal(np.zeros((b, h)))\n",
    "    labels = np.array([0,0,1]).reshape(3,1)\n",
    "    layers = [\n",
    "        Linear(np.random.normal(size=(h, 2 * h))),\n",
    "        Sigmoid(),\n",
    "        Bias(np.array([np.random.normal()])),\n",
    "        Linear(np.random.normal(size=(2 * h, 3 * h))),\n",
    "        ReLU(),\n",
    "        Linear(np.random.normal(size=(3 * h, 1))),\n",
    "        MeanSquaredError(labels)\n",
    "    ]\n",
    "    output = forward_layers(layers, input)\n",
    "    backward_layers(layers)\n",
    "    analytics = [np.copy(layer.grad)\n",
    "                 for layer in layers if layer.grad is not None]\n",
    "    zero_grad(layers)\n",
    "\n",
    "    numerical_derivative(layers, input)\n",
    "    numerics = [np.copy(layer.grad)\n",
    "                for layer in layers if layer.grad is not None]  \n",
    "    # Computing the difference between the derivative of our implemented function and the numerical derivative \n",
    "    diff = np.sum([np.linalg.norm(analytic - numeric)/np.linalg.norm(numeric)\n",
    "                   for analytic, numeric in zip(analytics, numerics)])\n",
    "    \n",
    "    assert diff < 1e-5, \"autograd differs by {} from numeric grad!\".format(diff)\n",
    "\n",
    "\n",
    "if __name__ == \"__main__\":\n",
    "    test_autograd()\n",
    "    print(\"looking good!\")\n"
   ]
  },
  {
   "cell_type": "markdown",
   "metadata": {
    "id": "Y613iZJ0pjO2"
   },
   "source": [
    "## Problem 3: Implementing a simple MLP.\n",
    "\n",
    "In this problem we will develop a neural network with fully-connected layers, aka Multi-Layer Perceptron (MLP) using the layers from Problem 2. Below, we initialize toy data  that we will use to develop your implementation."
   ]
  },
  {
   "cell_type": "code",
   "execution_count": 13,
   "metadata": {
    "colab": {
     "base_uri": "https://localhost:8080/"
    },
    "id": "gD5cHE09pVAr",
    "outputId": "e4c4c4de-d596-4146-be02-f27286d912f0"
   },
   "outputs": [
    {
     "name": "stdout",
     "output_type": "stream",
     "text": [
      "X =  (100, 1)\n",
      "y =  (100, 1)\n"
     ]
    }
   ],
   "source": [
    "# setup\n",
    "import numpy as np\n",
    "import matplotlib.pyplot as plt\n",
    "\n",
    "# Create some toy data\n",
    "X = np.linspace(-1, 1, 100).reshape(-1,1)\n",
    "y = 5*X + 2 + 0.5*np.random.normal() # noisy y\n",
    "\n",
    "print ('X = ', X.shape)\n",
    "print('y = ', y.shape)"
   ]
  },
  {
   "cell_type": "markdown",
   "metadata": {
    "id": "HtBLq2v7EiUK"
   },
   "source": [
    "We will use the following class `TwoLayerMLP` to implement our network. The network parameters are stored in the instance variable `self.params` where keys are string parameter names and values are numpy arrays. "
   ]
  },
  {
   "cell_type": "code",
   "execution_count": 14,
   "metadata": {
    "id": "HM1ia9y0RlUF"
   },
   "outputs": [
    {
     "ename": "SyntaxError",
     "evalue": "invalid syntax (<ipython-input-14-c01b6d3efae1>, line 15)",
     "output_type": "error",
     "traceback": [
      "\u001b[0;36m  File \u001b[0;32m\"<ipython-input-14-c01b6d3efae1>\"\u001b[0;36m, line \u001b[0;32m15\u001b[0m\n\u001b[0;31m    self.params['W1'] = ## -- ! code required\u001b[0m\n\u001b[0m                                               ^\u001b[0m\n\u001b[0;31mSyntaxError\u001b[0m\u001b[0;31m:\u001b[0m invalid syntax\n"
     ]
    }
   ],
   "source": [
    "class TwoLayerMLP(object):\n",
    "    def __init__(self, input_size, hidden_size, label_size, std=1e-1, activation='sigmoid'):\n",
    "        np.random.seed(0)\n",
    "        self.input_size = input_size\n",
    "        self.label_size = label_size\n",
    "        \n",
    "        self.params = {}\n",
    "\n",
    "        ## TODO: Initialize your parameters below using input_size, hidden_size, label_size\n",
    "        ## the weights of the linear layers are normally distributed with standard deviation = std\n",
    "        ## and mean = 0. The bias is zero. The structure of the network is as follows:\n",
    "        ## linear1 -> bias1 -> sigmoid -> linear 2 -> bias 2\n",
    "        \n",
    "\n",
    "        self.params['W1'] = ## -- ! code required  \n",
    "        self.params['W2'] = ## -- ! code required  \n",
    "        self.params['b1'] = ## -- ! code required  \n",
    "        self.params['b2']  = ## -- ! code required  \n",
    "        ###########################################################################\n",
    "        #                            END OF YOUR CODE\n",
    "        ###########################################################################\n",
    "        self.activation = 'sigmoid'\n",
    "        # Define the model \n",
    "        self.models = [\n",
    "                  Linear(self.params['W1']),\n",
    "                  Bias(self.params['b1']),\n",
    "                  Sigmoid(),\n",
    "                  Linear(self.params['W2']),\n",
    "                  Bias(self.params['b2'])\n",
    "                ]    \n",
    "           \n",
    "    def loss(self, X, y=None, reg=0.0):\n",
    "        # Unpack variables from the params dictionary\n",
    "        W1, b1 = self.params['W1'], self.params['b1']\n",
    "        W2, b2 = self.params['W2'], self.params['b2']\n",
    "        _, C = W2.shape\n",
    "        N, D = X.shape\n",
    "\n",
    "        ## TODO: Finish the forward pass, and compute the loss using the layers and the loss\n",
    "        ## layer in problem 2\n",
    "        ## -- ! code required  \n",
    "            \n",
    "\n",
    "            \n",
    "\n",
    "        grads = {}\n",
    "        ###########################################################################\n",
    "        # TODO: Compute the backward pass, computing the derivatives of the weights\n",
    "        # and biases. Store the results in the grads dictionary. For example,\n",
    "        # grads['W1'] should store the gradient on W1, and be a matrix of same size\n",
    "        ###########################################################################\n",
    "        ## -- ! code required  \n",
    "  \n",
    "\n",
    "\n",
    "\n",
    "        ###########################################################################\n",
    "        #                            END OF YOUR CODE\n",
    "        ###########################################################################\n",
    "        return loss, grads\n",
    "\n",
    "    def backward_layers(self, downstream_grad):\n",
    "        '''runs a backward pass on all the layers.\n",
    "        after this function is finished, look at layer.grad to find the\n",
    "        gradient with respect to that layer's parameter.'''\n",
    "        for layer in reversed(self.models):\n",
    "            downstream_grad = layer.backward(downstream_grad)\n",
    "\n",
    "    def train(self, X, y, X_val, y_val,\n",
    "            learning_rate=1e-3, learning_rate_decay=0.95,\n",
    "            reg=1e-5, num_epochs=10,\n",
    "            batch_size=1, verbose=False):\n",
    "\n",
    "        num_train = X.shape[0]\n",
    "        iterations_per_epoch = 1 \n",
    "        epoch_num = 0\n",
    "\n",
    "        # Use SGD to optimize the parameters in self.model\n",
    "        loss_history = []\n",
    "        grad_magnitude_history = []\n",
    "        train_acc_history = []\n",
    "        val_acc_history = []\n",
    "\n",
    "        np.random.seed(1)\n",
    "        for epoch in range(num_epochs):\n",
    "            # fixed permutation (within this epoch) of training data\n",
    "            perm = np.random.permutation(num_train)\n",
    "\n",
    "            # go through minibatches\n",
    "            for it in range(iterations_per_epoch):\n",
    "                X_batch = None\n",
    "                y_batch = None\n",
    "\n",
    "                # Create a random minibatch\n",
    "                idx = perm[it*batch_size:(it+1)*batch_size]\n",
    "                X_batch = X[idx, :]\n",
    "                y_batch = y[idx]\n",
    "                # Compute loss and gradients using the current minibatch\n",
    "                loss, grads = self.loss(X_batch, y=y_batch, reg=reg)\n",
    "                #print(\"loss\", loss)\n",
    "                loss_history.append(loss)\n",
    "\n",
    "                # do gradient descent\n",
    "                for param in self.params:\n",
    "                    self.params[param] -= grads[param] * learning_rate\n",
    "\n",
    "                # record gradient magnitude (Frobenius) for W1\n",
    "                grad_magnitude_history.append(np.linalg.norm(grads['W1']))\n",
    "\n",
    "            # Decay learning rate\n",
    "            learning_rate *= learning_rate_decay\n",
    "\n",
    "        return {\n",
    "          'loss_history': loss_history,\n",
    "          'grad_magnitude_history': grad_magnitude_history, \n",
    "        }\n",
    "\n"
   ]
  },
  {
   "cell_type": "markdown",
   "metadata": {
    "id": "HSkRivC0soqb"
   },
   "source": [
    "### Q3.1 Forward pass\n",
    "\n",
    "Our 2-layer MLP uses a mean squared error loss layer defined in Problem 2.\n",
    "\n",
    "Please take a look at method `TwoLayerMLP.loss`. This function takes in the data and weight parameters, and computes the class scores (output of the forward layer), the loss ($L$), and the gradients on the parameters. \n",
    "\n",
    "- Use the layers designed in **Problem 2** and implement the first part of the function to compute `scores` and `loss`. Afterwards, run the following two test cases.\n",
    "\n"
   ]
  },
  {
   "cell_type": "code",
   "execution_count": 15,
   "metadata": {
    "id": "CQPe4gxUI-2_"
   },
   "outputs": [
    {
     "ename": "NameError",
     "evalue": "name 'TwoLayerMLP' is not defined",
     "output_type": "error",
     "traceback": [
      "\u001b[0;31m---------------------------------------------------------------------------\u001b[0m",
      "\u001b[0;31mNameError\u001b[0m                                 Traceback (most recent call last)",
      "\u001b[0;32m<ipython-input-15-d1aaf2459f0f>\u001b[0m in \u001b[0;36m<module>\u001b[0;34m\u001b[0m\n\u001b[1;32m      3\u001b[0m \u001b[0mlabel_size\u001b[0m \u001b[0;34m=\u001b[0m \u001b[0;36m1\u001b[0m\u001b[0;34m\u001b[0m\u001b[0;34m\u001b[0m\u001b[0m\n\u001b[1;32m      4\u001b[0m \u001b[0;34m\u001b[0m\u001b[0m\n\u001b[0;32m----> 5\u001b[0;31m \u001b[0mnet\u001b[0m \u001b[0;34m=\u001b[0m \u001b[0mTwoLayerMLP\u001b[0m\u001b[0;34m(\u001b[0m\u001b[0minput_size\u001b[0m\u001b[0;34m,\u001b[0m \u001b[0mhidden_size\u001b[0m\u001b[0;34m,\u001b[0m \u001b[0mlabel_size\u001b[0m\u001b[0;34m)\u001b[0m\u001b[0;34m\u001b[0m\u001b[0;34m\u001b[0m\u001b[0m\n\u001b[0m\u001b[1;32m      6\u001b[0m \u001b[0mscores\u001b[0m \u001b[0;34m=\u001b[0m \u001b[0mforward_layers\u001b[0m\u001b[0;34m(\u001b[0m\u001b[0mnet\u001b[0m\u001b[0;34m.\u001b[0m\u001b[0mmodels\u001b[0m\u001b[0;34m,\u001b[0m \u001b[0mX\u001b[0m\u001b[0;34m)\u001b[0m\u001b[0;34m\u001b[0m\u001b[0;34m\u001b[0m\u001b[0m\n\u001b[1;32m      7\u001b[0m \u001b[0mprint\u001b[0m \u001b[0;34m(\u001b[0m\u001b[0;34m'(1) Your scores:\\n'\u001b[0m\u001b[0;34m)\u001b[0m\u001b[0;34m\u001b[0m\u001b[0;34m\u001b[0m\u001b[0m\n",
      "\u001b[0;31mNameError\u001b[0m: name 'TwoLayerMLP' is not defined"
     ]
    }
   ],
   "source": [
    "input_size = 1\n",
    "hidden_size = 10\n",
    "label_size = 1\n",
    "\n",
    "net = TwoLayerMLP(input_size, hidden_size, label_size)\n",
    "scores = forward_layers(net.models, X)\n",
    "print ('(1) Your scores:\\n')\n",
    "print (np.linalg.norm(scores))\n",
    "print ('\\n')\n",
    "correct_norm = 2.00385\n",
    "# # The difference should be very small (< 1e-4)\n",
    "print ('Difference between your scores and correct scores:')\n",
    "print (np.sum(np.abs(np.linalg.norm(scores) -correct_norm)))\n",
    "print ('\\n')\n",
    "\n",
    "loss, _ = net.loss(X, y, reg=0.1)\n",
    "correct_loss = 5\n",
    "\n",
    "# Since we generate random data, your loss would not be the same as the correct loss.\n",
    "# However, the difference should be fairly small (less than 1 or 2)\n",
    "print ('(2) Your loss: %f'%(loss))\n",
    "print ('Difference between your loss and correct loss:')\n",
    "print (np.sum(np.abs(loss - correct_loss)))"
   ]
  },
  {
   "cell_type": "markdown",
   "metadata": {
    "id": "n9cchDnkEX6I"
   },
   "source": [
    "## **Q3.2** Backward pass\n",
    "- Implement the second part to compute gradient of the loss with respect to the variables `W1`, `b1`, `W2`, and `b2`, stored in `grads`. \n",
    "\n",
    "Hint: you can quickly get the gradients with respect to parameters by calling **self.backward_layers**(downstream_grad).\n",
    "\n",
    "Now debug your backward pass using a numeric gradient check."
   ]
  },
  {
   "cell_type": "code",
   "execution_count": 16,
   "metadata": {
    "id": "5bJ4C4isJMxY"
   },
   "outputs": [
    {
     "ename": "NameError",
     "evalue": "name 'net' is not defined",
     "output_type": "error",
     "traceback": [
      "\u001b[0;31m---------------------------------------------------------------------------\u001b[0m",
      "\u001b[0;31mNameError\u001b[0m                                 Traceback (most recent call last)",
      "\u001b[0;32m<ipython-input-16-5152814443bb>\u001b[0m in \u001b[0;36m<module>\u001b[0;34m\u001b[0m\n\u001b[1;32m     37\u001b[0m   \u001b[0;32mreturn\u001b[0m \u001b[0mgrad\u001b[0m\u001b[0;34m\u001b[0m\u001b[0;34m\u001b[0m\u001b[0m\n\u001b[1;32m     38\u001b[0m \u001b[0;34m\u001b[0m\u001b[0m\n\u001b[0;32m---> 39\u001b[0;31m \u001b[0mloss\u001b[0m\u001b[0;34m,\u001b[0m \u001b[0mgrads\u001b[0m \u001b[0;34m=\u001b[0m \u001b[0mnet\u001b[0m\u001b[0;34m.\u001b[0m\u001b[0mloss\u001b[0m\u001b[0;34m(\u001b[0m\u001b[0mX\u001b[0m\u001b[0;34m,\u001b[0m \u001b[0my\u001b[0m\u001b[0;34m,\u001b[0m \u001b[0mreg\u001b[0m\u001b[0;34m=\u001b[0m\u001b[0;36m0.1\u001b[0m\u001b[0;34m)\u001b[0m\u001b[0;34m\u001b[0m\u001b[0;34m\u001b[0m\u001b[0m\n\u001b[0m\u001b[1;32m     40\u001b[0m \u001b[0;34m\u001b[0m\u001b[0m\n\u001b[1;32m     41\u001b[0m \u001b[0;31m# these should all be very small\u001b[0m\u001b[0;34m\u001b[0m\u001b[0;34m\u001b[0m\u001b[0;34m\u001b[0m\u001b[0m\n",
      "\u001b[0;31mNameError\u001b[0m: name 'net' is not defined"
     ]
    }
   ],
   "source": [
    "# Use numeric gradient checking to check your implementation of the backward pass.\n",
    "# If your implementation is correct, the difference between the numeric and\n",
    "# analytic gradients should be less than 1e-8 for each of W1, W2, b1, and b2.\n",
    "def rel_error(x, y):\n",
    "    \"\"\" returns relative error \"\"\"\n",
    "    return np.max(np.abs(x - y) / (np.maximum(1e-8, np.abs(x) + np.abs(y))))\n",
    "\n",
    "\n",
    "def eval_numerical_gradient(f, x, verbose=True, h=0.00001):\n",
    "  \"\"\" \n",
    "  a naive implementation of numerical gradient of f at x \n",
    "  - f should be a function that takes a single argument\n",
    "  - x is the point (numpy array) to evaluate the gradient at\n",
    "  \"\"\" \n",
    "\n",
    "  fx = f(x) # evaluate function value at original point\n",
    "  grad = np.zeros_like(x)\n",
    "  # iterate over all indexes in x\n",
    "  it = np.nditer(x, flags=['multi_index'], op_flags=['readwrite'])\n",
    "  while not it.finished:\n",
    "\n",
    "    # evaluate function at x+h\n",
    "    ix = it.multi_index\n",
    "    oldval = x[ix]\n",
    "    x[ix] = oldval + h # increment by h\n",
    "    fxph = f(x) # evalute f(x + h)\n",
    "    x[ix] = oldval - h\n",
    "    fxmh = f(x) # evaluate f(x - h)\n",
    "    x[ix] = oldval # restore\n",
    "\n",
    "    # compute the partial derivative with centered formula\n",
    "    grad[ix] = (fxph - fxmh) / (2 * h) # the slope\n",
    "    if verbose:\n",
    "      print (ix, grad[ix])\n",
    "    it.iternext() # step to next dimension\n",
    "\n",
    "  return grad\n",
    "\n",
    "loss, grads = net.loss(X, y, reg=0.1)\n",
    "\n",
    "# these should all be very small\n",
    "for param_name in grads:\n",
    "    f = lambda W: net.loss(X, y, reg=0.1)[0]\n",
    "    param_grad_num = eval_numerical_gradient(f, net.params[param_name], verbose=False)\n",
    "    print ('%s max relative error: %e' % (param_name, rel_error(param_grad_num, grads[param_name])))"
   ]
  },
  {
   "cell_type": "markdown",
   "metadata": {
    "id": "4So3UarqGLbl"
   },
   "source": [
    "## **Q3.3** Train the Sigmoid network\n",
    "To train the network we will use stochastic gradient descent (SGD), implemented in `TwoLayerNet.train`. Train the two-layer network and plot the ['loss_history']. We don't expect you to optimize the training process. As long as the the loss graph looks reasonable (loss is going down), you will get full credits. All the current hyperparameters are set to 1 so feel free to play around with these values. \n"
   ]
  },
  {
   "cell_type": "code",
   "execution_count": 17,
   "metadata": {
    "id": "dtnITSRP4Z9k"
   },
   "outputs": [
    {
     "ename": "NameError",
     "evalue": "name 'net' is not defined",
     "output_type": "error",
     "traceback": [
      "\u001b[0;31m---------------------------------------------------------------------------\u001b[0m",
      "\u001b[0;31mNameError\u001b[0m                                 Traceback (most recent call last)",
      "\u001b[0;32m<ipython-input-17-956177d92ec7>\u001b[0m in \u001b[0;36m<module>\u001b[0;34m\u001b[0m\n\u001b[0;32m----> 1\u001b[0;31m \u001b[0mstats\u001b[0m \u001b[0;34m=\u001b[0m \u001b[0mnet\u001b[0m\u001b[0;34m.\u001b[0m\u001b[0mtrain\u001b[0m\u001b[0;34m(\u001b[0m\u001b[0mX\u001b[0m\u001b[0;34m,\u001b[0m \u001b[0my\u001b[0m\u001b[0;34m,\u001b[0m \u001b[0mX\u001b[0m\u001b[0;34m,\u001b[0m \u001b[0my\u001b[0m\u001b[0;34m,\u001b[0m\u001b[0mlearning_rate\u001b[0m\u001b[0;34m=\u001b[0m\u001b[0;36m1\u001b[0m\u001b[0;34m,\u001b[0m \u001b[0mreg\u001b[0m\u001b[0;34m=\u001b[0m\u001b[0;36m1e-5\u001b[0m\u001b[0;34m,\u001b[0m \u001b[0mbatch_size\u001b[0m \u001b[0;34m=\u001b[0m \u001b[0;36m1\u001b[0m\u001b[0;34m,\u001b[0m \u001b[0mnum_epochs\u001b[0m\u001b[0;34m=\u001b[0m\u001b[0;36m1\u001b[0m\u001b[0;34m,\u001b[0m \u001b[0mverbose\u001b[0m\u001b[0;34m=\u001b[0m\u001b[0;32mFalse\u001b[0m\u001b[0;34m)\u001b[0m\u001b[0;34m\u001b[0m\u001b[0;34m\u001b[0m\u001b[0m\n\u001b[0m\u001b[1;32m      2\u001b[0m \u001b[0;31m## TODO: Plot ['loss_history'] here\u001b[0m\u001b[0;34m\u001b[0m\u001b[0;34m\u001b[0m\u001b[0;34m\u001b[0m\u001b[0m\n\u001b[1;32m      3\u001b[0m \u001b[0;31m## -- ! code required\u001b[0m\u001b[0;34m\u001b[0m\u001b[0;34m\u001b[0m\u001b[0;34m\u001b[0m\u001b[0m\n\u001b[1;32m      4\u001b[0m \u001b[0;34m\u001b[0m\u001b[0m\n\u001b[1;32m      5\u001b[0m \u001b[0;34m\u001b[0m\u001b[0m\n",
      "\u001b[0;31mNameError\u001b[0m: name 'net' is not defined"
     ]
    }
   ],
   "source": [
    "stats = net.train(X, y, X, y,learning_rate=1, reg=1e-5, batch_size = 1, num_epochs=1, verbose=False)\n",
    "## TODO: Plot ['loss_history'] here\n",
    "## -- ! code required \n",
    "\n",
    "\n"
   ]
  },
  {
   "cell_type": "markdown",
   "metadata": {
    "id": "NyQVjefVIwcQ"
   },
   "source": [
    "# Problem 4: Pytorch Intro\n",
    "## **Q4.0**: Pytorch tutorials\n",
    "This homework will introduce you to [PyTorch](https://pytorch.org), currently the fastest growing deep learning library, and the one we will use in this course.\n",
    "\n",
    "Before starting the homework, please go over these introductory tutorials on the PyTorch webpage:\n",
    "\n",
    "*   [60-minute Blitz](https://pytorch.org/tutorials/beginner/deep_learning_60min_blitz.html)"
   ]
  },
  {
   "cell_type": "code",
   "execution_count": 18,
   "metadata": {
    "id": "p9GI4YuDL-8D"
   },
   "outputs": [
    {
     "ename": "ModuleNotFoundError",
     "evalue": "No module named 'torch'",
     "output_type": "error",
     "traceback": [
      "\u001b[0;31m---------------------------------------------------------------------------\u001b[0m",
      "\u001b[0;31mModuleNotFoundError\u001b[0m                       Traceback (most recent call last)",
      "\u001b[0;32m<ipython-input-18-eb42ca6e4af3>\u001b[0m in \u001b[0;36m<module>\u001b[0;34m\u001b[0m\n\u001b[0;32m----> 1\u001b[0;31m \u001b[0;32mimport\u001b[0m \u001b[0mtorch\u001b[0m\u001b[0;34m\u001b[0m\u001b[0;34m\u001b[0m\u001b[0m\n\u001b[0m",
      "\u001b[0;31mModuleNotFoundError\u001b[0m: No module named 'torch'"
     ]
    }
   ],
   "source": [
    "import torch"
   ]
  },
  {
   "cell_type": "markdown",
   "metadata": {
    "id": "cxw9G9oyI67G"
   },
   "source": [
    "The `torch.Tensor` class is the basic building block in PyTorch and is used to hold data and parameters. The `autograd` package provides automatic differentiation for all operations on Tensors. After reading about Autograd in the tutorials above,  we will implement a few simple examples of what Autograd can do."
   ]
  },
  {
   "cell_type": "markdown",
   "metadata": {
    "id": "i9kS5w0m4pAv"
   },
   "source": [
    "## **Q4.1**. Simple function\n",
    " Use `autograd` to do backpropagation on a simple function, $f=(x+y)*z$. \n",
    "\n",
    "**Q4.1.1** Create three inputs with values $x=-2$, $y=5$ and $z=-4$ as tensors and set `requires_grad=True` to track computation on them.\n",
    "\n"
   ]
  },
  {
   "cell_type": "code",
   "execution_count": null,
   "metadata": {
    "id": "rzYKPuxYJkzh"
   },
   "outputs": [],
   "source": [
    "## -- ! code required\n",
    "\n",
    "\n"
   ]
  },
  {
   "cell_type": "markdown",
   "metadata": {
    "id": "MiEkkQJH4tah"
   },
   "source": [
    "**Q4.1.2** Compute the $q=x+y$ and $f=q \\times z$ functions, creating tensors for them in the process. Print out $q,f$, then run `f.backward(retain_graph=True)`, to compute the gradients w.r.t. $x,y,z$. The `retain_graph` attribute tells autograd to keep the computation graph around after the backward pass as opposed deleting it (freeing some memory). Print the gradients. Note that the gradient for $q$ will be `None` since it is an intermediate node, even though `requires_grad` for it is automatically set to `True`. To access gradients for intermediate nodes in PyTorch you can use hooks as mentioned in [this answer](https://discuss.pytorch.org/t/why-cant-i-see-grad-of-an-intermediate-variable/94/2). Compute the values by hand to verify your solution."
   ]
  },
  {
   "cell_type": "code",
   "execution_count": null,
   "metadata": {
    "id": "8GbpjkpQJwQp"
   },
   "outputs": [],
   "source": [
    "## -- ! code required\n",
    "\n"
   ]
  },
  {
   "cell_type": "markdown",
   "metadata": {
    "id": "RUFLoE6d4xQU"
   },
   "source": [
    "**Q4.1.3** If we now run `backward()` again, it will add the gradients to their previous values. Try it by running the above cell multiple times. This is useful in some cases, but if we just wanted to re-compute the gradients again, we need to zero them first, then run `backward()`. Add this step, then try running the  backward function multiple times to make sure the answer is the same each time!"
   ]
  },
  {
   "cell_type": "code",
   "execution_count": null,
   "metadata": {
    "id": "Ach6UcqhJyGS"
   },
   "outputs": [],
   "source": [
    "## -- ! code required\n",
    "\n"
   ]
  },
  {
   "cell_type": "markdown",
   "metadata": {
    "id": "fEXD55v9vMkC"
   },
   "source": [
    "## **Q4.2** Neuron\n",
    " Implement the function corresponding to one neuron (logistic regression unit) that we saw in the lecture and compute the gradient w.r.t. $x$ and $w$. The function is $f=\\sigma(w^Tx)$ where $\\sigma()$ is the sigmoid function. Initialize $x=[-1, -2, 1]$ and the weights to $w=[2, -3, -3]$ where $w_3$ is the bias. Print out the gradients and double check their values by hand."
   ]
  },
  {
   "cell_type": "code",
   "execution_count": null,
   "metadata": {
    "id": "2P3XfXjYJ1TE"
   },
   "outputs": [],
   "source": [
    "## -- ! code required\n",
    "\n"
   ]
  },
  {
   "cell_type": "markdown",
   "metadata": {
    "id": "hTve24kfvRVG"
   },
   "source": [
    "## **Q4.3**. torch.nn\n",
    " We will now implement the same neuron function $f$ with the same variable values as in Q4.2, but using the `Linear` class from `torch.nn`, followed by the [Sigmoid](https://pytorch.org/docs/stable/nn.html#torch.nn.Sigmoid) class. In general, many useful functions are already implemented for us in this package. Compute the gradients $\\partial f/\\partial w$ by running `backward()` and print them out (they will be stored in the Linear variable, e.g. in `.weight.grad`.) "
   ]
  },
  {
   "cell_type": "code",
   "execution_count": null,
   "metadata": {
    "id": "dGvU99m9J3u9"
   },
   "outputs": [],
   "source": [
    "## -- ! code required\n"
   ]
  },
  {
   "cell_type": "markdown",
   "metadata": {
    "id": "Fj_uO0_dvVk5"
   },
   "source": [
    "## **Q4.4** Module\n",
    " Now lets put these two functions (Linear and Sigmoid) together into a \"module\". Read the [Neural Networks tutorial](https://pytorch.org/tutorials/beginner/blitz/neural_networks_tutorial.html) if you have not already.\n",
    "\n",
    "**Q4.4.1** Make a subclass of the `Module` class, called `Neuron`. Set variables to the same values as above. You will need to define the `__init__` and `forward` methods. Our neuron would have 1 linear layer and 1 sigmoid layer.\n",
    "\n"
   ]
  },
  {
   "cell_type": "code",
   "execution_count": null,
   "metadata": {
    "id": "rcTn1__FvXVy"
   },
   "outputs": [],
   "source": [
    "import torch.nn as nn\n",
    "\n",
    "class Neuron(nn.Module):\n",
    "\n",
    "    def __init__(self):\n",
    "        super(Neuron, self).__init__()\n",
    "       ## -- ! code required\n",
    "\n",
    "    def forward(self, x):\n",
    "       ## -- ! code required\n",
    "        return x\n",
    "\n",
    "   "
   ]
  },
  {
   "cell_type": "markdown",
   "metadata": {
    "id": "bum-YdWsvZ_k"
   },
   "source": [
    "**Q4.4.2** Now create a  variable of your `Neuron` class called `my_neuron` and run backpropagation on it. Print out the gradients again. Make sure you zero out the gradients first, by calling `.zero_grad()` function of the parent class. Even if you will not re-compute the backprop, it is good practice to do this every time to avoid accumulating gradient!"
   ]
  },
  {
   "cell_type": "code",
   "execution_count": null,
   "metadata": {
    "id": "c5NIlAErJ8VK"
   },
   "outputs": [],
   "source": [
    "## -- ! code required"
   ]
  },
  {
   "cell_type": "markdown",
   "metadata": {
    "id": "N7Qm62nKvhJZ"
   },
   "source": [
    "## **Q4.5**. Loss and SGD\n",
    " Now, lets train our neuron on some data. The code below creates a toy dataset containing a few inputs $x$ and outputs $y$ (a binary 0/1 label), as well as a function that plots the data and current solution."
   ]
  },
  {
   "cell_type": "code",
   "execution_count": null,
   "metadata": {
    "colab": {
     "base_uri": "https://localhost:8080/",
     "height": 286
    },
    "id": "xq3jAoO8vilS",
    "outputId": "53e4e81c-6785-439c-96e0-026d2ef125d6"
   },
   "outputs": [],
   "source": [
    "import matplotlib.pyplot as plt\n",
    "\n",
    "# create some toy 2-D datapoints with binary (0/1) labels\n",
    "x = torch.tensor([[1.2, 1], [0.2, 1.4], [0.5, 0.5], \n",
    "                  [-1.5, -1.3], [0.2, -1.4], [-0.7, -0.5]])\n",
    "y = torch.tensor([0, 0, 0, 1, 1, 1 ])\n",
    "\n",
    "def plot_soln(x, y, params):\n",
    "  plt.plot(x[y==1,0], x[y==1,1], 'r+')\n",
    "  plt.plot(x[y==0,0], x[y==0,1], 'b.')\n",
    "  plt.grid(True)\n",
    "  plt.axis([-2, 2, -2, 2])\n",
    "  \n",
    "  # NOTE : This may depend on how you implement Neuron.\n",
    "  #   Change accordingly\n",
    "  w0 = params[0][0][0].item()\n",
    "  w1 = params[0][0][1].item()\n",
    "  bias = params[1][0].item()\n",
    "  \n",
    "  print(\"w0 =\", w0, \"w1 =\", w1, \"bias =\", bias)\n",
    "  dbx = torch.tensor([-2, 2])\n",
    "  dby = -(1/w1)*(w0*dbx + bias)  # plot the line corresponding to the weights and bias\n",
    "  plt.plot(dbx, dby)\n",
    "\n",
    "params = list(my_neuron.parameters())\n",
    "plot_soln(x, y, params)"
   ]
  },
  {
   "cell_type": "markdown",
   "metadata": {
    "id": "WOYoZkq1vkxt"
   },
   "source": [
    "**Q4.5.1** Declare an object `criterion` of type `nn.CrossEntropyLoss`. Note that this can be called as a function on two tensors, one representing the network outputs and the other, the targets that the network is being trained to predict, to return the loss. Print the value of the loss on the dataset using the initial weights and bias defined above in Q4.2."
   ]
  },
  {
   "cell_type": "code",
   "execution_count": null,
   "metadata": {
    "id": "KZBNql1CLUoo"
   },
   "outputs": [],
   "source": [
    "## -- ! code required\n",
    "\n"
   ]
  },
  {
   "cell_type": "markdown",
   "metadata": {
    "id": "wJFVZfscvtix"
   },
   "source": [
    "**Q4.5.2** Print out the chain of `grad_fn` functions backwards starting from `loss.grad_fn`  to demonstrate what backpropagation will be run on."
   ]
  },
  {
   "cell_type": "code",
   "execution_count": null,
   "metadata": {
    "id": "AbfZKQpzLtRh"
   },
   "outputs": [],
   "source": [
    "## -- ! code required\n",
    "\n"
   ]
  },
  {
   "cell_type": "markdown",
   "metadata": {
    "id": "GdX99YRGvxiU"
   },
   "source": [
    "**Q4.5.3** Run the Stochastic Gradient Descent (SGD) optimizer from the `torch.optim` package to train your classifier on the toy dataset. Use the entire dataset in each batch. Use a learning rate of $0.01$ (no other hyperparameters). You will need to write a training loop that uses the `.step()` function of the optimizer. Plot the solution and print the loss after 1000 iterations."
   ]
  },
  {
   "cell_type": "code",
   "execution_count": null,
   "metadata": {
    "id": "-5uCm4KcL5K5"
   },
   "outputs": [],
   "source": [
    "import torch.optim as optim\n",
    "\n",
    "# create your optimizer\n",
    "optimizer = optim.SGD(my_neuron.parameters(), lr=0.01)\n",
    "\n",
    "# training loop\n",
    "for i in range(10000):\n",
    "  ## -- ! code required\n",
    "\n",
    "\n",
    "\n",
    "\n",
    "print(\"loss =\", loss.item())\n",
    "params = list(my_neuron.parameters())\n",
    "plot_soln(x, y, params)"
   ]
  },
  {
   "cell_type": "markdown",
   "metadata": {
    "id": "ed2aFhiYK-vb"
   },
   "source": [
    "**Q4.5.4** How many thousands of iterations does it take (approximately) until the neuron learns to classify the data correctly?"
   ]
  },
  {
   "cell_type": "markdown",
   "metadata": {
    "id": "0tuMoY6JLG_C"
   },
   "source": [
    "***Solution***\n",
    "\n"
   ]
  },
  {
   "cell_type": "markdown",
   "metadata": {
    "id": "7MdGRt1jOmBX"
   },
   "source": [
    "## **Q4.6**. Hidden space ablation\n",
    "\n",
    "Now let's look at the size of network's hidden space. We will create and train a **2-layer MLP** network on the [SVHN Dataset](http://ufldl.stanford.edu/housenumbers/).\n",
    "\n",
    "The SVHN dataset consists of photos of house numbers, collected automatically using Google's Street View. Recognizing multi-digit numbers in photographs captured at street level is an important component of modern-day map making. Google’s Street View imagery contains hundreds of millions of geo-located 360 degree panoramic images. The ability to automatically transcribe an address number from a geo-located patch of pixels and associate the transcribed number with a known street address helps pinpoint, with a high degree of accuracy, the location of the building it represents. Below are example images from the dataset. Note that for this dataset, each image (32x32 pixels) has been cropped around a single number in its center, which is the number we want to classify.\n",
    "\n",
    "![SVHN images](http://ufldl.stanford.edu/housenumbers/32x32eg.png)\n",
    "\n",
    "In this problem, we turn the input images into grayscale and then flat them into 1-D vector. First, download the SVHN dataset using `torchvision` and display the images in the first batch. Take a look at the [Training a Classifier](https://pytorch.org/tutorials/beginner/blitz/cifar10_tutorial.html#sphx-glr-beginner-blitz-cifar10-tutorial-py) tutorial for an example. Follow the settings used there, such as the normalization, batch size of 4 for the `torch.utils.data.DataLoader`, etc.\n"
   ]
  },
  {
   "cell_type": "code",
   "execution_count": null,
   "metadata": {
    "colab": {
     "base_uri": "https://localhost:8080/",
     "height": 262,
     "referenced_widgets": [
      "cccb954e47ca41e49684afec8de9fb57",
      "98c64c764d6a4fe59acf37dc5e7c533b",
      "b1c6810a66ca443983e516f0de343ef2",
      "8c399048ca1f408eadd061478a3176fd",
      "94628a6b6a054a7a8135f944fb1b249a",
      "656ac10bf2ef430aa238bb1e77cbf531",
      "21ab7cfba07547c78705b876219fce21",
      "51825b850d544e8e838c2a692e897b16",
      "06eee8b3e3a64d0faf51e9cc357b7d5b",
      "ab6129b6a29646e293209acd27155219",
      "c636f1a2174e47f78ad321c47d9e8262"
     ]
    },
    "id": "dtdl8h1eY2dZ",
    "outputId": "ee2f49aa-15a1-40d3-e5d8-537f7f9a48c8"
   },
   "outputs": [],
   "source": [
    "# solution here\n",
    "import torch\n",
    "import torchvision\n",
    "import torchvision.transforms as transforms\n",
    "\n",
    "import matplotlib.pyplot as plt\n",
    "import numpy as np\n",
    "\n",
    "# functions to show an image\n",
    "def imshow(img):\n",
    "    img = img / 2 + 0.5     # unnormalize\n",
    "    npimg = img.numpy()\n",
    "    plt.imshow(np.transpose(npimg, (1, 2, 0)))\n",
    "\n",
    "transform = transforms.Compose(\n",
    "    [transforms.Grayscale(),\n",
    "     transforms.ToTensor(),\n",
    "     transforms.Normalize((0.5), (0.5))])\n",
    "\n",
    "trainset = torchvision.datasets.SVHN(root='./data', split='train', transform=transform, download=True)\n",
    "trainloader = torch.utils.data.DataLoader(trainset, batch_size=4, shuffle=True, num_workers=2)\n",
    "\n",
    "classes = ('0', '1', '2', '3', '4', '5', '6', '7', '8', '9')\n",
    "\n",
    "\n",
    "\n",
    "# get some random training images\n",
    "dataiter = iter(trainloader)\n",
    "images, labels = dataiter.next()\n",
    "\n",
    "# show images\n",
    "imshow(torchvision.utils.make_grid(images))\n",
    "# print labels\n",
    "print(' '.join('%5s' % classes[labels[j]] for j in range(4)))"
   ]
  },
  {
   "cell_type": "markdown",
   "metadata": {
    "id": "PBDzvc_nLfGJ"
   },
   "source": [
    "### Q4.6.1 2-layer MLP \n",
    "\n",
    "Next, we will train a 2-layer MLP on the data. We have defined a simple 2-layer MLP for you with two fc layers and ReLU activation.\n",
    "\n"
   ]
  },
  {
   "cell_type": "code",
   "execution_count": null,
   "metadata": {
    "id": "dWu68j0AaYD1"
   },
   "outputs": [],
   "source": [
    "import torch.nn as nn\n",
    "import torch.nn.functional as F\n",
    "\n",
    "class Neuron(nn.Module):\n",
    "    def __init__(self, hidden_size):\n",
    "        super(Neuron, self).__init__()\n",
    "        self.l1 = nn.Linear(1024, hidden_size)\n",
    "        self.l2 = nn.Linear(hidden_size, 10)\n",
    "\n",
    "    def forward(self, x):\n",
    "        x = x.view(-1, 1024)\n",
    "        x = F.relu(self.l1(x))\n",
    "        x = self.l2(x)\n",
    "        return x"
   ]
  },
  {
   "cell_type": "markdown",
   "metadata": {
    "id": "n7OMjOH0MXpR"
   },
   "source": [
    "You can check the number of parameters in the model by printing out the model summary."
   ]
  },
  {
   "cell_type": "code",
   "execution_count": null,
   "metadata": {
    "colab": {
     "base_uri": "https://localhost:8080/"
    },
    "id": "tyODwJ0rJYq1",
    "outputId": "1a1999c6-56a9-4667-daf6-f0b97a280361"
   },
   "outputs": [],
   "source": [
    "def model_summary(model):\n",
    "  print(\"model_summary\")\n",
    "  print()\n",
    "  print(\"Layer_name\"+\"\\t\"*7+\"Number of Parameters\")\n",
    "  print(\"=\"*100)\n",
    "  model_parameters = [layer for layer in model.parameters() if layer.requires_grad]\n",
    "  layer_name = [child for child in model.children()]\n",
    "  j = 0\n",
    "  total_params = 0\n",
    "  print(\"\\t\"*10)\n",
    "  for i in layer_name:\n",
    "    print()\n",
    "    param = 0\n",
    "    try:\n",
    "      bias = (i.bias is not None)\n",
    "    except:\n",
    "      bias = False  \n",
    "    if not bias:\n",
    "      param =model_parameters[j].numel()+model_parameters[j+1].numel()\n",
    "      j = j+2\n",
    "    else:\n",
    "      param =model_parameters[j].numel()\n",
    "      j = j+1\n",
    "    print(str(i)+\"\\t\"*3+str(param))\n",
    "    total_params+=param\n",
    "  print(\"=\"*100)\n",
    "  print(f\"Total Params:{total_params}\")       \n",
    "\n",
    "my_neuron = Neuron(10)\n",
    "model_summary(my_neuron)"
   ]
  },
  {
   "cell_type": "markdown",
   "metadata": {
    "id": "LOqfDwW7MmCM"
   },
   "source": [
    "Instantiate the cross-entropy loss `criterion`, and an SGD optimizer from the `torch.optim` package with learning rate $.001$ and momentum $.9$. You may also want to enable GPU training using `torch.device()`."
   ]
  },
  {
   "cell_type": "code",
   "execution_count": null,
   "metadata": {
    "id": "m60vdKuIMIM1"
   },
   "outputs": [],
   "source": [
    "import torch.optim as optim\n",
    "\n",
    "## -- ! code required\n",
    "criterion = None\n",
    "optimizer = None\n",
    "\n",
    "device = torch.device(\"cuda:0\" if torch.cuda.is_available() else \"cpu\")\n",
    "# if we set the hardware to GPU in the Notebook settings, this should print a CUDA device:\n",
    "print(device)\n",
    "\n",
    "my_neuron.to(device)\n"
   ]
  },
  {
   "cell_type": "markdown",
   "metadata": {
    "id": "rnYmjlVnM-a0"
   },
   "source": [
    "### Q4.6.2 Training\n",
    "Complete the training loop that makes five full passes through the dataset (five epochs) using SGD. Your batch size should be 4 and hidden size is 10. \n"
   ]
  },
  {
   "cell_type": "code",
   "execution_count": null,
   "metadata": {
    "id": "SVc3vjnsZYD-"
   },
   "outputs": [],
   "source": [
    "my_neuron = Neuron(10)\n",
    "\n",
    "# num of epoch\n",
    "stats = []\n",
    "for epoch in range(5):\n",
    "  running_loss = 0.0\n",
    "  for i, data in enumerate(trainloader, 0):\n",
    "    inputs, labels = data\n",
    "    inputs, labels = inputs.to(device), labels.to(device)\n",
    "\n",
    "    ## -- ! code required  \n",
    "    \n",
    "\n",
    "\n",
    "    # print statistics\n",
    "    running_loss += loss.item()\n",
    "    if i % 2000 == 1999:    # print every 2000 mini-batches\n",
    "        print('[%d, %5d] loss: %.3f' %\n",
    "              (epoch + 1, i + 1, running_loss / 2000))\n",
    "        stats.append(running_loss / 2000)\n",
    "        running_loss = 0.0\n"
   ]
  },
  {
   "cell_type": "markdown",
   "metadata": {
    "id": "yCnLhyMWNdU9"
   },
   "source": [
    "Train the model again but this time set the hidden size as 100. \n"
   ]
  },
  {
   "cell_type": "code",
   "execution_count": null,
   "metadata": {
    "id": "gX8xQGf4Zayy"
   },
   "outputs": [],
   "source": [
    "my_neuron_large = Neuron(100)\n",
    "\n",
    "# create your optimizer\n",
    "optimizer = ## -- ! code required \n",
    "\n",
    "# num of epoch\n",
    "stats_v2 = []\n",
    "for epoch in range(5):\n",
    "  running_loss = 0.0\n",
    "  for i, data in enumerate(trainloader, 0):\n",
    "    inputs, labels = data\n",
    "    #inputs, labels = inputs.to(device), labels.to(device)\n",
    "    optimizer.zero_grad()   # zero the gradient buffers\n",
    "    outputs = my_neuron_large(inputs)\n",
    "    loss = criterion(outputs, labels)\n",
    "    loss.backward()\n",
    "    optimizer.step()\n",
    "\n",
    "    # print statistics\n",
    "    running_loss += loss.item()\n",
    "    if i % 2000 == 1999:    # print every 2000 mini-batches\n",
    "        print('[%d, %5d] loss: %.3f' %\n",
    "              (epoch + 1, i + 1, running_loss / 2000))\n",
    "        stats_v2.append(running_loss / 2000)\n",
    "        running_loss = 0.0\n"
   ]
  },
  {
   "cell_type": "markdown",
   "metadata": {
    "id": "4cGSgfUiNn63"
   },
   "source": [
    "### Q4.6.3\n",
    "\n",
    "Plot the loss of the model with hidden_size=10 with hidden_size=100 and compare the performances."
   ]
  },
  {
   "cell_type": "code",
   "execution_count": null,
   "metadata": {
    "id": "li05qkZ-ZfzN"
   },
   "outputs": [],
   "source": [
    "## -- ! code required \n"
   ]
  },
  {
   "cell_type": "markdown",
   "metadata": {
    "id": "ZXCDFdORONV2"
   },
   "source": [
    "**Solution here:**"
   ]
  },
  {
   "cell_type": "code",
   "execution_count": null,
   "metadata": {
    "id": "EhLVHz1oMylI"
   },
   "outputs": [],
   "source": []
  }
 ],
 "metadata": {
  "colab": {
   "collapsed_sections": [],
   "name": "HW2.ipynb",
   "provenance": []
  },
  "kernelspec": {
   "display_name": "cs523",
   "language": "python",
   "name": "cs523"
  },
  "language_info": {
   "codemirror_mode": {
    "name": "ipython",
    "version": 3
   },
   "file_extension": ".py",
   "mimetype": "text/x-python",
   "name": "python",
   "nbconvert_exporter": "python",
   "pygments_lexer": "ipython3",
   "version": "3.7.2"
  },
  "widgets": {
   "application/vnd.jupyter.widget-state+json": {
    "06eee8b3e3a64d0faf51e9cc357b7d5b": {
     "model_module": "@jupyter-widgets/controls",
     "model_module_version": "1.5.0",
     "model_name": "ProgressStyleModel",
     "state": {
      "_model_module": "@jupyter-widgets/controls",
      "_model_module_version": "1.5.0",
      "_model_name": "ProgressStyleModel",
      "_view_count": null,
      "_view_module": "@jupyter-widgets/base",
      "_view_module_version": "1.2.0",
      "_view_name": "StyleView",
      "bar_color": null,
      "description_width": ""
     }
    },
    "21ab7cfba07547c78705b876219fce21": {
     "model_module": "@jupyter-widgets/controls",
     "model_module_version": "1.5.0",
     "model_name": "DescriptionStyleModel",
     "state": {
      "_model_module": "@jupyter-widgets/controls",
      "_model_module_version": "1.5.0",
      "_model_name": "DescriptionStyleModel",
      "_view_count": null,
      "_view_module": "@jupyter-widgets/base",
      "_view_module_version": "1.2.0",
      "_view_name": "StyleView",
      "description_width": ""
     }
    },
    "51825b850d544e8e838c2a692e897b16": {
     "model_module": "@jupyter-widgets/base",
     "model_module_version": "1.2.0",
     "model_name": "LayoutModel",
     "state": {
      "_model_module": "@jupyter-widgets/base",
      "_model_module_version": "1.2.0",
      "_model_name": "LayoutModel",
      "_view_count": null,
      "_view_module": "@jupyter-widgets/base",
      "_view_module_version": "1.2.0",
      "_view_name": "LayoutView",
      "align_content": null,
      "align_items": null,
      "align_self": null,
      "border": null,
      "bottom": null,
      "display": null,
      "flex": null,
      "flex_flow": null,
      "grid_area": null,
      "grid_auto_columns": null,
      "grid_auto_flow": null,
      "grid_auto_rows": null,
      "grid_column": null,
      "grid_gap": null,
      "grid_row": null,
      "grid_template_areas": null,
      "grid_template_columns": null,
      "grid_template_rows": null,
      "height": null,
      "justify_content": null,
      "justify_items": null,
      "left": null,
      "margin": null,
      "max_height": null,
      "max_width": null,
      "min_height": null,
      "min_width": null,
      "object_fit": null,
      "object_position": null,
      "order": null,
      "overflow": null,
      "overflow_x": null,
      "overflow_y": null,
      "padding": null,
      "right": null,
      "top": null,
      "visibility": null,
      "width": null
     }
    },
    "656ac10bf2ef430aa238bb1e77cbf531": {
     "model_module": "@jupyter-widgets/base",
     "model_module_version": "1.2.0",
     "model_name": "LayoutModel",
     "state": {
      "_model_module": "@jupyter-widgets/base",
      "_model_module_version": "1.2.0",
      "_model_name": "LayoutModel",
      "_view_count": null,
      "_view_module": "@jupyter-widgets/base",
      "_view_module_version": "1.2.0",
      "_view_name": "LayoutView",
      "align_content": null,
      "align_items": null,
      "align_self": null,
      "border": null,
      "bottom": null,
      "display": null,
      "flex": null,
      "flex_flow": null,
      "grid_area": null,
      "grid_auto_columns": null,
      "grid_auto_flow": null,
      "grid_auto_rows": null,
      "grid_column": null,
      "grid_gap": null,
      "grid_row": null,
      "grid_template_areas": null,
      "grid_template_columns": null,
      "grid_template_rows": null,
      "height": null,
      "justify_content": null,
      "justify_items": null,
      "left": null,
      "margin": null,
      "max_height": null,
      "max_width": null,
      "min_height": null,
      "min_width": null,
      "object_fit": null,
      "object_position": null,
      "order": null,
      "overflow": null,
      "overflow_x": null,
      "overflow_y": null,
      "padding": null,
      "right": null,
      "top": null,
      "visibility": null,
      "width": null
     }
    },
    "8c399048ca1f408eadd061478a3176fd": {
     "model_module": "@jupyter-widgets/controls",
     "model_module_version": "1.5.0",
     "model_name": "HTMLModel",
     "state": {
      "_dom_classes": [],
      "_model_module": "@jupyter-widgets/controls",
      "_model_module_version": "1.5.0",
      "_model_name": "HTMLModel",
      "_view_count": null,
      "_view_module": "@jupyter-widgets/controls",
      "_view_module_version": "1.5.0",
      "_view_name": "HTMLView",
      "description": "",
      "description_tooltip": null,
      "layout": "IPY_MODEL_ab6129b6a29646e293209acd27155219",
      "placeholder": "​",
      "style": "IPY_MODEL_c636f1a2174e47f78ad321c47d9e8262",
      "value": " 182041600/? [00:02&lt;00:00, 82484311.50it/s]"
     }
    },
    "94628a6b6a054a7a8135f944fb1b249a": {
     "model_module": "@jupyter-widgets/base",
     "model_module_version": "1.2.0",
     "model_name": "LayoutModel",
     "state": {
      "_model_module": "@jupyter-widgets/base",
      "_model_module_version": "1.2.0",
      "_model_name": "LayoutModel",
      "_view_count": null,
      "_view_module": "@jupyter-widgets/base",
      "_view_module_version": "1.2.0",
      "_view_name": "LayoutView",
      "align_content": null,
      "align_items": null,
      "align_self": null,
      "border": null,
      "bottom": null,
      "display": null,
      "flex": null,
      "flex_flow": null,
      "grid_area": null,
      "grid_auto_columns": null,
      "grid_auto_flow": null,
      "grid_auto_rows": null,
      "grid_column": null,
      "grid_gap": null,
      "grid_row": null,
      "grid_template_areas": null,
      "grid_template_columns": null,
      "grid_template_rows": null,
      "height": null,
      "justify_content": null,
      "justify_items": null,
      "left": null,
      "margin": null,
      "max_height": null,
      "max_width": null,
      "min_height": null,
      "min_width": null,
      "object_fit": null,
      "object_position": null,
      "order": null,
      "overflow": null,
      "overflow_x": null,
      "overflow_y": null,
      "padding": null,
      "right": null,
      "top": null,
      "visibility": null,
      "width": null
     }
    },
    "98c64c764d6a4fe59acf37dc5e7c533b": {
     "model_module": "@jupyter-widgets/controls",
     "model_module_version": "1.5.0",
     "model_name": "HTMLModel",
     "state": {
      "_dom_classes": [],
      "_model_module": "@jupyter-widgets/controls",
      "_model_module_version": "1.5.0",
      "_model_name": "HTMLModel",
      "_view_count": null,
      "_view_module": "@jupyter-widgets/controls",
      "_view_module_version": "1.5.0",
      "_view_name": "HTMLView",
      "description": "",
      "description_tooltip": null,
      "layout": "IPY_MODEL_656ac10bf2ef430aa238bb1e77cbf531",
      "placeholder": "​",
      "style": "IPY_MODEL_21ab7cfba07547c78705b876219fce21",
      "value": ""
     }
    },
    "ab6129b6a29646e293209acd27155219": {
     "model_module": "@jupyter-widgets/base",
     "model_module_version": "1.2.0",
     "model_name": "LayoutModel",
     "state": {
      "_model_module": "@jupyter-widgets/base",
      "_model_module_version": "1.2.0",
      "_model_name": "LayoutModel",
      "_view_count": null,
      "_view_module": "@jupyter-widgets/base",
      "_view_module_version": "1.2.0",
      "_view_name": "LayoutView",
      "align_content": null,
      "align_items": null,
      "align_self": null,
      "border": null,
      "bottom": null,
      "display": null,
      "flex": null,
      "flex_flow": null,
      "grid_area": null,
      "grid_auto_columns": null,
      "grid_auto_flow": null,
      "grid_auto_rows": null,
      "grid_column": null,
      "grid_gap": null,
      "grid_row": null,
      "grid_template_areas": null,
      "grid_template_columns": null,
      "grid_template_rows": null,
      "height": null,
      "justify_content": null,
      "justify_items": null,
      "left": null,
      "margin": null,
      "max_height": null,
      "max_width": null,
      "min_height": null,
      "min_width": null,
      "object_fit": null,
      "object_position": null,
      "order": null,
      "overflow": null,
      "overflow_x": null,
      "overflow_y": null,
      "padding": null,
      "right": null,
      "top": null,
      "visibility": null,
      "width": null
     }
    },
    "b1c6810a66ca443983e516f0de343ef2": {
     "model_module": "@jupyter-widgets/controls",
     "model_module_version": "1.5.0",
     "model_name": "FloatProgressModel",
     "state": {
      "_dom_classes": [],
      "_model_module": "@jupyter-widgets/controls",
      "_model_module_version": "1.5.0",
      "_model_name": "FloatProgressModel",
      "_view_count": null,
      "_view_module": "@jupyter-widgets/controls",
      "_view_module_version": "1.5.0",
      "_view_name": "ProgressView",
      "bar_style": "success",
      "description": "",
      "description_tooltip": null,
      "layout": "IPY_MODEL_51825b850d544e8e838c2a692e897b16",
      "max": 182040794,
      "min": 0,
      "orientation": "horizontal",
      "style": "IPY_MODEL_06eee8b3e3a64d0faf51e9cc357b7d5b",
      "value": 182040794
     }
    },
    "c636f1a2174e47f78ad321c47d9e8262": {
     "model_module": "@jupyter-widgets/controls",
     "model_module_version": "1.5.0",
     "model_name": "DescriptionStyleModel",
     "state": {
      "_model_module": "@jupyter-widgets/controls",
      "_model_module_version": "1.5.0",
      "_model_name": "DescriptionStyleModel",
      "_view_count": null,
      "_view_module": "@jupyter-widgets/base",
      "_view_module_version": "1.2.0",
      "_view_name": "StyleView",
      "description_width": ""
     }
    },
    "cccb954e47ca41e49684afec8de9fb57": {
     "model_module": "@jupyter-widgets/controls",
     "model_module_version": "1.5.0",
     "model_name": "HBoxModel",
     "state": {
      "_dom_classes": [],
      "_model_module": "@jupyter-widgets/controls",
      "_model_module_version": "1.5.0",
      "_model_name": "HBoxModel",
      "_view_count": null,
      "_view_module": "@jupyter-widgets/controls",
      "_view_module_version": "1.5.0",
      "_view_name": "HBoxView",
      "box_style": "",
      "children": [
       "IPY_MODEL_98c64c764d6a4fe59acf37dc5e7c533b",
       "IPY_MODEL_b1c6810a66ca443983e516f0de343ef2",
       "IPY_MODEL_8c399048ca1f408eadd061478a3176fd"
      ],
      "layout": "IPY_MODEL_94628a6b6a054a7a8135f944fb1b249a"
     }
    }
   }
  }
 },
 "nbformat": 4,
 "nbformat_minor": 1
}
